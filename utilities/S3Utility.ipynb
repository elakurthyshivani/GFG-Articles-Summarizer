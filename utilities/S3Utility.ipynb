{
 "cells": [
  {
   "cell_type": "markdown",
   "id": "8c03ca30-8178-41ee-888d-d7365de7ae98",
   "metadata": {},
   "source": [
    "# **Functions interacting with Amazon S3**"
   ]
  },
  {
   "cell_type": "code",
   "execution_count": 1,
   "id": "99444b88-e0df-4727-bb57-251ef46460e0",
   "metadata": {
    "tags": []
   },
   "outputs": [
    {
     "name": "stdout",
     "output_type": "stream",
     "text": [
      "Requirement already satisfied: boto3 in /home/ec2-user/anaconda3/envs/python3/lib/python3.10/site-packages (1.28.41)\n",
      "Requirement already satisfied: botocore<1.32.0,>=1.31.41 in /home/ec2-user/anaconda3/envs/python3/lib/python3.10/site-packages (from boto3) (1.31.41)\n",
      "Requirement already satisfied: jmespath<2.0.0,>=0.7.1 in /home/ec2-user/anaconda3/envs/python3/lib/python3.10/site-packages (from boto3) (1.0.1)\n",
      "Requirement already satisfied: s3transfer<0.7.0,>=0.6.0 in /home/ec2-user/anaconda3/envs/python3/lib/python3.10/site-packages (from boto3) (0.6.1)\n",
      "Requirement already satisfied: python-dateutil<3.0.0,>=2.1 in /home/ec2-user/anaconda3/envs/python3/lib/python3.10/site-packages (from botocore<1.32.0,>=1.31.41->boto3) (2.8.2)\n",
      "Requirement already satisfied: urllib3<1.27,>=1.25.4 in /home/ec2-user/anaconda3/envs/python3/lib/python3.10/site-packages (from botocore<1.32.0,>=1.31.41->boto3) (1.26.14)\n",
      "Requirement already satisfied: six>=1.5 in /home/ec2-user/anaconda3/envs/python3/lib/python3.10/site-packages (from python-dateutil<3.0.0,>=2.1->botocore<1.32.0,>=1.31.41->boto3) (1.16.0)\n"
     ]
    }
   ],
   "source": [
    "import sys\n",
    "\n",
    "!{sys.executable} -m pip install boto3"
   ]
  },
  {
   "cell_type": "markdown",
   "id": "959ea59f-ec3b-4ce8-9ebf-ff8f22561264",
   "metadata": {},
   "source": [
    "## **`saveModelToS3()`**\n",
    "\n",
    "Saves a model to S3. The model must be saved locally before saving to S3.\n",
    "\n",
    "**Params**:\n",
    "\n",
    "- `modelFolderName`: The folder in which the model is saved.\n",
    "\n",
    "- `bucketName`: Name of the S3 bucket into which the model must be saved.\n",
    "\n",
    "- `destinationFolder`: Path in the S3 bucket in which the model must be saved."
   ]
  },
  {
   "cell_type": "code",
   "execution_count": 2,
   "id": "150c92c3-7821-47c0-8132-03836159d12e",
   "metadata": {
    "tags": []
   },
   "outputs": [],
   "source": [
    "import boto3, os"
   ]
  },
  {
   "cell_type": "code",
   "execution_count": 3,
   "id": "830e6b6e-a299-414b-8639-d39cdbb5d6f9",
   "metadata": {
    "tags": []
   },
   "outputs": [],
   "source": [
    "def saveModelToS3(modelFolderName : str, \n",
    "                  bucketName : str, \n",
    "                  destinationFolder : str):\n",
    "    \n",
    "    try:\n",
    "        s3Client=boto3.client(\"s3\")\n",
    "        for root, dirs, files in os.walk(modelFolderName, topdown=False):\n",
    "            if len(files)>0:\n",
    "                for file in files:\n",
    "                    s3Client.upload_file(f\"{root}/{file}\", \n",
    "                                         bucketName, \n",
    "                                         f\"{destinationFolder}/{root}/{file}\")\n",
    "    \n",
    "    except Exception as err:\n",
    "        print(f\"Exception : {err}\")\n",
    "        return None"
   ]
  },
  {
   "cell_type": "code",
   "execution_count": null,
   "id": "aebbca9c-a481-49a9-ad5f-d2a0bfc182b4",
   "metadata": {},
   "outputs": [],
   "source": []
  }
 ],
 "metadata": {
  "kernelspec": {
   "display_name": "conda_python3",
   "language": "python",
   "name": "conda_python3"
  },
  "language_info": {
   "codemirror_mode": {
    "name": "ipython",
    "version": 3
   },
   "file_extension": ".py",
   "mimetype": "text/x-python",
   "name": "python",
   "nbconvert_exporter": "python",
   "pygments_lexer": "ipython3",
   "version": "3.10.12"
  }
 },
 "nbformat": 4,
 "nbformat_minor": 5
}
