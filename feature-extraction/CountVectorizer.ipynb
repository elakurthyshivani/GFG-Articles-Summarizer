{
 "cells": [
  {
   "cell_type": "markdown",
   "id": "81e861f4-dbe9-4a7b-8a90-88ea827af470",
   "metadata": {},
   "source": [
    "# **Count Vectorizer**"
   ]
  },
  {
   "cell_type": "markdown",
   "id": "928d06db-2ec7-4111-9fae-1b085b803874",
   "metadata": {},
   "source": [
    "## **Install packages if not yet installed**"
   ]
  },
  {
   "cell_type": "code",
   "execution_count": 1,
   "id": "703db3a2-831a-4758-ae11-bfbe0448644b",
   "metadata": {
    "tags": []
   },
   "outputs": [
    {
     "name": "stdout",
     "output_type": "stream",
     "text": [
      "Requirement already satisfied: cassandra-driver in /home/ec2-user/anaconda3/envs/python3/lib/python3.10/site-packages (3.28.0)\n",
      "Requirement already satisfied: six>=1.9 in /home/ec2-user/anaconda3/envs/python3/lib/python3.10/site-packages (from cassandra-driver) (1.16.0)\n",
      "Requirement already satisfied: geomet<0.3,>=0.1 in /home/ec2-user/anaconda3/envs/python3/lib/python3.10/site-packages (from cassandra-driver) (0.2.1.post1)\n",
      "Requirement already satisfied: click in /home/ec2-user/anaconda3/envs/python3/lib/python3.10/site-packages (from geomet<0.3,>=0.1->cassandra-driver) (8.1.6)\n"
     ]
    }
   ],
   "source": [
    "import sys\n",
    "\n",
    "!{sys.executable} -m pip install cassandra-driver # Cassandra"
   ]
  },
  {
   "cell_type": "code",
   "execution_count": 2,
   "id": "0c9375e4-7496-48c4-8129-15b8b063035b",
   "metadata": {
    "tags": []
   },
   "outputs": [],
   "source": [
    "%run ../EnvironmentVariablesSetup.ipynb"
   ]
  },
  {
   "cell_type": "markdown",
   "id": "794329a4-b402-4a5a-8824-340283db21de",
   "metadata": {},
   "source": [
    "## **Read database from Keyspaces using PySpark**\n",
    "\n",
    "**1.** Download the required jar files (`spark-cassandra-connector_2.12-3.3.0.jar, spark-cassandra-connector-assembly_2.12-3.3.0.jar`).\n",
    "\n",
    "**2.** Download your `cassandra_truststore.jks` file.\n",
    "\n",
    "**3.** Create `application.conf` file.\n",
    "\n",
    "**4.** Create `SparkSession` and set the configuration to connect to Keyspaces using service-specific credentials.\n",
    "\n",
    "**5.** Read all rows from `BasicPreprocessedGFGArticles` table, `GFGArticles` keyspace into PySpark dataframe."
   ]
  },
  {
   "cell_type": "code",
   "execution_count": 3,
   "id": "e242bf11-34f1-4661-9a33-e7bf425ad3d4",
   "metadata": {
    "tags": []
   },
   "outputs": [],
   "source": [
    "import pandas as pd\n",
    "import numpy as np\n",
    "from pyspark.sql import SparkSession\n",
    "# import pyspark.pandas as ps\n",
    "# from pyspark.sql.types import StructType, StructField, StringType, IntegerType"
   ]
  },
  {
   "cell_type": "code",
   "execution_count": 4,
   "id": "9c6c840f-1b28-466d-869e-f8086fe9fb10",
   "metadata": {
    "tags": []
   },
   "outputs": [
    {
     "name": "stdout",
     "output_type": "stream",
     "text": [
      "23/09/26 21:12:06 WARN NativeCodeLoader: Unable to load native-hadoop library for your platform... using builtin-java classes where applicable\n"
     ]
    },
    {
     "name": "stderr",
     "output_type": "stream",
     "text": [
      "Setting default log level to \"WARN\".\n",
      "To adjust logging level use sc.setLogLevel(newLevel). For SparkR, use setLogLevel(newLevel).\n"
     ]
    },
    {
     "data": {
      "text/plain": [
       "'3.3.0'"
      ]
     },
     "execution_count": 4,
     "metadata": {},
     "output_type": "execute_result"
    }
   ],
   "source": [
    "spark=SparkSession.builder.appName(\"BasicTextPreprocessing\")\\\n",
    "    .config(\"spark.files\", \"../application.conf\")\\\n",
    "    .config(\"spark.jars\", \"../jar-files/spark-cassandra-connector_2.12-3.3.0.jar,\"\n",
    "                            \"../jar-files/spark-cassandra-connector-assembly_2.12-3.3.0.jar\")\\\n",
    "    .getOrCreate()\n",
    "\n",
    "spark.conf.set(\"spark.cassandra.connection.config.profile.path\", \"application.conf\")\n",
    "spark.conf.set(\"spark.cassandra.connection.ssl.clientAuth.enabled\", \"true\")\n",
    "spark.conf.set(\"spark.cassandra.connection.ssl.enabled\", \"true\")\n",
    "# spark.conf.set(\"spark.sql.extensions\", \"com.datastax.spark.connector.CassandraSparkExtensions\")\n",
    "\n",
    "# Spark version\n",
    "spark.sparkContext.version"
   ]
  },
  {
   "cell_type": "code",
   "execution_count": 5,
   "id": "c94a47af-b504-49f5-a1a2-7ee57d0454a6",
   "metadata": {
    "tags": []
   },
   "outputs": [
    {
     "name": "stdout",
     "output_type": "stream",
     "text": [
      "23/09/26 21:12:09 WARN CassandraConnectionFactory: Ignoring all programmatic configuration, only using configuration from application.conf\n"
     ]
    },
    {
     "name": "stderr",
     "output_type": "stream",
     "text": [
      "[Stage 0:>                                                          (0 + 1) / 1]\r"
     ]
    },
    {
     "name": "stdout",
     "output_type": "stream",
     "text": [
      "+-----+--------------------+\n",
      "|   ID| PreprocessedContent|\n",
      "+-----+--------------------+\n",
      "|17036|b b c c answer ex...|\n",
      "|16625|give two array ta...|\n",
      "|  188|c strcat function...|\n",
      "|  564|world programming...|\n",
      "|11971|article know appr...|\n",
      "+-----+--------------------+\n",
      "only showing top 5 rows\n",
      "\n"
     ]
    },
    {
     "name": "stderr",
     "output_type": "stream",
     "text": [
      "                                                                                \r"
     ]
    }
   ],
   "source": [
    "articles=spark.read\\\n",
    "  .format(\"org.apache.spark.sql.cassandra\")\\\n",
    "  .options(table=\"BasicPreprocessedGFGArticles\", keyspace=\"GFGArticles\")\\\n",
    "  .load()\n",
    "\n",
    "articles.show(5)"
   ]
  },
  {
   "cell_type": "markdown",
   "id": "95c7eaaa-df15-4353-afcb-d8c5f7bf6650",
   "metadata": {},
   "source": [
    "## **Convert the preprocessed content into tokens**"
   ]
  },
  {
   "cell_type": "code",
   "execution_count": 6,
   "id": "eedb2fc3-0382-46b6-a4bb-b8748331a996",
   "metadata": {
    "tags": []
   },
   "outputs": [],
   "source": [
    "from pyspark.ml.feature import Tokenizer"
   ]
  },
  {
   "cell_type": "code",
   "execution_count": 7,
   "id": "8aba86b0-ef92-4965-bde3-87c80072f74d",
   "metadata": {
    "tags": []
   },
   "outputs": [
    {
     "name": "stdout",
     "output_type": "stream",
     "text": [
      "+-----+--------------------+--------------------+\n",
      "|   ID| PreprocessedContent|              Tokens|\n",
      "+-----+--------------------+--------------------+\n",
      "|31599|give string conta...|[give, string, co...|\n",
      "|14638|primary memory li...|[primary, memory,...|\n",
      "| 5992|database offer nu...|[database, offer,...|\n",
      "|29258|article learn det...|[article, learn, ...|\n",
      "| 7998|give two string x...|[give, two, strin...|\n",
      "+-----+--------------------+--------------------+\n",
      "only showing top 5 rows\n",
      "\n"
     ]
    }
   ],
   "source": [
    "tokenizer=Tokenizer(inputCol=\"PreprocessedContent\", outputCol=\"Tokens\")\n",
    "articles=tokenizer.transform(articles).toDF(\"ID\", \"PreprocessedContent\", \"Tokens\")\n",
    "articles.show(5)"
   ]
  },
  {
   "cell_type": "markdown",
   "id": "7af24435-734b-486c-b5e2-04a768450a66",
   "metadata": {},
   "source": [
    "## **CountVectorizer**"
   ]
  },
  {
   "cell_type": "code",
   "execution_count": 8,
   "id": "b48d3f38-0363-43cb-a3ee-d8ac86ba1543",
   "metadata": {
    "tags": []
   },
   "outputs": [],
   "source": [
    "from pyspark.ml.feature import CountVectorizer"
   ]
  },
  {
   "cell_type": "code",
   "execution_count": 9,
   "id": "4cc5aa11-44d2-45cf-a4f2-90f889a5bf89",
   "metadata": {
    "tags": []
   },
   "outputs": [
    {
     "name": "stderr",
     "output_type": "stream",
     "text": [
      "                                                                                \r"
     ]
    },
    {
     "name": "stdout",
     "output_type": "stream",
     "text": [
      "+-----+--------------------+--------------------+--------------------+\n",
      "|   ID| PreprocessedContent|              Tokens|         CountVector|\n",
      "+-----+--------------------+--------------------+--------------------+\n",
      "| 8772|consider follow p...|[consider, follow...|(50000,[8,13,20,2...|\n",
      "|11346|amcat amcat aspir...|[amcat, amcat, as...|(50000,[9,14,16,1...|\n",
      "|23825|online code round...|[online, code, ro...|(50000,[0,1,2,4,6...|\n",
      "|23790|samsung r institu...|[samsung, r, inst...|(50000,[0,1,2,4,6...|\n",
      "|13740|man command linux...|[man, command, li...|(50000,[0,1,2,4,5...|\n",
      "+-----+--------------------+--------------------+--------------------+\n",
      "only showing top 5 rows\n",
      "\n"
     ]
    }
   ],
   "source": [
    "countVec=CountVectorizer(inputCol=\"Tokens\", outputCol=\"Counts\", vocabSize=50000)\n",
    "countVecModel=countVec.fit(articles)\n",
    "articles=countVecModel.transform(articles).toDF(\"ID\", \"PreprocessedContent\", \"Tokens\", \"CountVector\")\n",
    "articles.show(5)"
   ]
  },
  {
   "cell_type": "code",
   "execution_count": 10,
   "id": "3f314cbe-5441-4618-8d6a-adb7dae4d51b",
   "metadata": {
    "tags": []
   },
   "outputs": [
    {
     "name": "stdout",
     "output_type": "stream",
     "text": [
      "root\n",
      " |-- ID: integer (nullable = false)\n",
      " |-- PreprocessedContent: string (nullable = true)\n",
      " |-- Tokens: array (nullable = true)\n",
      " |    |-- element: string (containsNull = true)\n",
      " |-- CountVector: vector (nullable = true)\n",
      "\n"
     ]
    }
   ],
   "source": [
    "# Look into the schema\n",
    "articles.printSchema()"
   ]
  },
  {
   "cell_type": "code",
   "execution_count": 11,
   "id": "2c86083c-3d35-4b2d-ade2-12e5d9e44994",
   "metadata": {
    "tags": []
   },
   "outputs": [
    {
     "data": {
      "text/plain": [
       "StructType([StructField('ID', IntegerType(), False), StructField('PreprocessedContent', StringType(), True), StructField('Tokens', ArrayType(StringType(), True), True), StructField('CountVector', VectorUDT(), True)])"
      ]
     },
     "execution_count": 11,
     "metadata": {},
     "output_type": "execute_result"
    }
   ],
   "source": [
    "# Look into the schema\n",
    "articles.schema"
   ]
  },
  {
   "cell_type": "markdown",
   "id": "f40322b4-40e5-44fe-a81d-249d444c12c5",
   "metadata": {},
   "source": [
    "## **Transform the `CountVector` into separate columns**"
   ]
  },
  {
   "cell_type": "code",
   "execution_count": 12,
   "id": "5ba31544-8fc9-406f-8f73-bfadc9cb7901",
   "metadata": {
    "tags": []
   },
   "outputs": [],
   "source": [
    "from pyspark.sql.functions import col, lit, udf\n",
    "from pyspark.sql.types import StringType, ArrayType, DoubleType, IntegerType\n",
    "from pyspark.mllib.linalg import VectorUDT, SparseVector"
   ]
  },
  {
   "cell_type": "code",
   "execution_count": 13,
   "id": "73e50bb8-3d9f-44ea-90ae-b1b30e142ced",
   "metadata": {
    "tags": []
   },
   "outputs": [
    {
     "name": "stderr",
     "output_type": "stream",
     "text": [
      "[Stage 7:>                                                          (0 + 1) / 1]\r"
     ]
    },
    {
     "name": "stdout",
     "output_type": "stream",
     "text": [
      "+-----+--------------------+--------------------+--------------------+--------------------+--------------------+\n",
      "|   ID| PreprocessedContent|              Tokens|         CountVector|     FeaturesIndices|      FeaturesValues|\n",
      "+-----+--------------------+--------------------+--------------------+--------------------+--------------------+\n",
      "|23619|give singly link ...|[give, singly, li...|(50000,[0,1,2,3,4...|[0, 1, 2, 3, 4, 8...|[1, 1, 2, 1, 1, 2...|\n",
      "|32158|recently citrix w...|[recently, citrix...|(50000,[0,2,3,4,6...|[0, 2, 3, 4, 6, 9...|[4, 1, 1, 1, 1, 2...|\n",
      "|28744|company name epik...|[company, name, e...|(50000,[0,2,4,11,...|[0, 2, 4, 11, 14,...|[1, 3, 2, 1, 1, 3...|\n",
      "|21534|give two string s...|[give, two, strin...|(50000,[0,1,2,3,4...|[0, 1, 2, 3, 4, 6...|[6, 1, 5, 6, 5, 1...|\n",
      "|23907|hexadecimal equiv...|[hexadecimal, equ...|(50000,[0,6,9,11,...|[0, 6, 9, 11, 22,...|[2, 3, 2, 1, 1, 2...|\n",
      "+-----+--------------------+--------------------+--------------------+--------------------+--------------------+\n",
      "only showing top 5 rows\n",
      "\n"
     ]
    },
    {
     "name": "stderr",
     "output_type": "stream",
     "text": [
      "                                                                                \r"
     ]
    }
   ],
   "source": [
    "# articles=articles.withColumn(\"FeaturesCount\", udf(lambda countVector : countVector.size, \n",
    "#                                          IntegerType())(col(\"CountVector\")))\n",
    "articles=articles.withColumn(\"FeaturesIndices\", udf(lambda countVector : countVector.indices.tolist(), \n",
    "                                           ArrayType(IntegerType()))(col(\"CountVector\")))\n",
    "articles=articles.withColumn(\"FeaturesValues\", udf(lambda countVector : countVector.values.astype(np.int32).tolist(), \n",
    "                                           ArrayType(IntegerType()))(col(\"CountVector\")))\n",
    "articles.show(5)"
   ]
  },
  {
   "cell_type": "markdown",
   "id": "76493276-326a-4cb0-97fd-d1f1ac5a4d9f",
   "metadata": {},
   "source": [
    "## **Write to a new table in Keyspaces**"
   ]
  },
  {
   "cell_type": "code",
   "execution_count": 14,
   "id": "342fe4b6-d922-417d-9821-db2f0bcc42e5",
   "metadata": {
    "tags": []
   },
   "outputs": [
    {
     "data": {
      "text/plain": [
       "34550"
      ]
     },
     "execution_count": 14,
     "metadata": {},
     "output_type": "execute_result"
    }
   ],
   "source": [
    "# Get the total count of articles.\n",
    "NO_OF_ARTICLES=articles[[\"ID\"]].filter(articles.ID >= 0).count()\n",
    "NO_OF_ARTICLES"
   ]
  },
  {
   "cell_type": "code",
   "execution_count": 15,
   "id": "e8334d64-c0da-48dd-acdb-a2326796fcbc",
   "metadata": {
    "tags": []
   },
   "outputs": [],
   "source": [
    "BATCH_SIZE=1024"
   ]
  },
  {
   "cell_type": "code",
   "execution_count": 17,
   "id": "5ff7aef5-c284-4125-9bb4-19d6002ce31a",
   "metadata": {
    "tags": []
   },
   "outputs": [
    {
     "name": "stderr",
     "output_type": "stream",
     "text": [
      "                                                                                \r"
     ]
    },
    {
     "name": "stdout",
     "output_type": "stream",
     "text": [
      "Saved articles with IDs between 0 and 1023.\n"
     ]
    },
    {
     "name": "stderr",
     "output_type": "stream",
     "text": [
      "                                                                                \r"
     ]
    },
    {
     "name": "stdout",
     "output_type": "stream",
     "text": [
      "Saved articles with IDs between 1024 and 2047.\n"
     ]
    },
    {
     "name": "stderr",
     "output_type": "stream",
     "text": [
      "                                                                                \r"
     ]
    },
    {
     "name": "stdout",
     "output_type": "stream",
     "text": [
      "Saved articles with IDs between 2048 and 3071.\n"
     ]
    },
    {
     "name": "stderr",
     "output_type": "stream",
     "text": [
      "                                                                                \r"
     ]
    },
    {
     "name": "stdout",
     "output_type": "stream",
     "text": [
      "Saved articles with IDs between 3072 and 4095.\n"
     ]
    },
    {
     "name": "stderr",
     "output_type": "stream",
     "text": [
      "                                                                                \r"
     ]
    },
    {
     "name": "stdout",
     "output_type": "stream",
     "text": [
      "Saved articles with IDs between 4096 and 5119.\n"
     ]
    },
    {
     "name": "stderr",
     "output_type": "stream",
     "text": [
      "                                                                                \r"
     ]
    },
    {
     "name": "stdout",
     "output_type": "stream",
     "text": [
      "Saved articles with IDs between 5120 and 6143.\n"
     ]
    },
    {
     "name": "stderr",
     "output_type": "stream",
     "text": [
      "                                                                                \r"
     ]
    },
    {
     "name": "stdout",
     "output_type": "stream",
     "text": [
      "Saved articles with IDs between 6144 and 7167.\n"
     ]
    },
    {
     "name": "stderr",
     "output_type": "stream",
     "text": [
      "                                                                                \r"
     ]
    },
    {
     "name": "stdout",
     "output_type": "stream",
     "text": [
      "Saved articles with IDs between 7168 and 8191.\n"
     ]
    },
    {
     "name": "stderr",
     "output_type": "stream",
     "text": [
      "                                                                                \r"
     ]
    },
    {
     "name": "stdout",
     "output_type": "stream",
     "text": [
      "Saved articles with IDs between 8192 and 9215.\n"
     ]
    },
    {
     "name": "stderr",
     "output_type": "stream",
     "text": [
      "                                                                                \r"
     ]
    },
    {
     "name": "stdout",
     "output_type": "stream",
     "text": [
      "Saved articles with IDs between 9216 and 10239.\n"
     ]
    },
    {
     "name": "stderr",
     "output_type": "stream",
     "text": [
      "                                                                                \r"
     ]
    },
    {
     "name": "stdout",
     "output_type": "stream",
     "text": [
      "Saved articles with IDs between 10240 and 11263.\n"
     ]
    },
    {
     "name": "stderr",
     "output_type": "stream",
     "text": [
      "                                                                                \r"
     ]
    },
    {
     "name": "stdout",
     "output_type": "stream",
     "text": [
      "Saved articles with IDs between 11264 and 12287.\n"
     ]
    },
    {
     "name": "stderr",
     "output_type": "stream",
     "text": [
      "                                                                                \r"
     ]
    },
    {
     "name": "stdout",
     "output_type": "stream",
     "text": [
      "Saved articles with IDs between 12288 and 13311.\n"
     ]
    },
    {
     "name": "stderr",
     "output_type": "stream",
     "text": [
      "                                                                                \r"
     ]
    },
    {
     "name": "stdout",
     "output_type": "stream",
     "text": [
      "Saved articles with IDs between 13312 and 14335.\n"
     ]
    },
    {
     "name": "stderr",
     "output_type": "stream",
     "text": [
      "                                                                                \r"
     ]
    },
    {
     "name": "stdout",
     "output_type": "stream",
     "text": [
      "Saved articles with IDs between 14336 and 15359.\n"
     ]
    },
    {
     "name": "stderr",
     "output_type": "stream",
     "text": [
      "                                                                                \r"
     ]
    },
    {
     "name": "stdout",
     "output_type": "stream",
     "text": [
      "Saved articles with IDs between 15360 and 16383.\n"
     ]
    },
    {
     "name": "stderr",
     "output_type": "stream",
     "text": [
      "                                                                                \r"
     ]
    },
    {
     "name": "stdout",
     "output_type": "stream",
     "text": [
      "Saved articles with IDs between 16384 and 17407.\n"
     ]
    },
    {
     "name": "stderr",
     "output_type": "stream",
     "text": [
      "                                                                                \r"
     ]
    },
    {
     "name": "stdout",
     "output_type": "stream",
     "text": [
      "Saved articles with IDs between 17408 and 18431.\n"
     ]
    },
    {
     "name": "stderr",
     "output_type": "stream",
     "text": [
      "                                                                                \r"
     ]
    },
    {
     "name": "stdout",
     "output_type": "stream",
     "text": [
      "Saved articles with IDs between 18432 and 19455.\n"
     ]
    },
    {
     "name": "stderr",
     "output_type": "stream",
     "text": [
      "                                                                                \r"
     ]
    },
    {
     "name": "stdout",
     "output_type": "stream",
     "text": [
      "Saved articles with IDs between 19456 and 20479.\n"
     ]
    },
    {
     "name": "stderr",
     "output_type": "stream",
     "text": [
      "[Stage 31:===================================================>      (8 + 1) / 9]\r"
     ]
    },
    {
     "name": "stdout",
     "output_type": "stream",
     "text": [
      "Saved articles with IDs between 20480 and 21503.\n"
     ]
    },
    {
     "name": "stderr",
     "output_type": "stream",
     "text": [
      "                                                                                \r"
     ]
    },
    {
     "name": "stdout",
     "output_type": "stream",
     "text": [
      "Saved articles with IDs between 21504 and 22527.\n"
     ]
    },
    {
     "name": "stderr",
     "output_type": "stream",
     "text": [
      "                                                                                \r"
     ]
    },
    {
     "name": "stdout",
     "output_type": "stream",
     "text": [
      "Saved articles with IDs between 22528 and 23551.\n"
     ]
    },
    {
     "name": "stderr",
     "output_type": "stream",
     "text": [
      "                                                                                \r"
     ]
    },
    {
     "name": "stdout",
     "output_type": "stream",
     "text": [
      "Saved articles with IDs between 23552 and 24575.\n"
     ]
    },
    {
     "name": "stderr",
     "output_type": "stream",
     "text": [
      "                                                                                \r"
     ]
    },
    {
     "name": "stdout",
     "output_type": "stream",
     "text": [
      "Saved articles with IDs between 24576 and 25599.\n"
     ]
    },
    {
     "name": "stderr",
     "output_type": "stream",
     "text": [
      "                                                                                \r"
     ]
    },
    {
     "name": "stdout",
     "output_type": "stream",
     "text": [
      "Saved articles with IDs between 25600 and 26623.\n"
     ]
    },
    {
     "name": "stderr",
     "output_type": "stream",
     "text": [
      "                                                                                \r"
     ]
    },
    {
     "name": "stdout",
     "output_type": "stream",
     "text": [
      "Saved articles with IDs between 26624 and 27647.\n"
     ]
    },
    {
     "name": "stderr",
     "output_type": "stream",
     "text": [
      "                                                                                \r"
     ]
    },
    {
     "name": "stdout",
     "output_type": "stream",
     "text": [
      "Saved articles with IDs between 27648 and 28671.\n"
     ]
    },
    {
     "name": "stderr",
     "output_type": "stream",
     "text": [
      "                                                                                \r"
     ]
    },
    {
     "name": "stdout",
     "output_type": "stream",
     "text": [
      "Saved articles with IDs between 28672 and 29695.\n"
     ]
    },
    {
     "name": "stderr",
     "output_type": "stream",
     "text": [
      "                                                                                \r"
     ]
    },
    {
     "name": "stdout",
     "output_type": "stream",
     "text": [
      "Saved articles with IDs between 29696 and 30719.\n"
     ]
    },
    {
     "name": "stderr",
     "output_type": "stream",
     "text": [
      "                                                                                \r"
     ]
    },
    {
     "name": "stdout",
     "output_type": "stream",
     "text": [
      "Saved articles with IDs between 30720 and 31743.\n"
     ]
    },
    {
     "name": "stderr",
     "output_type": "stream",
     "text": [
      "                                                                                \r"
     ]
    },
    {
     "name": "stdout",
     "output_type": "stream",
     "text": [
      "Saved articles with IDs between 31744 and 32767.\n"
     ]
    },
    {
     "name": "stderr",
     "output_type": "stream",
     "text": [
      "                                                                                \r"
     ]
    },
    {
     "name": "stdout",
     "output_type": "stream",
     "text": [
      "Saved articles with IDs between 32768 and 33791.\n"
     ]
    },
    {
     "name": "stderr",
     "output_type": "stream",
     "text": [
      "[Stage 44:=========================>                                (4 + 4) / 9]\r"
     ]
    },
    {
     "name": "stdout",
     "output_type": "stream",
     "text": [
      "Saved articles with IDs between 33792 and 34815.\n"
     ]
    },
    {
     "name": "stderr",
     "output_type": "stream",
     "text": [
      "                                                                                \r"
     ]
    }
   ],
   "source": [
    "for start in range(0, NO_OF_ARTICLES+1, BATCH_SIZE):\n",
    "    articles[[\"ID\", \"FeaturesIndices\", \"FeaturesValues\"]].filter((articles.ID >= start) & (articles.ID < start+BATCH_SIZE))\\\n",
    "    .write.format(\"org.apache.spark.sql.cassandra\")\\\n",
    "    .options(table=\"CountVectorGFGArticles\", keyspace=\"GFGArticles\")\\\n",
    "    .mode(\"APPEND\")\\\n",
    "    .save()\n",
    "    print(f\"Saved articles with IDs between {start} and {start+BATCH_SIZE-1}.\")"
   ]
  }
 ],
 "metadata": {
  "kernelspec": {
   "display_name": "conda_python3",
   "language": "python",
   "name": "conda_python3"
  },
  "language_info": {
   "codemirror_mode": {
    "name": "ipython",
    "version": 3
   },
   "file_extension": ".py",
   "mimetype": "text/x-python",
   "name": "python",
   "nbconvert_exporter": "python",
   "pygments_lexer": "ipython3",
   "version": "3.10.12"
  }
 },
 "nbformat": 4,
 "nbformat_minor": 5
}
