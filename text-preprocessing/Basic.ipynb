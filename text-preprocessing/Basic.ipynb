{
  "cells": [
    {
      "cell_type": "markdown",
      "source": [
        "# **Basic Text Preprocessing**\n",
        "\n",
        "This will cover\n",
        "\n",
        "**1.** Converting to lowercase\n",
        "\n",
        "**2.** Removing stop words and punctuation\n",
        "\n",
        "**3.** Finding POS tags\n",
        "\n",
        "**4.** Lemmatization"
      ],
      "metadata": {
        "nteract": {
          "transient": {
            "deleting": false
          }
        }
      }
    },
    {
      "cell_type": "markdown",
      "source": [
        "## **Install packages if not yet installed**"
      ],
      "metadata": {
        "nteract": {
          "transient": {
            "deleting": false
          }
        }
      }
    },
    {
      "cell_type": "code",
      "source": [
        "import sys\n",
        "\n",
        "!{sys.executable} -m pip install azure.storage.blob # Azure Blob Storage\n",
        "!{sys.executable} -m pip install nltk # NTLK\n",
        "!{sys.executable} -m pip install spacy # Spacy\n",
        "!{sys.executable} -m pip install --user https://github.com/explosion/spacy-models/releases/download/en_core_web_sm-3.0.0/en_core_web_sm-3.0.0.tar.gz # SpaCy Language Model"
      ],
      "outputs": [
        {
          "output_type": "stream",
          "name": "stdout",
          "text": "Requirement already satisfied: azure.storage.blob in /anaconda/envs/azureml_py310_sdkv2/lib/python3.10/site-packages (12.16.0)\nRequirement already satisfied: azure-core<2.0.0,>=1.26.0 in /anaconda/envs/azureml_py310_sdkv2/lib/python3.10/site-packages (from azure.storage.blob) (1.27.1)\nRequirement already satisfied: cryptography>=2.1.4 in /anaconda/envs/azureml_py310_sdkv2/lib/python3.10/site-packages (from azure.storage.blob) (41.0.1)\nRequirement already satisfied: typing-extensions>=4.0.1 in /anaconda/envs/azureml_py310_sdkv2/lib/python3.10/site-packages (from azure.storage.blob) (4.6.3)\nRequirement already satisfied: isodate>=0.6.1 in /anaconda/envs/azureml_py310_sdkv2/lib/python3.10/site-packages (from azure.storage.blob) (0.6.1)\nRequirement already satisfied: requests>=2.18.4 in /anaconda/envs/azureml_py310_sdkv2/lib/python3.10/site-packages (from azure-core<2.0.0,>=1.26.0->azure.storage.blob) (2.31.0)\nRequirement already satisfied: six>=1.11.0 in /anaconda/envs/azureml_py310_sdkv2/lib/python3.10/site-packages (from azure-core<2.0.0,>=1.26.0->azure.storage.blob) (1.16.0)\nRequirement already satisfied: cffi>=1.12 in /anaconda/envs/azureml_py310_sdkv2/lib/python3.10/site-packages (from cryptography>=2.1.4->azure.storage.blob) (1.15.1)\nRequirement already satisfied: pycparser in /anaconda/envs/azureml_py310_sdkv2/lib/python3.10/site-packages (from cffi>=1.12->cryptography>=2.1.4->azure.storage.blob) (2.21)\nRequirement already satisfied: charset-normalizer<4,>=2 in /anaconda/envs/azureml_py310_sdkv2/lib/python3.10/site-packages (from requests>=2.18.4->azure-core<2.0.0,>=1.26.0->azure.storage.blob) (3.1.0)\nRequirement already satisfied: idna<4,>=2.5 in /anaconda/envs/azureml_py310_sdkv2/lib/python3.10/site-packages (from requests>=2.18.4->azure-core<2.0.0,>=1.26.0->azure.storage.blob) (3.4)\nRequirement already satisfied: urllib3<3,>=1.21.1 in /anaconda/envs/azureml_py310_sdkv2/lib/python3.10/site-packages (from requests>=2.18.4->azure-core<2.0.0,>=1.26.0->azure.storage.blob) (1.26.16)\nRequirement already satisfied: certifi>=2017.4.17 in /anaconda/envs/azureml_py310_sdkv2/lib/python3.10/site-packages (from requests>=2.18.4->azure-core<2.0.0,>=1.26.0->azure.storage.blob) (2023.5.7)\nRequirement already satisfied: nltk in /anaconda/envs/azureml_py310_sdkv2/lib/python3.10/site-packages (3.8.1)\nRequirement already satisfied: click in /home/azureuser/.local/lib/python3.10/site-packages (from nltk) (7.1.2)\nRequirement already satisfied: joblib in /anaconda/envs/azureml_py310_sdkv2/lib/python3.10/site-packages (from nltk) (1.2.0)\nRequirement already satisfied: regex>=2021.8.3 in /anaconda/envs/azureml_py310_sdkv2/lib/python3.10/site-packages (from nltk) (2023.8.8)\nRequirement already satisfied: tqdm in /anaconda/envs/azureml_py310_sdkv2/lib/python3.10/site-packages (from nltk) (4.65.0)\nRequirement already satisfied: spacy in /home/azureuser/.local/lib/python3.10/site-packages (3.0.9)\nRequirement already satisfied: spacy-legacy<3.1.0,>=3.0.5 in /anaconda/envs/azureml_py310_sdkv2/lib/python3.10/site-packages (from spacy) (3.0.12)\nRequirement already satisfied: murmurhash<1.1.0,>=0.28.0 in /anaconda/envs/azureml_py310_sdkv2/lib/python3.10/site-packages (from spacy) (1.0.9)\nRequirement already satisfied: cymem<2.1.0,>=2.0.2 in /anaconda/envs/azureml_py310_sdkv2/lib/python3.10/site-packages (from spacy) (2.0.7)\nRequirement already satisfied: preshed<3.1.0,>=3.0.2 in /anaconda/envs/azureml_py310_sdkv2/lib/python3.10/site-packages (from spacy) (3.0.8)\nRequirement already satisfied: thinc<8.1.0,>=8.0.3 in /home/azureuser/.local/lib/python3.10/site-packages (from spacy) (8.0.17)\nRequirement already satisfied: blis<0.8.0,>=0.4.0 in /anaconda/envs/azureml_py310_sdkv2/lib/python3.10/site-packages (from spacy) (0.7.10)\nRequirement already satisfied: wasabi<1.1.0,>=0.8.1 in /home/azureuser/.local/lib/python3.10/site-packages (from spacy) (0.10.1)\nRequirement already satisfied: srsly<3.0.0,>=2.4.1 in /anaconda/envs/azureml_py310_sdkv2/lib/python3.10/site-packages (from spacy) (2.4.7)\nRequirement already satisfied: catalogue<2.1.0,>=2.0.4 in /anaconda/envs/azureml_py310_sdkv2/lib/python3.10/site-packages (from spacy) (2.0.9)\nRequirement already satisfied: typer<0.4.0,>=0.3.0 in /home/azureuser/.local/lib/python3.10/site-packages (from spacy) (0.3.2)\nRequirement already satisfied: pathy>=0.3.5 in /anaconda/envs/azureml_py310_sdkv2/lib/python3.10/site-packages (from spacy) (0.10.2)\nRequirement already satisfied: smart-open<7.0.0,>=5.2.1 in /anaconda/envs/azureml_py310_sdkv2/lib/python3.10/site-packages (from spacy) (6.3.0)\nRequirement already satisfied: tqdm<5.0.0,>=4.38.0 in /anaconda/envs/azureml_py310_sdkv2/lib/python3.10/site-packages (from spacy) (4.65.0)\nRequirement already satisfied: numpy>=1.15.0 in /anaconda/envs/azureml_py310_sdkv2/lib/python3.10/site-packages (from spacy) (1.25.0)\nRequirement already satisfied: requests<3.0.0,>=2.13.0 in /anaconda/envs/azureml_py310_sdkv2/lib/python3.10/site-packages (from spacy) (2.31.0)\nRequirement already satisfied: pydantic!=1.8,!=1.8.1,<1.9.0,>=1.7.4 in /home/azureuser/.local/lib/python3.10/site-packages (from spacy) (1.8.2)\nRequirement already satisfied: jinja2 in /anaconda/envs/azureml_py310_sdkv2/lib/python3.10/site-packages (from spacy) (3.1.2)\nRequirement already satisfied: setuptools in /anaconda/envs/azureml_py310_sdkv2/lib/python3.10/site-packages (from spacy) (67.8.0)\nRequirement already satisfied: packaging>=20.0 in /anaconda/envs/azureml_py310_sdkv2/lib/python3.10/site-packages (from spacy) (23.0)\nRequirement already satisfied: typing-extensions>=3.7.4.3 in /anaconda/envs/azureml_py310_sdkv2/lib/python3.10/site-packages (from pydantic!=1.8,!=1.8.1,<1.9.0,>=1.7.4->spacy) (4.6.3)\nRequirement already satisfied: charset-normalizer<4,>=2 in /anaconda/envs/azureml_py310_sdkv2/lib/python3.10/site-packages (from requests<3.0.0,>=2.13.0->spacy) (3.1.0)\nRequirement already satisfied: idna<4,>=2.5 in /anaconda/envs/azureml_py310_sdkv2/lib/python3.10/site-packages (from requests<3.0.0,>=2.13.0->spacy) (3.4)\nRequirement already satisfied: urllib3<3,>=1.21.1 in /anaconda/envs/azureml_py310_sdkv2/lib/python3.10/site-packages (from requests<3.0.0,>=2.13.0->spacy) (1.26.16)\nRequirement already satisfied: certifi>=2017.4.17 in /anaconda/envs/azureml_py310_sdkv2/lib/python3.10/site-packages (from requests<3.0.0,>=2.13.0->spacy) (2023.5.7)\nRequirement already satisfied: click<7.2.0,>=7.1.1 in /home/azureuser/.local/lib/python3.10/site-packages (from typer<0.4.0,>=0.3.0->spacy) (7.1.2)\nRequirement already satisfied: MarkupSafe>=2.0 in /anaconda/envs/azureml_py310_sdkv2/lib/python3.10/site-packages (from jinja2->spacy) (2.1.3)\nCollecting https://github.com/explosion/spacy-models/releases/download/en_core_web_sm-3.0.0/en_core_web_sm-3.0.0.tar.gz\n  Downloading https://github.com/explosion/spacy-models/releases/download/en_core_web_sm-3.0.0/en_core_web_sm-3.0.0.tar.gz (13.7 MB)\n\u001b[2K     \u001b[90m━━━━━━━━━━━━━━━━━━━━━━━━━━━━━━━━━━━━━━━━\u001b[0m \u001b[32m13.7/13.7 MB\u001b[0m \u001b[31m60.7 MB/s\u001b[0m eta \u001b[36m0:00:00\u001b[0m00:01\u001b[0m0:01\u001b[0m\n\u001b[?25h  Preparing metadata (setup.py) ... \u001b[?25l-\b \bdone\n\u001b[?25hRequirement already satisfied: spacy<3.1.0,>=3.0.0 in /home/azureuser/.local/lib/python3.10/site-packages (from en-core-web-sm==3.0.0) (3.0.9)\nRequirement already satisfied: spacy-legacy<3.1.0,>=3.0.5 in /anaconda/envs/azureml_py310_sdkv2/lib/python3.10/site-packages (from spacy<3.1.0,>=3.0.0->en-core-web-sm==3.0.0) (3.0.12)\nRequirement already satisfied: murmurhash<1.1.0,>=0.28.0 in /anaconda/envs/azureml_py310_sdkv2/lib/python3.10/site-packages (from spacy<3.1.0,>=3.0.0->en-core-web-sm==3.0.0) (1.0.9)\nRequirement already satisfied: cymem<2.1.0,>=2.0.2 in /anaconda/envs/azureml_py310_sdkv2/lib/python3.10/site-packages (from spacy<3.1.0,>=3.0.0->en-core-web-sm==3.0.0) (2.0.7)\nRequirement already satisfied: preshed<3.1.0,>=3.0.2 in /anaconda/envs/azureml_py310_sdkv2/lib/python3.10/site-packages (from spacy<3.1.0,>=3.0.0->en-core-web-sm==3.0.0) (3.0.8)\nRequirement already satisfied: thinc<8.1.0,>=8.0.3 in /home/azureuser/.local/lib/python3.10/site-packages (from spacy<3.1.0,>=3.0.0->en-core-web-sm==3.0.0) (8.0.17)\nRequirement already satisfied: blis<0.8.0,>=0.4.0 in /anaconda/envs/azureml_py310_sdkv2/lib/python3.10/site-packages (from spacy<3.1.0,>=3.0.0->en-core-web-sm==3.0.0) (0.7.10)\nRequirement already satisfied: wasabi<1.1.0,>=0.8.1 in /home/azureuser/.local/lib/python3.10/site-packages (from spacy<3.1.0,>=3.0.0->en-core-web-sm==3.0.0) (0.10.1)\nRequirement already satisfied: srsly<3.0.0,>=2.4.1 in /anaconda/envs/azureml_py310_sdkv2/lib/python3.10/site-packages (from spacy<3.1.0,>=3.0.0->en-core-web-sm==3.0.0) (2.4.7)\nRequirement already satisfied: catalogue<2.1.0,>=2.0.4 in /anaconda/envs/azureml_py310_sdkv2/lib/python3.10/site-packages (from spacy<3.1.0,>=3.0.0->en-core-web-sm==3.0.0) (2.0.9)\nRequirement already satisfied: typer<0.4.0,>=0.3.0 in /home/azureuser/.local/lib/python3.10/site-packages (from spacy<3.1.0,>=3.0.0->en-core-web-sm==3.0.0) (0.3.2)\nRequirement already satisfied: pathy>=0.3.5 in /anaconda/envs/azureml_py310_sdkv2/lib/python3.10/site-packages (from spacy<3.1.0,>=3.0.0->en-core-web-sm==3.0.0) (0.10.2)\nRequirement already satisfied: smart-open<7.0.0,>=5.2.1 in /anaconda/envs/azureml_py310_sdkv2/lib/python3.10/site-packages (from spacy<3.1.0,>=3.0.0->en-core-web-sm==3.0.0) (6.3.0)\nRequirement already satisfied: tqdm<5.0.0,>=4.38.0 in /anaconda/envs/azureml_py310_sdkv2/lib/python3.10/site-packages (from spacy<3.1.0,>=3.0.0->en-core-web-sm==3.0.0) (4.65.0)\nRequirement already satisfied: numpy>=1.15.0 in /anaconda/envs/azureml_py310_sdkv2/lib/python3.10/site-packages (from spacy<3.1.0,>=3.0.0->en-core-web-sm==3.0.0) (1.25.0)\nRequirement already satisfied: requests<3.0.0,>=2.13.0 in /anaconda/envs/azureml_py310_sdkv2/lib/python3.10/site-packages (from spacy<3.1.0,>=3.0.0->en-core-web-sm==3.0.0) (2.31.0)\nRequirement already satisfied: pydantic!=1.8,!=1.8.1,<1.9.0,>=1.7.4 in /home/azureuser/.local/lib/python3.10/site-packages (from spacy<3.1.0,>=3.0.0->en-core-web-sm==3.0.0) (1.8.2)\nRequirement already satisfied: jinja2 in /anaconda/envs/azureml_py310_sdkv2/lib/python3.10/site-packages (from spacy<3.1.0,>=3.0.0->en-core-web-sm==3.0.0) (3.1.2)\nRequirement already satisfied: setuptools in /anaconda/envs/azureml_py310_sdkv2/lib/python3.10/site-packages (from spacy<3.1.0,>=3.0.0->en-core-web-sm==3.0.0) (67.8.0)\nRequirement already satisfied: packaging>=20.0 in /anaconda/envs/azureml_py310_sdkv2/lib/python3.10/site-packages (from spacy<3.1.0,>=3.0.0->en-core-web-sm==3.0.0) (23.0)\nRequirement already satisfied: typing-extensions>=3.7.4.3 in /anaconda/envs/azureml_py310_sdkv2/lib/python3.10/site-packages (from pydantic!=1.8,!=1.8.1,<1.9.0,>=1.7.4->spacy<3.1.0,>=3.0.0->en-core-web-sm==3.0.0) (4.6.3)\nRequirement already satisfied: charset-normalizer<4,>=2 in /anaconda/envs/azureml_py310_sdkv2/lib/python3.10/site-packages (from requests<3.0.0,>=2.13.0->spacy<3.1.0,>=3.0.0->en-core-web-sm==3.0.0) (3.1.0)\nRequirement already satisfied: idna<4,>=2.5 in /anaconda/envs/azureml_py310_sdkv2/lib/python3.10/site-packages (from requests<3.0.0,>=2.13.0->spacy<3.1.0,>=3.0.0->en-core-web-sm==3.0.0) (3.4)\nRequirement already satisfied: urllib3<3,>=1.21.1 in /anaconda/envs/azureml_py310_sdkv2/lib/python3.10/site-packages (from requests<3.0.0,>=2.13.0->spacy<3.1.0,>=3.0.0->en-core-web-sm==3.0.0) (1.26.16)\nRequirement already satisfied: certifi>=2017.4.17 in /anaconda/envs/azureml_py310_sdkv2/lib/python3.10/site-packages (from requests<3.0.0,>=2.13.0->spacy<3.1.0,>=3.0.0->en-core-web-sm==3.0.0) (2023.5.7)\nRequirement already satisfied: click<7.2.0,>=7.1.1 in /home/azureuser/.local/lib/python3.10/site-packages (from typer<0.4.0,>=0.3.0->spacy<3.1.0,>=3.0.0->en-core-web-sm==3.0.0) (7.1.2)\nRequirement already satisfied: MarkupSafe>=2.0 in /anaconda/envs/azureml_py310_sdkv2/lib/python3.10/site-packages (from jinja2->spacy<3.1.0,>=3.0.0->en-core-web-sm==3.0.0) (2.1.3)\n"
        }
      ],
      "execution_count": 1,
      "metadata": {
        "gather": {
          "logged": 1693510248642
        }
      }
    },
    {
      "cell_type": "markdown",
      "source": [
        "## **Create connection string to storage account**"
      ],
      "metadata": {
        "nteract": {
          "transient": {
            "deleting": false
          }
        }
      }
    },
    {
      "cell_type": "code",
      "source": [
        "connectionString=\"DefaultEndpointsProtocol=https;AccountName=shivmldatasets;AccountKey=Uoz2wy3N+KONfZAXvPc2QG4Z+G5S6BTvPn0zK6CaoCbM30tBtbToarFMZyo0EeimLD4P8RBuzoJJ+AStJ80Qiw==;EndpointSuffix=core.windows.net\""
      ],
      "outputs": [],
      "execution_count": 2,
      "metadata": {
        "jupyter": {
          "source_hidden": false,
          "outputs_hidden": false
        },
        "nteract": {
          "transient": {
            "deleting": false
          }
        },
        "gather": {
          "logged": 1693510249112
        }
      }
    },
    {
      "cell_type": "markdown",
      "source": [
        "## **Download stopwords**"
      ],
      "metadata": {
        "nteract": {
          "transient": {
            "deleting": false
          }
        }
      }
    },
    {
      "cell_type": "code",
      "source": [
        "import nltk, re\n",
        "nltk.download(\"stopwords\")"
      ],
      "outputs": [
        {
          "output_type": "stream",
          "name": "stderr",
          "text": "[nltk_data] Downloading package stopwords to\n[nltk_data]     /home/azureuser/nltk_data...\n[nltk_data]   Package stopwords is already up-to-date!\n"
        },
        {
          "output_type": "execute_result",
          "execution_count": 3,
          "data": {
            "text/plain": "True"
          },
          "metadata": {}
        }
      ],
      "execution_count": 3,
      "metadata": {
        "jupyter": {
          "source_hidden": false,
          "outputs_hidden": false
        },
        "nteract": {
          "transient": {
            "deleting": false
          }
        },
        "gather": {
          "logged": 1693510249785
        }
      }
    },
    {
      "cell_type": "code",
      "source": [
        "from nltk.corpus import stopwords\n",
        "STOP_WORDS_LIST=stopwords.words('english')"
      ],
      "outputs": [],
      "execution_count": 4,
      "metadata": {
        "jupyter": {
          "source_hidden": false,
          "outputs_hidden": false
        },
        "nteract": {
          "transient": {
            "deleting": false
          }
        },
        "gather": {
          "logged": 1693510250264
        }
      }
    },
    {
      "cell_type": "code",
      "source": [
        "# Define a function to remove stopwords and puncutation.\n",
        "def removeStopwordsAndPunctuation(text):\n",
        "    # Removing extra spaces and anything other than alphanumeric characters.\n",
        "    text=re.sub(\"[\\s]+\", \" \", re.sub(\"[^\\w\\d ]\", \" \", text)).lower()\n",
        "    # Removing stopwords\n",
        "    text=[word for word in text.split() if not word in STOP_WORDS_LIST]\n",
        "    return ' '.join(text)"
      ],
      "outputs": [],
      "execution_count": 5,
      "metadata": {
        "jupyter": {
          "source_hidden": false,
          "outputs_hidden": false
        },
        "nteract": {
          "transient": {
            "deleting": false
          }
        },
        "gather": {
          "logged": 1693510250841
        }
      }
    },
    {
      "cell_type": "markdown",
      "source": [
        "## **Load the language model**\n",
        "\n",
        "The language model pipeline consists of classes: `['tok2vec', 'tagger', 'parser', 'attribute_ruler', 'lemmatizer', 'ner']`\n",
        "\n",
        "Disabling `ner` (Named-Entity Recognition) to speed up the model."
      ],
      "metadata": {
        "nteract": {
          "transient": {
            "deleting": false
          }
        }
      }
    },
    {
      "cell_type": "code",
      "source": [
        "import spacy"
      ],
      "outputs": [],
      "execution_count": 6,
      "metadata": {
        "jupyter": {
          "source_hidden": false,
          "outputs_hidden": false
        },
        "nteract": {
          "transient": {
            "deleting": false
          }
        },
        "gather": {
          "logged": 1693510251325
        }
      }
    },
    {
      "cell_type": "code",
      "source": [
        "nlp=spacy.load(\"en_core_web_sm\", disable=[\"ner\"])\n",
        "nlp.pipe_names"
      ],
      "outputs": [
        {
          "output_type": "execute_result",
          "execution_count": 7,
          "data": {
            "text/plain": "['tok2vec', 'tagger', 'parser', 'attribute_ruler', 'lemmatizer']"
          },
          "metadata": {}
        }
      ],
      "execution_count": 7,
      "metadata": {
        "jupyter": {
          "source_hidden": false,
          "outputs_hidden": false
        },
        "nteract": {
          "transient": {
            "deleting": false
          }
        },
        "gather": {
          "logged": 1693510251865
        }
      }
    },
    {
      "cell_type": "markdown",
      "source": [
        "## **Preprocess Text**\n",
        "\n",
        "**1.** Removal of stop words and punctuation.\n",
        "\n",
        "**2.** Pass the articles text in the following form (a list of tuples). The text of each article goes first in each tuple and we pass the `id` of the article in the dictionary. This is to easy get the ID of an article after spacy text processing. When passing the data in this format to `nlp.pipe()` method, mark `as_tuples` as True.\n",
        "\n",
        "```python\n",
        "[\n",
        "    (\"text ...\", {\"ID\" : <ID-Value>}),\n",
        "    (\"text ...\", {\"ID\" : <ID-Value>}),\n",
        "    ...\n",
        "]\n",
        "```\n",
        "\n",
        "**3.** Replace the tokens in the article text with their lemmatized form."
      ],
      "metadata": {
        "nteract": {
          "transient": {
            "deleting": false
          }
        }
      }
    },
    {
      "cell_type": "code",
      "source": [
        "# Define a function to preprocess text.\n",
        "def textPreprocess(articles):\n",
        "    # Remove stop words and punctuation\n",
        "    articles.loc[:, \"text\"]=articles.text.apply(removeStopwordsAndPunctuation)\n",
        "    # Get lemmatized words\n",
        "    for article, attr in nlp.pipe(list(articles.apply(lambda article: (article.text, {\"ID\": article.id}), axis=1)), as_tuples=True, n_process=-1, batch_size=32):\n",
        "        articles.loc[articles.id==attr[\"ID\"], \"text\"]=\" \".join([token.lemma_.strip() for token in article])"
      ],
      "outputs": [],
      "execution_count": 8,
      "metadata": {
        "jupyter": {
          "source_hidden": false,
          "outputs_hidden": false
        },
        "nteract": {
          "transient": {
            "deleting": false
          }
        },
        "gather": {
          "logged": 1693510252497
        }
      }
    },
    {
      "cell_type": "markdown",
      "source": [
        "## **Read the dataset files**\n",
        "\n",
        "**1.** Read each dataset file.\n",
        "\n",
        "**2.** Preprocess text.\n",
        "\n",
        "**3.** Save it to new blob file."
      ],
      "metadata": {
        "nteract": {
          "transient": {
            "deleting": false
          }
        }
      }
    },
    {
      "cell_type": "code",
      "source": [
        "import pandas as pd\n",
        "from azure.storage.blob import BlobClient"
      ],
      "outputs": [],
      "execution_count": 9,
      "metadata": {
        "jupyter": {
          "source_hidden": false,
          "outputs_hidden": false
        },
        "nteract": {
          "transient": {
            "deleting": false
          }
        },
        "gather": {
          "logged": 1693510252990
        }
      }
    },
    {
      "cell_type": "code",
      "source": [
        "%%time\n",
        "for i in range(1, 35):\n",
        "    # Read the blob file.\n",
        "    articles=pd.read_csv(f\"https://shivmldatasets.blob.core.windows.net/ml-datasets/gfg-articles-scrapped-{i}.csv\")\n",
        "    articles.drop(columns=[\"Unnamed: 0\"], inplace=True)\n",
        "    articles.text=articles.text.astype(\"str\")\n",
        "    # Preprocess text.\n",
        "    textPreprocess(articles)\n",
        "    # Save to blob.\n",
        "    blob=BlobClient.from_connection_string(conn_str=connectionString, container_name=\"ml-datasets\", blob_name=f\"preprocessed/gfg-articles-preprocessed-{i}.csv\")\n",
        "    blob.upload_blob(articles[[\"id\", \"text\"]].to_csv(), overwrite=True)"
      ],
      "outputs": [
        {
          "output_type": "stream",
          "name": "stdout",
          "text": "CPU times: user 3min 28s, sys: 9.56 s, total: 3min 37s\nWall time: 5min 7s\n"
        }
      ],
      "execution_count": 10,
      "metadata": {
        "jupyter": {
          "source_hidden": false,
          "outputs_hidden": false
        },
        "nteract": {
          "transient": {
            "deleting": false
          }
        },
        "gather": {
          "logged": 1693507409901
        }
      }
    },
    {
      "cell_type": "code",
      "source": [
        "# See top 5 rows.\n",
        "articles=pd.read_csv(f\"https://shivmldatasets.blob.core.windows.net/ml-datasets/preprocessed/gfg-articles-preprocessed-1.csv\")\n",
        "articles[:5]"
      ],
      "outputs": [
        {
          "output_type": "execute_result",
          "execution_count": 14,
          "data": {
            "text/plain": "   Unnamed: 0  id                                               text\n0           0   0  sql structured query language allow we select ...\n1           1   1  foundation css open source responsive front en...\n2           2   2  although many we already aware microsoft excel...\n3           3   3  servlet simple java program run server capable...\n4           4   4  suffix sum arraygiven array arr size n task co...",
            "text/html": "<div>\n<style scoped>\n    .dataframe tbody tr th:only-of-type {\n        vertical-align: middle;\n    }\n\n    .dataframe tbody tr th {\n        vertical-align: top;\n    }\n\n    .dataframe thead th {\n        text-align: right;\n    }\n</style>\n<table border=\"1\" class=\"dataframe\">\n  <thead>\n    <tr style=\"text-align: right;\">\n      <th></th>\n      <th>Unnamed: 0</th>\n      <th>id</th>\n      <th>text</th>\n    </tr>\n  </thead>\n  <tbody>\n    <tr>\n      <th>0</th>\n      <td>0</td>\n      <td>0</td>\n      <td>sql structured query language allow we select ...</td>\n    </tr>\n    <tr>\n      <th>1</th>\n      <td>1</td>\n      <td>1</td>\n      <td>foundation css open source responsive front en...</td>\n    </tr>\n    <tr>\n      <th>2</th>\n      <td>2</td>\n      <td>2</td>\n      <td>although many we already aware microsoft excel...</td>\n    </tr>\n    <tr>\n      <th>3</th>\n      <td>3</td>\n      <td>3</td>\n      <td>servlet simple java program run server capable...</td>\n    </tr>\n    <tr>\n      <th>4</th>\n      <td>4</td>\n      <td>4</td>\n      <td>suffix sum arraygiven array arr size n task co...</td>\n    </tr>\n  </tbody>\n</table>\n</div>"
          },
          "metadata": {}
        }
      ],
      "execution_count": 14,
      "metadata": {
        "jupyter": {
          "source_hidden": false,
          "outputs_hidden": false
        },
        "nteract": {
          "transient": {
            "deleting": false
          }
        },
        "gather": {
          "logged": 1693510595276
        }
      }
    }
  ],
  "metadata": {
    "kernelspec": {
      "name": "python310-sdkv2",
      "language": "python",
      "display_name": "Python 3.10 - SDK v2"
    },
    "language_info": {
      "name": "python",
      "version": "3.10.11",
      "mimetype": "text/x-python",
      "codemirror_mode": {
        "name": "ipython",
        "version": 3
      },
      "pygments_lexer": "ipython3",
      "nbconvert_exporter": "python",
      "file_extension": ".py"
    },
    "microsoft": {
      "ms_spell_check": {
        "ms_spell_check_language": "en"
      },
      "host": {
        "AzureML": {
          "notebookHasBeenCompleted": true
        }
      }
    },
    "nteract": {
      "version": "nteract-front-end@1.0.0"
    },
    "kernel_info": {
      "name": "python310-sdkv2"
    }
  },
  "nbformat": 4,
  "nbformat_minor": 2
}