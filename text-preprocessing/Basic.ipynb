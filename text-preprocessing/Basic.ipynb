{
 "cells": [
  {
   "cell_type": "markdown",
   "metadata": {
    "nteract": {
     "transient": {
      "deleting": false
     }
    }
   },
   "source": [
    "# **Basic Text Preprocessing**\n",
    "\n",
    "This will cover\n",
    "\n",
    "**1.** Converting to lowercase\n",
    "\n",
    "**2.** Removing stop words and punctuation\n",
    "\n",
    "**3.** Finding POS tags\n",
    "\n",
    "**4.** Lemmatization"
   ]
  },
  {
   "cell_type": "markdown",
   "metadata": {
    "nteract": {
     "transient": {
      "deleting": false
     }
    }
   },
   "source": [
    "## **Install packages if not yet installed**"
   ]
  },
  {
   "cell_type": "code",
   "execution_count": 1,
   "metadata": {
    "gather": {
     "logged": 1693510248642
    },
    "tags": []
   },
   "outputs": [
    {
     "name": "stdout",
     "output_type": "stream",
     "text": [
      "Requirement already satisfied: cassandra-driver in /home/ec2-user/anaconda3/envs/python3/lib/python3.10/site-packages (3.28.0)\n",
      "Requirement already satisfied: six>=1.9 in /home/ec2-user/anaconda3/envs/python3/lib/python3.10/site-packages (from cassandra-driver) (1.16.0)\n",
      "Requirement already satisfied: geomet<0.3,>=0.1 in /home/ec2-user/anaconda3/envs/python3/lib/python3.10/site-packages (from cassandra-driver) (0.2.1.post1)\n",
      "Requirement already satisfied: click in /home/ec2-user/.local/lib/python3.10/site-packages (from geomet<0.3,>=0.1->cassandra-driver) (7.1.2)\n",
      "Requirement already satisfied: nltk in /home/ec2-user/anaconda3/envs/python3/lib/python3.10/site-packages (3.8.1)\n",
      "Requirement already satisfied: click in /home/ec2-user/.local/lib/python3.10/site-packages (from nltk) (7.1.2)\n",
      "Requirement already satisfied: joblib in /home/ec2-user/anaconda3/envs/python3/lib/python3.10/site-packages (from nltk) (1.3.0)\n",
      "Requirement already satisfied: regex>=2021.8.3 in /home/ec2-user/anaconda3/envs/python3/lib/python3.10/site-packages (from nltk) (2023.6.3)\n",
      "Requirement already satisfied: tqdm in /home/ec2-user/anaconda3/envs/python3/lib/python3.10/site-packages (from nltk) (4.65.0)\n",
      "Requirement already satisfied: spacy in /home/ec2-user/.local/lib/python3.10/site-packages (3.0.9)\n",
      "Requirement already satisfied: spacy-legacy<3.1.0,>=3.0.5 in /home/ec2-user/anaconda3/envs/python3/lib/python3.10/site-packages (from spacy) (3.0.12)\n",
      "Requirement already satisfied: murmurhash<1.1.0,>=0.28.0 in /home/ec2-user/anaconda3/envs/python3/lib/python3.10/site-packages (from spacy) (1.0.10)\n",
      "Requirement already satisfied: cymem<2.1.0,>=2.0.2 in /home/ec2-user/anaconda3/envs/python3/lib/python3.10/site-packages (from spacy) (2.0.8)\n",
      "Requirement already satisfied: preshed<3.1.0,>=3.0.2 in /home/ec2-user/anaconda3/envs/python3/lib/python3.10/site-packages (from spacy) (3.0.9)\n",
      "Requirement already satisfied: thinc<8.1.0,>=8.0.3 in /home/ec2-user/.local/lib/python3.10/site-packages (from spacy) (8.0.17)\n",
      "Requirement already satisfied: blis<0.8.0,>=0.4.0 in /home/ec2-user/anaconda3/envs/python3/lib/python3.10/site-packages (from spacy) (0.7.10)\n",
      "Requirement already satisfied: wasabi<1.1.0,>=0.8.1 in /home/ec2-user/.local/lib/python3.10/site-packages (from spacy) (0.10.1)\n",
      "Requirement already satisfied: srsly<3.0.0,>=2.4.1 in /home/ec2-user/anaconda3/envs/python3/lib/python3.10/site-packages (from spacy) (2.4.7)\n",
      "Requirement already satisfied: catalogue<2.1.0,>=2.0.4 in /home/ec2-user/anaconda3/envs/python3/lib/python3.10/site-packages (from spacy) (2.0.9)\n",
      "Requirement already satisfied: typer<0.4.0,>=0.3.0 in /home/ec2-user/.local/lib/python3.10/site-packages (from spacy) (0.3.2)\n",
      "Requirement already satisfied: pathy>=0.3.5 in /home/ec2-user/anaconda3/envs/python3/lib/python3.10/site-packages (from spacy) (0.10.2)\n",
      "Requirement already satisfied: smart-open<7.0.0,>=5.2.1 in /home/ec2-user/anaconda3/envs/python3/lib/python3.10/site-packages (from spacy) (6.4.0)\n",
      "Requirement already satisfied: tqdm<5.0.0,>=4.38.0 in /home/ec2-user/anaconda3/envs/python3/lib/python3.10/site-packages (from spacy) (4.65.0)\n",
      "Requirement already satisfied: numpy>=1.15.0 in /home/ec2-user/anaconda3/envs/python3/lib/python3.10/site-packages (from spacy) (1.22.3)\n",
      "Requirement already satisfied: requests<3.0.0,>=2.13.0 in /home/ec2-user/anaconda3/envs/python3/lib/python3.10/site-packages (from spacy) (2.31.0)\n",
      "Requirement already satisfied: pydantic!=1.8,!=1.8.1,<1.9.0,>=1.7.4 in /home/ec2-user/.local/lib/python3.10/site-packages (from spacy) (1.8.2)\n",
      "Requirement already satisfied: jinja2 in /home/ec2-user/anaconda3/envs/python3/lib/python3.10/site-packages (from spacy) (3.1.2)\n",
      "Requirement already satisfied: setuptools in /home/ec2-user/anaconda3/envs/python3/lib/python3.10/site-packages (from spacy) (68.0.0)\n",
      "Requirement already satisfied: packaging>=20.0 in /home/ec2-user/anaconda3/envs/python3/lib/python3.10/site-packages (from spacy) (21.3)\n",
      "Requirement already satisfied: pyparsing!=3.0.5,>=2.0.2 in /home/ec2-user/anaconda3/envs/python3/lib/python3.10/site-packages (from packaging>=20.0->spacy) (3.0.9)\n",
      "Requirement already satisfied: typing-extensions>=3.7.4.3 in /home/ec2-user/anaconda3/envs/python3/lib/python3.10/site-packages (from pydantic!=1.8,!=1.8.1,<1.9.0,>=1.7.4->spacy) (4.7.1)\n",
      "Requirement already satisfied: charset-normalizer<4,>=2 in /home/ec2-user/anaconda3/envs/python3/lib/python3.10/site-packages (from requests<3.0.0,>=2.13.0->spacy) (3.2.0)\n",
      "Requirement already satisfied: idna<4,>=2.5 in /home/ec2-user/anaconda3/envs/python3/lib/python3.10/site-packages (from requests<3.0.0,>=2.13.0->spacy) (3.4)\n",
      "Requirement already satisfied: urllib3<3,>=1.21.1 in /home/ec2-user/anaconda3/envs/python3/lib/python3.10/site-packages (from requests<3.0.0,>=2.13.0->spacy) (1.26.14)\n",
      "Requirement already satisfied: certifi>=2017.4.17 in /home/ec2-user/anaconda3/envs/python3/lib/python3.10/site-packages (from requests<3.0.0,>=2.13.0->spacy) (2023.5.7)\n",
      "Requirement already satisfied: click<7.2.0,>=7.1.1 in /home/ec2-user/.local/lib/python3.10/site-packages (from typer<0.4.0,>=0.3.0->spacy) (7.1.2)\n",
      "Requirement already satisfied: MarkupSafe>=2.0 in /home/ec2-user/anaconda3/envs/python3/lib/python3.10/site-packages (from jinja2->spacy) (2.1.3)\n",
      "Collecting https://github.com/explosion/spacy-models/releases/download/en_core_web_sm-3.0.0/en_core_web_sm-3.0.0.tar.gz\n",
      "  Downloading https://github.com/explosion/spacy-models/releases/download/en_core_web_sm-3.0.0/en_core_web_sm-3.0.0.tar.gz (13.7 MB)\n",
      "\u001b[2K     \u001b[90m━━━━━━━━━━━━━━━━━━━━━━━━━━━━━━━━━━━━━━━━\u001b[0m \u001b[32m13.7/13.7 MB\u001b[0m \u001b[31m18.2 MB/s\u001b[0m eta \u001b[36m0:00:00\u001b[0m00:01\u001b[0m0:01\u001b[0m\n",
      "\u001b[?25h  Preparing metadata (setup.py) ... \u001b[?25ldone\n",
      "\u001b[?25hRequirement already satisfied: spacy<3.1.0,>=3.0.0 in /home/ec2-user/.local/lib/python3.10/site-packages (from en-core-web-sm==3.0.0) (3.0.9)\n",
      "Requirement already satisfied: spacy-legacy<3.1.0,>=3.0.5 in /home/ec2-user/anaconda3/envs/python3/lib/python3.10/site-packages (from spacy<3.1.0,>=3.0.0->en-core-web-sm==3.0.0) (3.0.12)\n",
      "Requirement already satisfied: murmurhash<1.1.0,>=0.28.0 in /home/ec2-user/anaconda3/envs/python3/lib/python3.10/site-packages (from spacy<3.1.0,>=3.0.0->en-core-web-sm==3.0.0) (1.0.10)\n",
      "Requirement already satisfied: cymem<2.1.0,>=2.0.2 in /home/ec2-user/anaconda3/envs/python3/lib/python3.10/site-packages (from spacy<3.1.0,>=3.0.0->en-core-web-sm==3.0.0) (2.0.8)\n",
      "Requirement already satisfied: preshed<3.1.0,>=3.0.2 in /home/ec2-user/anaconda3/envs/python3/lib/python3.10/site-packages (from spacy<3.1.0,>=3.0.0->en-core-web-sm==3.0.0) (3.0.9)\n",
      "Requirement already satisfied: thinc<8.1.0,>=8.0.3 in /home/ec2-user/.local/lib/python3.10/site-packages (from spacy<3.1.0,>=3.0.0->en-core-web-sm==3.0.0) (8.0.17)\n",
      "Requirement already satisfied: blis<0.8.0,>=0.4.0 in /home/ec2-user/anaconda3/envs/python3/lib/python3.10/site-packages (from spacy<3.1.0,>=3.0.0->en-core-web-sm==3.0.0) (0.7.10)\n",
      "Requirement already satisfied: wasabi<1.1.0,>=0.8.1 in /home/ec2-user/.local/lib/python3.10/site-packages (from spacy<3.1.0,>=3.0.0->en-core-web-sm==3.0.0) (0.10.1)\n",
      "Requirement already satisfied: srsly<3.0.0,>=2.4.1 in /home/ec2-user/anaconda3/envs/python3/lib/python3.10/site-packages (from spacy<3.1.0,>=3.0.0->en-core-web-sm==3.0.0) (2.4.7)\n",
      "Requirement already satisfied: catalogue<2.1.0,>=2.0.4 in /home/ec2-user/anaconda3/envs/python3/lib/python3.10/site-packages (from spacy<3.1.0,>=3.0.0->en-core-web-sm==3.0.0) (2.0.9)\n",
      "Requirement already satisfied: typer<0.4.0,>=0.3.0 in /home/ec2-user/.local/lib/python3.10/site-packages (from spacy<3.1.0,>=3.0.0->en-core-web-sm==3.0.0) (0.3.2)\n",
      "Requirement already satisfied: pathy>=0.3.5 in /home/ec2-user/anaconda3/envs/python3/lib/python3.10/site-packages (from spacy<3.1.0,>=3.0.0->en-core-web-sm==3.0.0) (0.10.2)\n",
      "Requirement already satisfied: smart-open<7.0.0,>=5.2.1 in /home/ec2-user/anaconda3/envs/python3/lib/python3.10/site-packages (from spacy<3.1.0,>=3.0.0->en-core-web-sm==3.0.0) (6.4.0)\n",
      "Requirement already satisfied: tqdm<5.0.0,>=4.38.0 in /home/ec2-user/anaconda3/envs/python3/lib/python3.10/site-packages (from spacy<3.1.0,>=3.0.0->en-core-web-sm==3.0.0) (4.65.0)\n",
      "Requirement already satisfied: numpy>=1.15.0 in /home/ec2-user/anaconda3/envs/python3/lib/python3.10/site-packages (from spacy<3.1.0,>=3.0.0->en-core-web-sm==3.0.0) (1.22.3)\n",
      "Requirement already satisfied: requests<3.0.0,>=2.13.0 in /home/ec2-user/anaconda3/envs/python3/lib/python3.10/site-packages (from spacy<3.1.0,>=3.0.0->en-core-web-sm==3.0.0) (2.31.0)\n",
      "Requirement already satisfied: pydantic!=1.8,!=1.8.1,<1.9.0,>=1.7.4 in /home/ec2-user/.local/lib/python3.10/site-packages (from spacy<3.1.0,>=3.0.0->en-core-web-sm==3.0.0) (1.8.2)\n",
      "Requirement already satisfied: jinja2 in /home/ec2-user/anaconda3/envs/python3/lib/python3.10/site-packages (from spacy<3.1.0,>=3.0.0->en-core-web-sm==3.0.0) (3.1.2)\n",
      "Requirement already satisfied: setuptools in /home/ec2-user/anaconda3/envs/python3/lib/python3.10/site-packages (from spacy<3.1.0,>=3.0.0->en-core-web-sm==3.0.0) (68.0.0)\n",
      "Requirement already satisfied: packaging>=20.0 in /home/ec2-user/anaconda3/envs/python3/lib/python3.10/site-packages (from spacy<3.1.0,>=3.0.0->en-core-web-sm==3.0.0) (21.3)\n",
      "Requirement already satisfied: pyparsing!=3.0.5,>=2.0.2 in /home/ec2-user/anaconda3/envs/python3/lib/python3.10/site-packages (from packaging>=20.0->spacy<3.1.0,>=3.0.0->en-core-web-sm==3.0.0) (3.0.9)\n",
      "Requirement already satisfied: typing-extensions>=3.7.4.3 in /home/ec2-user/anaconda3/envs/python3/lib/python3.10/site-packages (from pydantic!=1.8,!=1.8.1,<1.9.0,>=1.7.4->spacy<3.1.0,>=3.0.0->en-core-web-sm==3.0.0) (4.7.1)\n",
      "Requirement already satisfied: charset-normalizer<4,>=2 in /home/ec2-user/anaconda3/envs/python3/lib/python3.10/site-packages (from requests<3.0.0,>=2.13.0->spacy<3.1.0,>=3.0.0->en-core-web-sm==3.0.0) (3.2.0)\n",
      "Requirement already satisfied: idna<4,>=2.5 in /home/ec2-user/anaconda3/envs/python3/lib/python3.10/site-packages (from requests<3.0.0,>=2.13.0->spacy<3.1.0,>=3.0.0->en-core-web-sm==3.0.0) (3.4)\n",
      "Requirement already satisfied: urllib3<3,>=1.21.1 in /home/ec2-user/anaconda3/envs/python3/lib/python3.10/site-packages (from requests<3.0.0,>=2.13.0->spacy<3.1.0,>=3.0.0->en-core-web-sm==3.0.0) (1.26.14)\n",
      "Requirement already satisfied: certifi>=2017.4.17 in /home/ec2-user/anaconda3/envs/python3/lib/python3.10/site-packages (from requests<3.0.0,>=2.13.0->spacy<3.1.0,>=3.0.0->en-core-web-sm==3.0.0) (2023.5.7)\n",
      "Requirement already satisfied: click<7.2.0,>=7.1.1 in /home/ec2-user/.local/lib/python3.10/site-packages (from typer<0.4.0,>=0.3.0->spacy<3.1.0,>=3.0.0->en-core-web-sm==3.0.0) (7.1.2)\n",
      "Requirement already satisfied: MarkupSafe>=2.0 in /home/ec2-user/anaconda3/envs/python3/lib/python3.10/site-packages (from jinja2->spacy<3.1.0,>=3.0.0->en-core-web-sm==3.0.0) (2.1.3)\n"
     ]
    }
   ],
   "source": [
    "import sys\n",
    "\n",
    "# Installing a little older version of Python as PySpark's 3.3.0 pandas-on-spark apply function calls `iteritems` which \n",
    "# is deprecated in the latest versions of pandas.PySpark 3.4.0 pandas-on-spark apply function calls `items`.\n",
    "# !{sys.executable} -m pip install -U pandas==1.5.3 # Pandas\n",
    "!{sys.executable} -m pip install cassandra-driver # Cassandra\n",
    "!{sys.executable} -m pip install nltk # NTLK\n",
    "!{sys.executable} -m pip install spacy # Spacy\n",
    "# Reset the kernel for this language model to load after running this code block.\n",
    "!{sys.executable} -m pip install --user https://github.com/explosion/spacy-models/releases/download/en_core_web_sm-3.0.0/en_core_web_sm-3.0.0.tar.gz # SpaCy Language Model"
   ]
  },
  {
   "cell_type": "code",
   "execution_count": 2,
   "metadata": {
    "tags": []
   },
   "outputs": [],
   "source": [
    "%run ../EnvironmentVariablesSetup.ipynb"
   ]
  },
  {
   "cell_type": "markdown",
   "metadata": {},
   "source": [
    "## **Read database from Keyspaces using PySpark**\n",
    "\n",
    "**1.** Download the required jar files (`spark-cassandra-connector_2.12-3.3.0.jar, spark-cassandra-connector-assembly_2.12-3.3.0.jar`).\n",
    "\n",
    "**2.** Download your `cassandra_truststore.jks` file.\n",
    "\n",
    "**3.** Create `application.conf` file.\n",
    "\n",
    "**4.** Create `SparkSession` and set the configuration to connect to Keyspaces using service-specific credentials.\n",
    "\n",
    "**5.** Read all rows from `GFGArticles` table, `GFGArticles` keyspace into PySpark dataframe."
   ]
  },
  {
   "cell_type": "code",
   "execution_count": 3,
   "metadata": {
    "tags": []
   },
   "outputs": [],
   "source": [
    "import os\n",
    "\n",
    "# To resolve the following warning ----------------------------------------\n",
    "# WARNING:root:'PYARROW_IGNORE_TIMEZONE' environment variable was not set. \n",
    "# It is required to set this environment variable to '1' in both driver and executor sides if you use pyarrow>=2.0.0. \n",
    "# pandas-on-Spark will set it for you but it does not work if there is a Spark context already launched.\n",
    "\n",
    "os.environ[\"PYARROW_IGNORE_TIMEZONE\"]=\"1\""
   ]
  },
  {
   "cell_type": "code",
   "execution_count": 4,
   "metadata": {
    "tags": []
   },
   "outputs": [],
   "source": [
    "import pandas as pd\n",
    "import numpy as np\n",
    "from pyspark.sql import SparkSession\n",
    "# import pyspark.pandas as ps\n",
    "# from pyspark.sql.types import StructType, StructField, StringType, IntegerType"
   ]
  },
  {
   "cell_type": "code",
   "execution_count": 5,
   "metadata": {
    "tags": []
   },
   "outputs": [
    {
     "name": "stdout",
     "output_type": "stream",
     "text": [
      "23/09/21 15:56:13 WARN NativeCodeLoader: Unable to load native-hadoop library for your platform... using builtin-java classes where applicable\n"
     ]
    },
    {
     "name": "stderr",
     "output_type": "stream",
     "text": [
      "Setting default log level to \"WARN\".\n",
      "To adjust logging level use sc.setLogLevel(newLevel). For SparkR, use setLogLevel(newLevel).\n"
     ]
    },
    {
     "data": {
      "text/plain": [
       "'3.3.0'"
      ]
     },
     "execution_count": 5,
     "metadata": {},
     "output_type": "execute_result"
    }
   ],
   "source": [
    "spark=SparkSession.builder.appName(\"BasicTextPreprocessing\")\\\n",
    "    .config(\"spark.files\", \"../application.conf\")\\\n",
    "    .config(\"spark.jars\", \"../jar-files/spark-cassandra-connector_2.12-3.3.0.jar,\"\n",
    "                            \"../jar-files/spark-cassandra-connector-assembly_2.12-3.3.0.jar\")\\\n",
    "    .getOrCreate()\n",
    "\n",
    "spark.conf.set(\"spark.cassandra.connection.config.profile.path\", \"application.conf\")\n",
    "spark.conf.set(\"spark.cassandra.connection.ssl.clientAuth.enabled\", \"true\")\n",
    "spark.conf.set(\"spark.cassandra.connection.ssl.enabled\", \"true\")\n",
    "# spark.conf.set(\"spark.sql.extensions\", \"com.datastax.spark.connector.CassandraSparkExtensions\")\n",
    "\n",
    "# Spark version\n",
    "spark.sparkContext.version"
   ]
  },
  {
   "cell_type": "code",
   "execution_count": 6,
   "metadata": {
    "tags": []
   },
   "outputs": [
    {
     "name": "stdout",
     "output_type": "stream",
     "text": [
      "23/09/21 15:56:18 WARN CassandraConnectionFactory: Ignoring all programmatic configuration, only using configuration from application.conf\n"
     ]
    },
    {
     "name": "stderr",
     "output_type": "stream",
     "text": [
      "[Stage 0:>                                                          (0 + 1) / 1]\r"
     ]
    },
    {
     "name": "stdout",
     "output_type": "stream",
     "text": [
      "+-----+------------------+--------+--------------------+------------+--------------------+--------------------+\n",
      "|   ID|          AuthorID|Category|             Content| LastUpdated|                Link|               Title|\n",
      "+-----+------------------+--------+--------------------+------------+--------------------+--------------------+\n",
      "| 8772|     GeeksforGeeks|    easy|Consider the foll...|18 Jan, 2018|https://www.geeks...|GATE | GATE-CS-20...|\n",
      "|11346|PRAKHARAGRAWAL8013|   basic|What is AMCAT?\\nA...|17 Jul, 2020|https://www.geeks...|AMCAT Test Experi...|\n",
      "|23825|     GeeksforGeeks|  medium|Online Coding Rou...|10 Jan, 2019|https://www.geeks...|Paytm Interview e...|\n",
      "|23790|   ShreyaChourasia|  medium|Samsung R&D Insti...|18 Jul, 2019|https://www.geeks...|Samsung Delhi Int...|\n",
      "|13740|        AshwinGoel|   basic|man command in Li...|18 Feb, 2021|https://www.geeks...|man command in Li...|\n",
      "+-----+------------------+--------+--------------------+------------+--------------------+--------------------+\n",
      "only showing top 5 rows\n",
      "\n"
     ]
    },
    {
     "name": "stderr",
     "output_type": "stream",
     "text": [
      "                                                                                \r"
     ]
    }
   ],
   "source": [
    "articles=spark.read\\\n",
    "  .format(\"org.apache.spark.sql.cassandra\")\\\n",
    "  .options(table=\"GFGArticles\", keyspace=\"GFGArticles\")\\\n",
    "  .load()\n",
    "\n",
    "articles.show(5)"
   ]
  },
  {
   "cell_type": "code",
   "execution_count": 7,
   "metadata": {
    "tags": []
   },
   "outputs": [
    {
     "name": "stdout",
     "output_type": "stream",
     "text": [
      "root\n",
      " |-- ID: integer (nullable = false)\n",
      " |-- AuthorID: string (nullable = true)\n",
      " |-- Category: string (nullable = true)\n",
      " |-- Content: string (nullable = true)\n",
      " |-- LastUpdated: string (nullable = true)\n",
      " |-- Link: string (nullable = true)\n",
      " |-- Title: string (nullable = true)\n",
      "\n"
     ]
    }
   ],
   "source": [
    "articles.printSchema()"
   ]
  },
  {
   "cell_type": "markdown",
   "metadata": {},
   "source": [
    "## **Convert to `pandas-on-spark` Dataframe**"
   ]
  },
  {
   "cell_type": "code",
   "execution_count": 8,
   "metadata": {
    "tags": []
   },
   "outputs": [
    {
     "name": "stdout",
     "output_type": "stream",
     "text": [
      "+-----+--------------+--------+--------------------+------------+--------------------+--------------------+-----+\n",
      "|   ID|      AuthorID|Category|             Content| LastUpdated|                Link|               Title|Index|\n",
      "+-----+--------------+--------+--------------------+------------+--------------------+--------------------+-----+\n",
      "|23474| ManasChhabra2|  medium|This resizable pr...|04 Dec, 2018|https://www.geeks...|How to disable re...|23474|\n",
      "| 3531|    manjeet_04|    easy|Sometimes, we req...|25 Apr, 2019|https://www.geeks...|Python | Find the...| 3531|\n",
      "|22273|KhushalAgarwal|  medium|JavaScript is Syn...|02 Dec, 2021|https://www.geeks...|Async/Await Funct...|22273|\n",
      "|24847|ayushjauhari14|  medium|Given a non-negat...|08 Apr, 2021|https://www.geeks...|Check if actual b...|24847|\n",
      "|23798| Sanjit_Prasad|  medium|Non-homogeneous P...|21 Sep, 2018|https://www.geeks...|Nonhomogeneous Po...|23798|\n",
      "+-----+--------------+--------+--------------------+------------+--------------------+--------------------+-----+\n",
      "only showing top 5 rows\n",
      "\n"
     ]
    }
   ],
   "source": [
    "# Duplicating the ID column so it can be used as an index column when converted to pandas-on-spark Dataframe.\n",
    "articles=articles.withColumn(\"Index\", articles[\"ID\"])\n",
    "articles.show(5)"
   ]
  },
  {
   "cell_type": "code",
   "execution_count": 9,
   "metadata": {
    "tags": []
   },
   "outputs": [
    {
     "name": "stderr",
     "output_type": "stream",
     "text": [
      "                                                                                \r"
     ]
    },
    {
     "data": {
      "text/html": [
       "<div>\n",
       "<style scoped>\n",
       "    .dataframe tbody tr th:only-of-type {\n",
       "        vertical-align: middle;\n",
       "    }\n",
       "\n",
       "    .dataframe tbody tr th {\n",
       "        vertical-align: top;\n",
       "    }\n",
       "\n",
       "    .dataframe thead th {\n",
       "        text-align: right;\n",
       "    }\n",
       "</style>\n",
       "<table border=\"1\" class=\"dataframe\">\n",
       "  <thead>\n",
       "    <tr style=\"text-align: right;\">\n",
       "      <th></th>\n",
       "      <th>ID</th>\n",
       "      <th>AuthorID</th>\n",
       "      <th>Category</th>\n",
       "      <th>Content</th>\n",
       "      <th>LastUpdated</th>\n",
       "      <th>Link</th>\n",
       "      <th>Title</th>\n",
       "    </tr>\n",
       "    <tr>\n",
       "      <th>Index</th>\n",
       "      <th></th>\n",
       "      <th></th>\n",
       "      <th></th>\n",
       "      <th></th>\n",
       "      <th></th>\n",
       "      <th></th>\n",
       "      <th></th>\n",
       "    </tr>\n",
       "  </thead>\n",
       "  <tbody>\n",
       "    <tr>\n",
       "      <th>8772</th>\n",
       "      <td>8772</td>\n",
       "      <td>GeeksforGeeks</td>\n",
       "      <td>easy</td>\n",
       "      <td>Consider the following partial Schedule S invo...</td>\n",
       "      <td>18 Jan, 2018</td>\n",
       "      <td>https://www.geeksforgeeks.org/gate-gate-cs-201...</td>\n",
       "      <td>GATE | GATE-CS-2015 (Set 3) | Question 40</td>\n",
       "    </tr>\n",
       "    <tr>\n",
       "      <th>11346</th>\n",
       "      <td>11346</td>\n",
       "      <td>PRAKHARAGRAWAL8013</td>\n",
       "      <td>basic</td>\n",
       "      <td>What is AMCAT?\\nAMCAT or Aspiring Minds Comput...</td>\n",
       "      <td>17 Jul, 2020</td>\n",
       "      <td>https://www.geeksforgeeks.org/amcat-test-exper...</td>\n",
       "      <td>AMCAT Test Experience 2021</td>\n",
       "    </tr>\n",
       "    <tr>\n",
       "      <th>23825</th>\n",
       "      <td>23825</td>\n",
       "      <td>GeeksforGeeks</td>\n",
       "      <td>medium</td>\n",
       "      <td>Online Coding Round : Platform used was cocube...</td>\n",
       "      <td>10 Jan, 2019</td>\n",
       "      <td>https://www.geeksforgeeks.org/paytm-interview-...</td>\n",
       "      <td>Paytm Interview experience (On-Campus) for FTE</td>\n",
       "    </tr>\n",
       "    <tr>\n",
       "      <th>23790</th>\n",
       "      <td>23790</td>\n",
       "      <td>ShreyaChourasia</td>\n",
       "      <td>medium</td>\n",
       "      <td>Samsung R&amp;D Institute, Delhi visited our campu...</td>\n",
       "      <td>18 Jul, 2019</td>\n",
       "      <td>https://www.geeksforgeeks.org/samsung-delhi-in...</td>\n",
       "      <td>Samsung Delhi Interview Experience (On-Campus ...</td>\n",
       "    </tr>\n",
       "    <tr>\n",
       "      <th>13740</th>\n",
       "      <td>13740</td>\n",
       "      <td>AshwinGoel</td>\n",
       "      <td>basic</td>\n",
       "      <td>man command in Linux is used to display the us...</td>\n",
       "      <td>18 Feb, 2021</td>\n",
       "      <td>https://www.geeksforgeeks.org/man-command-in-l...</td>\n",
       "      <td>man command in Linux with Examples</td>\n",
       "    </tr>\n",
       "  </tbody>\n",
       "</table>\n",
       "</div>"
      ],
      "text/plain": [
       "          ID            AuthorID Category                                                                                                                                                                                                                                                                                                                                                                                                                                                                                                                                                                                                                                                                                                                                                                                                                                                                                                                                                                                                                                                                                                                                                                                                                                                                                                                                                                                                                                                                                                                                                                                                                                                                                                                                                                                                                                                                                                                                                                                                                                                                                                                                                                                                                                                                                                                                                                                                                                                                                                                                                                                                                                                                                                                                                                                                                                                                                                                                                                                                                 Content   LastUpdated                                                                                                              Link                                                                                  Title\n",
       "Index                                                                                                                                                                                                                                                                                                                                                                                                                                                                                                                                                                                                                                                                                                                                                                                                                                                                                                                                                                                                                                                                                                                                                                                                                                                                                                                                                                                                                                                                                                                                                                                                                                                                                                                                                                                                                                                                                                                                                                                                                                                                                                                                                                                                                                                                                                                                                                                                                                                                                                                                                                                                                                                                                                                                                                                                                                                                                                                                                                                                                                                                                                                                                                                                                                                                                   \n",
       "8772    8772       GeeksforGeeks     easy    Consider the following partial Schedule S involving two transactions T1 and T2. Only the read and the write operations have been shown. The read operation on data item P is denoted by read(P) and the write operation on data item P is denoted by write(P).\\n\\nSuppose that the transaction T1 fails immediately after time instance 9. Which one of the following statements is correct? (A) T2 must be aborted and then both T1 and T2 must be re-started to ensure transaction atomicity (B) Schedule S is non-recoverable and cannot ensure transaction atomicity (C) Only T2 must be aborted and then re-started to ensure transaction atomicity (D) Schedule S is recoverable and can ensure atomicity and nothing else needs to be done Answer: (B) Explanation:\\nif transaction fails, atomicity requires effect of transaction to be undone. Durability states that once transaction commits, its change cannot be undone (without running another, compensating, transaction). Recoverable schedule: A schedules exactly where, for every set of transaction Ti and Tj. If Tj reads a data items previously written by Ti, then the commit operation of Ti precedes the commit operation of Tj. Aborting involves undoing the operations and redoing them since by the time stamp it is aborted.\\nOption (A) : T2 must be aborted and then both T1 and T2 must be re-started to ensure transaction atomicity. It is incorrect because it says abort transaction T2 and then redo all the operations. But there is no guarantee that it will succeed this time as again T1 may be fail.\\nOption(B) : Schedule S is non-recoverable and cannot ensure transaction atomicity. Correct, it is by definition an irrecoverable schedule so now even if we start to undo the actions one by one(after t1 fails) in order to ensure transaction atomicity. Still we cannot undo a committed transaction. hence this schedule is irrecoverable by definition and also not atomic since it leaves the database in an inconsistent state. Simply dirty read so nonrecoverable.\\nOption (C) : Only T2 must be aborted and then re-started to ensure transaction atomicity. It is incorrect because it says abort only transaction T2 and then redo all the T2 operations. But this is dirty read problem as it is reading the data item A which is written by T1 and T1 is not committed. Again it will be the dirty read problem. So incorrect.\\nOption (D) : Schedule S is recoverable and can ensure transaction atomicity and nothing else needs to be done. Incorrect, it is clearly saying that schedule s is recoverable but it is irrecoverable because T2 read the data item A which is written by T1 and T1 failed and rollback, at the rollback T1 start undo all operations and modified the value of A with previous value but T2 is already committed so T2 can’t change the read value of A which was earlier taken from T1.\\n\\nThis solution is contributed by Nitika Bansa . Quiz of this Question  18 Jan, 2018                                                https://www.geeksforgeeks.org/gate-gate-cs-2015-set-3-question-39/                                              GATE | GATE-CS-2015 (Set 3) | Question 40\n",
       "11346  11346  PRAKHARAGRAWAL8013    basic                                                                                                                                                                                                                                                                                                                                                                                                                                                                                                                                                                                                                                                                                                                                                                                                                                                                                                                                                                                                                                                                                                                                                                                                                                                                                                                                                                                                                                                                                                                                                                                                                                                                                                                                                                                                                                                                                                                                                                                                                                                                                                                                                                                                                                                                                                          What is AMCAT?\\nAMCAT or Aspiring Minds Computer Adaptive Test evaluates candidates on the basis of their core skills which includes reasoning skills, quantitative aptitude, English and technical skills.\\nWho is Eligible for AMCAT?\\nAny aspirant looking for a job can give AMCAT.\\nMy AMCAT Experience:\\nI gave my AMCAT test on 15-july.It basically a test which include apptitude,logical reasoing,verbal ability,and your branch specific question. I begin my test at evening 5pm.Each section contain 20 question. In technical section,two coding question is given which should be completed with in 75min. Coding question are quite simple. A question on simple array Implementation of queue  17 Jul, 2020                                                         https://www.geeksforgeeks.org/amcat-test-experience-2021/                                                             AMCAT Test Experience 2021\n",
       "23825  23825       GeeksforGeeks   medium  Online Coding Round : Platform used was cocubes.com Time : 75 min Question : 3 Coding Question\\nSimple linked list implementation. Given two strings in the form of linked lists you were to find the lexicographical greatest string. Solution : GeeksforGeeks Link You were given an array and you were supposed to find the number of elements which is/are largest among all elements present in the right side of that particular element in the array. Solution : GeeksforGeeks Link It was a question related to BP+Bitmask. I don’t remember the exact question.\\nAround 27 students were selected from the coding round and were called for further interview rounds. Round 1(Face-To-Face)\\nThe interviewer was very friendly.He asked me to introduce my self\\nThen he asked me some question : Find the maximum cost in traversing a 2-D matrix from one given cell to another. It is same as Min Cost Path DP problem. He asked me to write a code for this. GeeksforGeeks Link Rod Cutting DP I gave him an approach and he was satisfied with this. Then he asked me to write the code. Solution : GeeksforGeeks Link Left view of Binary Tree I gave him an approach and he was happy with approach. After this I was asked to write the code. Solution : GeeksforGeeks Link After these questions he went on for some theoretical questions related to OOPS, DBMS, OS etc.\\nHe asked basic questions like polymorphism and its types. Then, about Normalization and its types with example. He also asked questions related to semaphores.\\nRound 2(Face To Face 2)\\nThe interviewer was very friendly.He asked me to introduce my self and about my hobby. He then moved on to the theoretical concepts of subjects. He asked me questions related to DBMS(transactions and its properties-ACID, about normalization with examples, indexing), OS(paging, segmentation, difference between process and thread etc). After this he moved to my project, he asked me to give brief idea about my project. He asked questions related to my project(SQL vs No SQL, Node-Js concepts etc.). Then he asked me a simple coding question with certain constraints and I solved it. He was very happy with my solution. At the last he gave me a puzzle to which I couldn’t solve.\\n\\nRound 3(Technical+Managerial)\\nThe interviewer was very friendly. He went through my resume and asked about my interest and extra co-curricular activities. After this he asked about my aims, and other HR’s like questions. He asked few project related questions and this was all for this round.\\n\\nRound 4(HR)\\nThe interviewer was very friendly. She asked me to introduce myself.\\nShe asked about my hobby. After this few questions like Why Paytm? etc. This was non-tech round. She wanted to check your nature, attitude and team work skills. Then I was asked to wait for the results.\\nVerdict – Selected 🙂\\nA big thank you to GeeksforGeeks for providing such invaluable material for preparation.  10 Jan, 2019                                       https://www.geeksforgeeks.org/paytm-interview-experience-on-campus-for-fte/                                         Paytm Interview experience (On-Campus) for FTE\n",
       "23790  23790     ShreyaChourasia   medium                                                                                                                         Samsung R&D Institute, Delhi visited our campus for FTE offer. The cut-off was 7 CGPA throughout and eligible departments were CSE, ECE and EE.\\n1. Online coding round This round was an online coding round in which one question with 50 test cases was to be solved in 3 hours on Samsung’s own software. You have to pass all the 50 test cases in order to qualify this round. The question was this -> Busrt balloon to maximize coins .\\n22 out of 70 candidates were shortlisted for the next round.\\n2. Technical Interview The Interview started with a little discussion on one of my projects, mainly to know whether I have worked on Application and Development domain or not. He then asked me to rate myself in c and c++ and I said 7, which he didn’t appreciate much. :p He started with very basic C and C++ like what are Storage Classes and What is the use of register keyword and Gradually he started going into depth like why does using it make the program faster. Then he asked what happens if we try to find the factorial of a very large number through recursion and then asked me what other ways can it be solved. I gave him total 3 solutions and he was satisfied. Few more questions from Data Structures and Algorithms, dynamic Programming, like What will be the time complexity of Removing an element from a Min Heap, Practical Implementation of Stack, BFS and DFS traversal of a graph. One interesting question was that In how many minimum number of rolls of a dice can we reach the destination in the game of snake and ladder. He asked about my approach to solve this and at first I was blank but the Interviewer was quite helpful and he explained me the question again and gave enough time to think and ultimately I came up with a Solution and he was convinced with it. They were also asking about the solution of the Question in the coding round to everyone.\\nI was able to answer all of the questions he asked and he was quite impressed with me and sent me directly to the Hr round.\\nFor some candidates, they took 2 or 3 technical rounds also. So, you might have to face more than one technical round if they are not satisfied with you.\\n14 out of 22 candidates were selected for the hr round.\\n3. HR Interview It started with the standard ‘Tell me about yourself’ question and I basically told her everything that I have was there in my CV and apart from projects, there were many co-curricular activities I was involved in which she seemed impressed about. Then she asked what are my expectations from the company and where do I see myself in coming few years. Then few questions about my family and that was it.\\n13 out of 14 candidates were given the job offer and I was one of them. 🙂\\nI would like to thank geeksforgeeks which helped me a lot in interview preparation.  18 Jul, 2019  https://www.geeksforgeeks.org/samsung-delhi-interview-experience-on-campus-for-software-engineer-september-2018/  Samsung Delhi Interview Experience (On-Campus for Software Engineer) – September 2018\n",
       "13740  13740          AshwinGoel    basic                                                                                                                     man command in Linux is used to display the user manual of any command that we can run on the terminal. It provides a detailed view of the command which includes NAME, SYNOPSIS, DESCRIPTION, OPTIONS, EXIT STATUS, RETURN VALUES, ERRORS, FILES, VERSIONS, EXAMPLES, AUTHORS and SEE ALSO.\\nEvery manual is divided into the following sections:\\nExecutable programs or shell commands System calls (functions provided by the kernel) Library calls (functions within program libraries Games Special files (usually found in /dev) File formats and conventions eg /etc/passwd Miscellaneous (including macro packages and conventions), e.g. groff(7) System administration commands (usually only for root) Kernel routines [Non standard]\\nSyntax :\\n$man [OPTION]... [COMMAND NAME]...\\nOptions and Examples\\n1. No Option : It displays the whole manual of the command.\\nSyntax :\\n$ man [COMMAND NAME]\\nExample:\\n$ man printf\\nOutput:\\n\\nIn this example, manual pages of the command ‘ printf ‘ are simply returned.\\n\\n2. Section-num : Since a manual is divided into multiple sections so this option is used to display only a specific section of a manual.\\nSyntax :\\n$ man [SECTION-NUM] [COMMAND NAME]\\nExample:\\n$ man 2 intro\\nOutput:\\n\\nIn this example, the manual pages of command ‘ intro ‘ are returned which lies in the section 2.\\n\\n3. -f option : One may not be able to remember the sections in which a command is present. So this option gives the section in which the given command is present.\\nSyntax:\\n$ man -f [COMMAND NAME]\\nExample:\\n$ man -f ls\\nOutput:\\n\\nIn this example, the command ‘ ls ‘ is returned with its section number.\\n\\n4. -a option : This option helps us to display all the available intro manual pages in succession.\\nSyntax:\\n$ man -a [COMMAND NAME]\\nExample:\\n$ man -a intro\\nOutput:\\n\\n\\nIn this example you can move through the manual pages(sections) i.e either reading(by pressing Enter) or skipping(by pressing ctrl+D) or exiting(by pressing ctrl+C).\\n\\n5. -k option : This option searches the given command as a regular expression in all the manuals and it returns the manual pages with the section number in which it is found.\\nSyntax:\\n$ man -k [COMMAND NAME]\\nExample:\\n$ man -k cd\\nOutput:\\n\\nThe command ‘ cd ‘ is searched in all the manual pages by considering it as a regular expression.\\n\\n6. -w option : This option returns the location in which the manual page of a given command is present.\\nSyntax:\\n$ man -w [COMMAND NAME]\\nExample:\\n$ man -w ls\\nOutput:\\n\\nThe location of command ‘ ls ‘ is returned.\\n\\n7. -I option : It considers the command as case sensitive.\\nSyntax:\\n$ man -I [COMMAND NAME]\\nExample:\\n$ man -I printf\\nOutput:\\n\\n\\n\\nThe command ‘ printf ‘ is taken as case-sensitive i.e ‘ printf ‘ returns the manual pages but ‘ Printf ‘ gives error.  18 Feb, 2021                                                 https://www.geeksforgeeks.org/man-command-in-linux-with-examples/                                                     man command in Linux with Examples"
      ]
     },
     "execution_count": 9,
     "metadata": {},
     "output_type": "execute_result"
    }
   ],
   "source": [
    "articles=articles.pandas_api(\"Index\")\n",
    "articles[:5]"
   ]
  },
  {
   "cell_type": "markdown",
   "metadata": {},
   "source": [
    "Right now, Amazon Keyspaces does not support to get the shape/count of rows, so an error will be thrown if `articles.shape` is executed. I absolutely need this total count, so I'm getting it as follows."
   ]
  },
  {
   "cell_type": "code",
   "execution_count": 10,
   "metadata": {
    "tags": []
   },
   "outputs": [
    {
     "name": "stderr",
     "output_type": "stream",
     "text": [
      "/home/ec2-user/anaconda3/envs/python3/lib/python3.10/site-packages/pyspark/pandas/utils.py:975: PandasAPIOnSparkAdviceWarning: `to_list` loads all data into the driver's memory. It should only be used if the resulting list is expected to be small.\n",
      "  warnings.warn(message, PandasAPIOnSparkAdviceWarning)\n",
      "                                                                                \r"
     ]
    },
    {
     "data": {
      "text/plain": [
       "34550"
      ]
     },
     "execution_count": 10,
     "metadata": {},
     "output_type": "execute_result"
    }
   ],
   "source": [
    "NO_OF_ARTICLES=len(articles.LastUpdated.to_list())\n",
    "NO_OF_ARTICLES"
   ]
  },
  {
   "cell_type": "code",
   "execution_count": 11,
   "metadata": {
    "tags": []
   },
   "outputs": [
    {
     "name": "stderr",
     "output_type": "stream",
     "text": [
      "/home/ec2-user/anaconda3/envs/python3/lib/python3.10/site-packages/pyspark/pandas/utils.py:975: PandasAPIOnSparkAdviceWarning: `to_list` loads all data into the driver's memory. It should only be used if the resulting list is expected to be small.\n",
      "  warnings.warn(message, PandasAPIOnSparkAdviceWarning)\n"
     ]
    }
   ],
   "source": [
    "IDs=articles.ID.to_list()"
   ]
  },
  {
   "cell_type": "markdown",
   "metadata": {
    "nteract": {
     "transient": {
      "deleting": false
     }
    }
   },
   "source": [
    "## **Download stopwords**"
   ]
  },
  {
   "cell_type": "code",
   "execution_count": 12,
   "metadata": {
    "collapsed": false,
    "gather": {
     "logged": 1693510249785
    },
    "jupyter": {
     "outputs_hidden": false,
     "source_hidden": false
    },
    "nteract": {
     "transient": {
      "deleting": false
     }
    },
    "tags": []
   },
   "outputs": [
    {
     "name": "stderr",
     "output_type": "stream",
     "text": [
      "[nltk_data] Downloading package stopwords to\n",
      "[nltk_data]     /home/ec2-user/nltk_data...\n",
      "[nltk_data]   Package stopwords is already up-to-date!\n"
     ]
    },
    {
     "data": {
      "text/plain": [
       "True"
      ]
     },
     "execution_count": 12,
     "metadata": {},
     "output_type": "execute_result"
    }
   ],
   "source": [
    "import nltk, re\n",
    "nltk.download(\"stopwords\")"
   ]
  },
  {
   "cell_type": "code",
   "execution_count": 13,
   "metadata": {
    "collapsed": false,
    "gather": {
     "logged": 1693510250264
    },
    "jupyter": {
     "outputs_hidden": false,
     "source_hidden": false
    },
    "nteract": {
     "transient": {
      "deleting": false
     }
    },
    "tags": []
   },
   "outputs": [],
   "source": [
    "from nltk.corpus import stopwords\n",
    "STOP_WORDS_LIST=stopwords.words('english')"
   ]
  },
  {
   "cell_type": "code",
   "execution_count": 14,
   "metadata": {
    "collapsed": false,
    "gather": {
     "logged": 1693510250841
    },
    "jupyter": {
     "outputs_hidden": false,
     "source_hidden": false
    },
    "nteract": {
     "transient": {
      "deleting": false
     }
    },
    "tags": []
   },
   "outputs": [],
   "source": [
    "# Define a function to remove stopwords and puncutation.\n",
    "def removeStopwordsAndPunctuation(text):\n",
    "    # Removing extra spaces and anything other than alphanumeric characters.\n",
    "    text=re.sub(\"[\\s]+\", \" \", re.sub(\"[^A-z0-9\\s]\", \" \", text)).lower()\n",
    "    # Removing stopwords\n",
    "    text=[word for word in text.split() if not word in STOP_WORDS_LIST]\n",
    "    return ' '.join(text)"
   ]
  },
  {
   "cell_type": "markdown",
   "metadata": {
    "nteract": {
     "transient": {
      "deleting": false
     }
    }
   },
   "source": [
    "## **Load the language model**\n",
    "\n",
    "The language model pipeline consists of classes: `['tok2vec', 'tagger', 'parser', 'attribute_ruler', 'lemmatizer', 'ner']`\n",
    "\n",
    "Disabling `ner` (Named-Entity Recognition) to speed up the model."
   ]
  },
  {
   "cell_type": "code",
   "execution_count": 15,
   "metadata": {
    "collapsed": false,
    "gather": {
     "logged": 1693510251325
    },
    "jupyter": {
     "outputs_hidden": false,
     "source_hidden": false
    },
    "nteract": {
     "transient": {
      "deleting": false
     }
    },
    "tags": []
   },
   "outputs": [],
   "source": [
    "import spacy"
   ]
  },
  {
   "cell_type": "code",
   "execution_count": 16,
   "metadata": {
    "collapsed": false,
    "gather": {
     "logged": 1693510251865
    },
    "jupyter": {
     "outputs_hidden": false,
     "source_hidden": false
    },
    "nteract": {
     "transient": {
      "deleting": false
     }
    },
    "tags": []
   },
   "outputs": [
    {
     "data": {
      "text/plain": [
       "['tok2vec', 'tagger', 'parser', 'attribute_ruler', 'lemmatizer']"
      ]
     },
     "execution_count": 16,
     "metadata": {},
     "output_type": "execute_result"
    }
   ],
   "source": [
    "nlp=spacy.load(\"en_core_web_sm\", disable=[\"ner\"])\n",
    "nlp.pipe_names"
   ]
  },
  {
   "cell_type": "markdown",
   "metadata": {
    "nteract": {
     "transient": {
      "deleting": false
     }
    }
   },
   "source": [
    "## **Preprocess Text**\n",
    "\n",
    "**1.** Removal of stop words and punctuation.\n",
    "\n",
    "**2.** Pass the articles text in the following form (a list of tuples). The text of each article goes first in each tuple and we pass the `id` of the article in the dictionary. This is to easy get the ID of an article after spacy text processing. When passing the data in this format to `nlp.pipe()` method, mark `as_tuples` as True.\n",
    "\n",
    "```python\n",
    "[\n",
    "    (\"text ...\", {\"ID\" : <ID-Value>}),\n",
    "    (\"text ...\", {\"ID\" : <ID-Value>}),\n",
    "    ...\n",
    "]\n",
    "```\n",
    "\n",
    "**3.** Replace the tokens in the article text with their lemmatized form."
   ]
  },
  {
   "cell_type": "code",
   "execution_count": 17,
   "metadata": {
    "collapsed": false,
    "gather": {
     "logged": 1693510252497
    },
    "jupyter": {
     "outputs_hidden": false,
     "source_hidden": false
    },
    "nteract": {
     "transient": {
      "deleting": false
     }
    },
    "tags": []
   },
   "outputs": [],
   "source": [
    "# Define a function to preprocess text.\n",
    "# def textPreprocess(articles):\n",
    "    # Remove stop words and punctuation\n",
    "    # articles.loc[:, \"Content\"]=articles.Content.apply(removeStopwordsAndPunctuation)\n",
    "    # for article in articles[:5].iterrows():\n",
    "    #     articles.loc[article[0], \"Content\"]=removeStopwordsAndPunctuation(article[1].Content))\n",
    "        \n",
    "    # Get lemmatized words\n",
    "    # for article, attr in nlp.pipe(list(articles.apply(lambda article: (article.Content, {\"ID\": article.name}), axis=1)), as_tuples=True, n_process=-1, batch_size=32):\n",
    "    #     articles.loc[articles.ID==attr[\"ID\"], \"Content\"]=\" \".join([token.lemma_.strip() for token in article])"
   ]
  },
  {
   "cell_type": "code",
   "execution_count": 18,
   "metadata": {
    "tags": []
   },
   "outputs": [],
   "source": [
    "# Define a function to preprocess text.\n",
    "def textPreprocess(i, article):\n",
    "    article=removeStopwordsAndPunctuation(article)\n",
    "    # Get lemmatized words\n",
    "    return i, \" \".join([token.lemma_.lower().strip() for token in nlp(article)])"
   ]
  },
  {
   "cell_type": "markdown",
   "metadata": {
    "tags": []
   },
   "source": [
    "## **Connect to Amazon Keyspaces**"
   ]
  },
  {
   "cell_type": "code",
   "execution_count": 19,
   "metadata": {
    "tags": []
   },
   "outputs": [],
   "source": [
    "from cassandra.cluster import Cluster, ExecutionProfile, EXEC_PROFILE_DEFAULT\n",
    "from ssl import SSLContext, PROTOCOL_TLSv1_2, CERT_REQUIRED\n",
    "from cassandra.auth import PlainTextAuthProvider\n",
    "from cassandra.query import SimpleStatement\n",
    "from cassandra import ConsistencyLevel"
   ]
  },
  {
   "cell_type": "code",
   "execution_count": 20,
   "metadata": {
    "tags": []
   },
   "outputs": [],
   "source": [
    "# Service username and password for AWS Keyspaces. I previous saved my Keyspace credentials as environment variables.\n",
    "username=os.environ[\"keyspacesCredentialUsername\"]\n",
    "password=os.environ[\"keyspacesCredentialPassword\"]"
   ]
  },
  {
   "cell_type": "code",
   "execution_count": 21,
   "metadata": {
    "tags": []
   },
   "outputs": [
    {
     "name": "stderr",
     "output_type": "stream",
     "text": [
      "/tmp/ipykernel_21821/1133154703.py:2: DeprecationWarning: ssl.PROTOCOL_TLSv1_2 is deprecated\n",
      "  ssl_context=SSLContext(PROTOCOL_TLSv1_2)\n"
     ]
    }
   ],
   "source": [
    "# Creates a session connection to the keyspace that is secured by TLS.\n",
    "ssl_context=SSLContext(PROTOCOL_TLSv1_2)\n",
    "ssl_context.load_verify_locations('../sf-class2-root.crt')\n",
    "ssl_context.verify_mode=CERT_REQUIRED\n",
    "exec_profile=ExecutionProfile(consistency_level=ConsistencyLevel.LOCAL_QUORUM)\n",
    "auth_provider=PlainTextAuthProvider(username=username, password=password)\n",
    "\n",
    "cluster=Cluster(['cassandra.us-east-2.amazonaws.com'], \n",
    "                ssl_context=ssl_context, \n",
    "                auth_provider=auth_provider, \n",
    "                execution_profiles={EXEC_PROFILE_DEFAULT: exec_profile}, \n",
    "                port=9142)\n",
    "session=cluster.connect()"
   ]
  },
  {
   "cell_type": "markdown",
   "metadata": {
    "tags": []
   },
   "source": [
    "## **Preprocess `Content` using Multithreading**\n",
    "\n",
    "Also save the results to another table in Amazon Keyspaces.\n"
   ]
  },
  {
   "cell_type": "code",
   "execution_count": 22,
   "metadata": {
    "tags": []
   },
   "outputs": [],
   "source": [
    "from concurrent.futures import ThreadPoolExecutor, as_completed"
   ]
  },
  {
   "cell_type": "code",
   "execution_count": 23,
   "metadata": {
    "tags": []
   },
   "outputs": [],
   "source": [
    "TIMEOUT_SECS=60"
   ]
  },
  {
   "cell_type": "code",
   "execution_count": 24,
   "metadata": {
    "tags": []
   },
   "outputs": [
    {
     "name": "stdout",
     "output_type": "stream",
     "text": [
      "Batch size: 1024\n",
      "Batch #1: Preprocessed `Content` for 1024 rows\n",
      "Batch #2: Preprocessed `Content` for 1024 rows\n",
      "Batch #3: Preprocessed `Content` for 1024 rows\n",
      "Batch #4: Preprocessed `Content` for 1024 rows\n",
      "Batch #5: Preprocessed `Content` for 1024 rows\n",
      "Batch #6: Preprocessed `Content` for 1024 rows\n",
      "Batch #7: Preprocessed `Content` for 1024 rows\n",
      "Batch #8: Preprocessed `Content` for 1024 rows\n",
      "Batch #9: Preprocessed `Content` for 1024 rows\n",
      "Batch #10: Preprocessed `Content` for 1024 rows\n",
      "Batch #11: Preprocessed `Content` for 1024 rows\n",
      "Batch #12: Preprocessed `Content` for 1024 rows\n",
      "Batch #13: Preprocessed `Content` for 1024 rows\n",
      "Batch #14: Preprocessed `Content` for 1024 rows\n",
      "Batch #15: Preprocessed `Content` for 1024 rows\n",
      "Batch #16: Preprocessed `Content` for 1024 rows\n",
      "Batch #17: Preprocessed `Content` for 1024 rows\n",
      "Batch #18: Preprocessed `Content` for 1024 rows\n",
      "Batch #19: Preprocessed `Content` for 1024 rows\n",
      "Batch #20: Preprocessed `Content` for 1024 rows\n",
      "Batch #21: Preprocessed `Content` for 1024 rows\n",
      "Batch #22: Preprocessed `Content` for 1024 rows\n",
      "Batch #23: Preprocessed `Content` for 1024 rows\n",
      "Batch #24: Preprocessed `Content` for 1024 rows\n",
      "Batch #25: Preprocessed `Content` for 1024 rows\n",
      "Batch #26: Preprocessed `Content` for 1024 rows\n",
      "Batch #27: Preprocessed `Content` for 1024 rows\n",
      "Batch #28: Preprocessed `Content` for 1024 rows\n",
      "Batch #29: Preprocessed `Content` for 1024 rows\n",
      "Batch #30: Preprocessed `Content` for 1024 rows\n",
      "Batch #31: Preprocessed `Content` for 1024 rows\n",
      "Batch #32: Preprocessed `Content` for 1024 rows\n",
      "Batch #33: Preprocessed `Content` for 1024 rows\n",
      "Batch #34: Preprocessed `Content` for 758 rows\n",
      "CPU times: user 26min 49s, sys: 2min 18s, total: 29min 7s\n",
      "Wall time: 36min 46s\n"
     ]
    }
   ],
   "source": [
    "%%time\n",
    "# Run the above function for all the links in batches using multithreading.\n",
    "futureResultErrors=[]\n",
    "batchesCount, BATCH_SIZE=0, 1024\n",
    "# Print batch size\n",
    "print(f\"Batch size: {BATCH_SIZE}\")\n",
    "\n",
    "for batch_start in range(0, NO_OF_ARTICLES, BATCH_SIZE):\n",
    "    future_to_url={}\n",
    "    batchesCount+=1 # Batch number of the current batch.\n",
    "    batch_end=batch_start+BATCH_SIZE if batch_start+BATCH_SIZE<NO_OF_ARTICLES else NO_OF_ARTICLES\n",
    "\n",
    "    with ThreadPoolExecutor(max_workers=64) as executor: \n",
    "        for i in range(batch_start, batch_end):\n",
    "            future_to_url[executor.submit(textPreprocess, IDs[i], articles.loc[IDs[i], \"Content\"])]=IDs[i]\n",
    "            \n",
    "        for future in as_completed(future_to_url):\n",
    "            try:\n",
    "                ID, text=future.result(timeout=TIMEOUT_SECS)\n",
    "\n",
    "                # Insert in Amazon Keyspaces.\n",
    "                session.execute(session.prepare(f'INSERT INTO \"GFGArticles\".\"BasicPreprocessedGFGArticles\" '\n",
    "                                                f'(\"ID\", \"PreprocessedContent\") '\n",
    "                                                f'VALUES (?, ?);'), \n",
    "                                parameters=[\n",
    "                                            ID, \n",
    "                                            str(text)\n",
    "                                           ])\n",
    "\n",
    "            except Exception as err:\n",
    "                futureResultErrors.append(err)\n",
    "    \n",
    "    # Print status.\n",
    "    print(f\"Batch #{batchesCount}: Preprocessed `Content` for {(batch_end-batch_start)} rows\")"
   ]
  },
  {
   "cell_type": "code",
   "execution_count": 25,
   "metadata": {
    "tags": []
   },
   "outputs": [
    {
     "data": {
      "text/plain": [
       "[]"
      ]
     },
     "execution_count": 25,
     "metadata": {},
     "output_type": "execute_result"
    }
   ],
   "source": [
    "futureResultErrors"
   ]
  },
  {
   "cell_type": "code",
   "execution_count": null,
   "metadata": {},
   "outputs": [],
   "source": []
  }
 ],
 "metadata": {
  "kernel_info": {
   "name": "python310-sdkv2"
  },
  "kernelspec": {
   "display_name": "conda_python3",
   "language": "python",
   "name": "conda_python3"
  },
  "language_info": {
   "codemirror_mode": {
    "name": "ipython",
    "version": 3
   },
   "file_extension": ".py",
   "mimetype": "text/x-python",
   "name": "python",
   "nbconvert_exporter": "python",
   "pygments_lexer": "ipython3",
   "version": "3.10.12"
  },
  "microsoft": {
   "host": {
    "AzureML": {
     "notebookHasBeenCompleted": true
    }
   },
   "ms_spell_check": {
    "ms_spell_check_language": "en"
   }
  },
  "nteract": {
   "version": "nteract-front-end@1.0.0"
  }
 },
 "nbformat": 4,
 "nbformat_minor": 4
}
