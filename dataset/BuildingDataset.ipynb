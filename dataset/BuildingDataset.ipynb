{
 "cells": [
  {
   "cell_type": "markdown",
   "metadata": {
    "id": "NSQ-wgPYo5-i"
   },
   "source": [
    "## **Install packages if not yet installed**"
   ]
  },
  {
   "cell_type": "code",
   "execution_count": null,
   "metadata": {},
   "outputs": [],
   "source": [
    "import sys\n",
    "\n",
    "!{sys.executable} -m pip install bs4 # BeautifulSoup\n",
    "!{sys.executable} -m pip install opendatasets # OpenDatasets\n",
    "!{sys.executable} -m pip install cassandra-driver # Cassandra"
   ]
  },
  {
   "cell_type": "markdown",
   "metadata": {
    "id": "0u_mKLnrrQDq"
   },
   "source": [
    "## **Reading the dataset**\n",
    "\n",
    "**1.** Create a file `kaggle.json` and save your Kaggle username and API key. This will be used to download the dataset from Kaggle.\n",
    "\n",
    "**2.** The URL of the dataset is [https://www.kaggle.com/datasets/ashishjangra27/geeksforgeeks-articles](https://www.kaggle.com/datasets/ashishjangra27/geeksforgeeks-articles \"GeeksForGeeks Articles Dataset\"). Using `opendatasets` package, download the dataset. Step 1 is required in order for this to automatically take in your username and API key.\n",
    "\n",
    "**3.** Read the downloaded dataset."
   ]
  },
  {
   "cell_type": "code",
   "execution_count": 1,
   "metadata": {
    "gather": {
     "logged": 1694445873889
    },
    "id": "_HY149OvspXy",
    "tags": []
   },
   "outputs": [],
   "source": [
    "import json\n",
    "import opendatasets as od\n",
    "import pandas as pd\n",
    "import os"
   ]
  },
  {
   "cell_type": "code",
   "execution_count": 2,
   "metadata": {
    "tags": []
   },
   "outputs": [],
   "source": [
    "# Creating kaggle.json file. I previous saved my Kaggle username and API key as environment variables.\n",
    "with open(\"kaggle.json\", \"w\") as kaggleFile:\n",
    "    kaggleFile.write(json.dumps({\"username\": os.environ[\"kaggleUsername\"], \"key\": os.environ[\"kaggleAPIKey\"]}))"
   ]
  },
  {
   "cell_type": "code",
   "execution_count": 3,
   "metadata": {
    "colab": {
     "base_uri": "https://localhost:8080/"
    },
    "gather": {
     "logged": 1694445875577
    },
    "id": "sYGBnqsLpf96",
    "outputId": "b9722636-93ec-4f7a-f3c3-df1b4976a274",
    "tags": []
   },
   "outputs": [
    {
     "name": "stdout",
     "output_type": "stream",
     "text": [
      "Downloading geeksforgeeks-articles.zip to ./geeksforgeeks-articles\n"
     ]
    },
    {
     "name": "stderr",
     "output_type": "stream",
     "text": [
      "100%|██████████| 1.31M/1.31M [00:00<00:00, 10.8MB/s]"
     ]
    },
    {
     "name": "stdout",
     "output_type": "stream",
     "text": [
      "\n"
     ]
    },
    {
     "name": "stderr",
     "output_type": "stream",
     "text": [
      "\n"
     ]
    }
   ],
   "source": [
    "# Downloading the dataset.\n",
    "od.download(\"https://www.kaggle.com/datasets/ashishjangra27/geeksforgeeks-articles\")"
   ]
  },
  {
   "cell_type": "code",
   "execution_count": 4,
   "metadata": {
    "colab": {
     "base_uri": "https://localhost:8080/"
    },
    "gather": {
     "logged": 1694445875849
    },
    "id": "PJZmKjR3pFJU",
    "outputId": "3e3d8b1d-ecf6-4aa7-d7fc-93ea4900a640",
    "tags": []
   },
   "outputs": [
    {
     "data": {
      "text/html": [
       "<div>\n",
       "<style scoped>\n",
       "    .dataframe tbody tr th:only-of-type {\n",
       "        vertical-align: middle;\n",
       "    }\n",
       "\n",
       "    .dataframe tbody tr th {\n",
       "        vertical-align: top;\n",
       "    }\n",
       "\n",
       "    .dataframe thead th {\n",
       "        text-align: right;\n",
       "    }\n",
       "</style>\n",
       "<table border=\"1\" class=\"dataframe\">\n",
       "  <thead>\n",
       "    <tr style=\"text-align: right;\">\n",
       "      <th></th>\n",
       "      <th>title</th>\n",
       "      <th>author_id</th>\n",
       "      <th>last_updated</th>\n",
       "      <th>link</th>\n",
       "      <th>category</th>\n",
       "    </tr>\n",
       "  </thead>\n",
       "  <tbody>\n",
       "    <tr>\n",
       "      <th>0</th>\n",
       "      <td>5 Best Practices For Writing SQL Joins</td>\n",
       "      <td>priyankab14</td>\n",
       "      <td>21 Feb, 2022</td>\n",
       "      <td>https://www.geeksforgeeks.org/5-best-practices...</td>\n",
       "      <td>easy</td>\n",
       "    </tr>\n",
       "    <tr>\n",
       "      <th>1</th>\n",
       "      <td>Foundation CSS Dropdown Menu</td>\n",
       "      <td>ishankhandelwals</td>\n",
       "      <td>20 Feb, 2022</td>\n",
       "      <td>https://www.geeksforgeeks.org/foundation-css-d...</td>\n",
       "      <td>easy</td>\n",
       "    </tr>\n",
       "    <tr>\n",
       "      <th>2</th>\n",
       "      <td>Top 20 Excel Shortcuts That You Need To Know</td>\n",
       "      <td>priyankab14</td>\n",
       "      <td>17 Feb, 2022</td>\n",
       "      <td>https://www.geeksforgeeks.org/top-20-excel-sho...</td>\n",
       "      <td>easy</td>\n",
       "    </tr>\n",
       "    <tr>\n",
       "      <th>3</th>\n",
       "      <td>Servlet – Fetching Result</td>\n",
       "      <td>nishatiwari1719</td>\n",
       "      <td>17 Feb, 2022</td>\n",
       "      <td>https://www.geeksforgeeks.org/servlet-fetching...</td>\n",
       "      <td>easy</td>\n",
       "    </tr>\n",
       "    <tr>\n",
       "      <th>4</th>\n",
       "      <td>Suffix Sum Array</td>\n",
       "      <td>rohit768</td>\n",
       "      <td>21 Feb, 2022</td>\n",
       "      <td>https://www.geeksforgeeks.org/suffix-sum-array/</td>\n",
       "      <td>easy</td>\n",
       "    </tr>\n",
       "  </tbody>\n",
       "</table>\n",
       "</div>"
      ],
      "text/plain": [
       "                                          title         author_id  \\\n",
       "0        5 Best Practices For Writing SQL Joins       priyankab14   \n",
       "1                  Foundation CSS Dropdown Menu  ishankhandelwals   \n",
       "2  Top 20 Excel Shortcuts That You Need To Know       priyankab14   \n",
       "3                     Servlet – Fetching Result   nishatiwari1719   \n",
       "4                              Suffix Sum Array          rohit768   \n",
       "\n",
       "   last_updated                                               link category  \n",
       "0  21 Feb, 2022  https://www.geeksforgeeks.org/5-best-practices...     easy  \n",
       "1  20 Feb, 2022  https://www.geeksforgeeks.org/foundation-css-d...     easy  \n",
       "2  17 Feb, 2022  https://www.geeksforgeeks.org/top-20-excel-sho...     easy  \n",
       "3  17 Feb, 2022  https://www.geeksforgeeks.org/servlet-fetching...     easy  \n",
       "4  21 Feb, 2022    https://www.geeksforgeeks.org/suffix-sum-array/     easy  "
      ]
     },
     "execution_count": 4,
     "metadata": {},
     "output_type": "execute_result"
    }
   ],
   "source": [
    "# Reading the dataset.\n",
    "articles=pd.read_csv(r\"geeksforgeeks-articles/articles.csv\")\n",
    "articles.head()"
   ]
  },
  {
   "cell_type": "code",
   "execution_count": 5,
   "metadata": {
    "collapsed": false,
    "gather": {
     "logged": 1694445875995
    },
    "jupyter": {
     "outputs_hidden": false,
     "source_hidden": false
    },
    "nteract": {
     "transient": {
      "deleting": false
     }
    },
    "tags": []
   },
   "outputs": [
    {
     "data": {
      "text/plain": [
       "(34574, 5)"
      ]
     },
     "execution_count": 5,
     "metadata": {},
     "output_type": "execute_result"
    }
   ],
   "source": [
    "articles.shape"
   ]
  },
  {
   "cell_type": "markdown",
   "metadata": {
    "id": "7XBDpD3v0wvx"
   },
   "source": [
    "## **Dropping rows with null values**"
   ]
  },
  {
   "cell_type": "code",
   "execution_count": 6,
   "metadata": {
    "gather": {
     "logged": 1694445876122
    },
    "id": "uFmwL_SBykL-",
    "tags": []
   },
   "outputs": [],
   "source": [
    "articles=articles.dropna()"
   ]
  },
  {
   "cell_type": "code",
   "execution_count": 7,
   "metadata": {
    "collapsed": false,
    "gather": {
     "logged": 1694445876248
    },
    "jupyter": {
     "outputs_hidden": false,
     "source_hidden": false
    },
    "nteract": {
     "transient": {
      "deleting": false
     }
    },
    "tags": []
   },
   "outputs": [
    {
     "data": {
      "text/html": [
       "<div>\n",
       "<style scoped>\n",
       "    .dataframe tbody tr th:only-of-type {\n",
       "        vertical-align: middle;\n",
       "    }\n",
       "\n",
       "    .dataframe tbody tr th {\n",
       "        vertical-align: top;\n",
       "    }\n",
       "\n",
       "    .dataframe thead th {\n",
       "        text-align: right;\n",
       "    }\n",
       "</style>\n",
       "<table border=\"1\" class=\"dataframe\">\n",
       "  <thead>\n",
       "    <tr style=\"text-align: right;\">\n",
       "      <th></th>\n",
       "      <th>title</th>\n",
       "      <th>author_id</th>\n",
       "      <th>last_updated</th>\n",
       "      <th>link</th>\n",
       "      <th>category</th>\n",
       "    </tr>\n",
       "  </thead>\n",
       "  <tbody>\n",
       "    <tr>\n",
       "      <th>0</th>\n",
       "      <td>5 Best Practices For Writing SQL Joins</td>\n",
       "      <td>priyankab14</td>\n",
       "      <td>21 Feb, 2022</td>\n",
       "      <td>https://www.geeksforgeeks.org/5-best-practices...</td>\n",
       "      <td>easy</td>\n",
       "    </tr>\n",
       "    <tr>\n",
       "      <th>1</th>\n",
       "      <td>Foundation CSS Dropdown Menu</td>\n",
       "      <td>ishankhandelwals</td>\n",
       "      <td>20 Feb, 2022</td>\n",
       "      <td>https://www.geeksforgeeks.org/foundation-css-d...</td>\n",
       "      <td>easy</td>\n",
       "    </tr>\n",
       "    <tr>\n",
       "      <th>2</th>\n",
       "      <td>Top 20 Excel Shortcuts That You Need To Know</td>\n",
       "      <td>priyankab14</td>\n",
       "      <td>17 Feb, 2022</td>\n",
       "      <td>https://www.geeksforgeeks.org/top-20-excel-sho...</td>\n",
       "      <td>easy</td>\n",
       "    </tr>\n",
       "    <tr>\n",
       "      <th>3</th>\n",
       "      <td>Servlet – Fetching Result</td>\n",
       "      <td>nishatiwari1719</td>\n",
       "      <td>17 Feb, 2022</td>\n",
       "      <td>https://www.geeksforgeeks.org/servlet-fetching...</td>\n",
       "      <td>easy</td>\n",
       "    </tr>\n",
       "    <tr>\n",
       "      <th>4</th>\n",
       "      <td>Suffix Sum Array</td>\n",
       "      <td>rohit768</td>\n",
       "      <td>21 Feb, 2022</td>\n",
       "      <td>https://www.geeksforgeeks.org/suffix-sum-array/</td>\n",
       "      <td>easy</td>\n",
       "    </tr>\n",
       "  </tbody>\n",
       "</table>\n",
       "</div>"
      ],
      "text/plain": [
       "                                          title         author_id  \\\n",
       "0        5 Best Practices For Writing SQL Joins       priyankab14   \n",
       "1                  Foundation CSS Dropdown Menu  ishankhandelwals   \n",
       "2  Top 20 Excel Shortcuts That You Need To Know       priyankab14   \n",
       "3                     Servlet – Fetching Result   nishatiwari1719   \n",
       "4                              Suffix Sum Array          rohit768   \n",
       "\n",
       "   last_updated                                               link category  \n",
       "0  21 Feb, 2022  https://www.geeksforgeeks.org/5-best-practices...     easy  \n",
       "1  20 Feb, 2022  https://www.geeksforgeeks.org/foundation-css-d...     easy  \n",
       "2  17 Feb, 2022  https://www.geeksforgeeks.org/top-20-excel-sho...     easy  \n",
       "3  17 Feb, 2022  https://www.geeksforgeeks.org/servlet-fetching...     easy  \n",
       "4  21 Feb, 2022    https://www.geeksforgeeks.org/suffix-sum-array/     easy  "
      ]
     },
     "execution_count": 7,
     "metadata": {},
     "output_type": "execute_result"
    }
   ],
   "source": [
    "# Reset index.\n",
    "articles=articles.reset_index().drop(\"index\", axis=1)\n",
    "articles.head()"
   ]
  },
  {
   "cell_type": "code",
   "execution_count": 8,
   "metadata": {
    "collapsed": false,
    "gather": {
     "logged": 1694445876445
    },
    "jupyter": {
     "outputs_hidden": false,
     "source_hidden": false
    },
    "nteract": {
     "transient": {
      "deleting": false
     }
    },
    "tags": []
   },
   "outputs": [
    {
     "data": {
      "text/plain": [
       "(34551, 5)"
      ]
     },
     "execution_count": 8,
     "metadata": {},
     "output_type": "execute_result"
    }
   ],
   "source": [
    "articles.shape"
   ]
  },
  {
   "cell_type": "markdown",
   "metadata": {},
   "source": [
    "## **Connect to Amazon Keyspaces**"
   ]
  },
  {
   "cell_type": "code",
   "execution_count": 9,
   "metadata": {
    "tags": []
   },
   "outputs": [],
   "source": [
    "from cassandra.cluster import Cluster, ExecutionProfile, EXEC_PROFILE_DEFAULT\n",
    "from ssl import SSLContext, PROTOCOL_TLSv1_2, CERT_REQUIRED\n",
    "from cassandra.auth import PlainTextAuthProvider\n",
    "from cassandra.query import SimpleStatement\n",
    "from cassandra import ConsistencyLevel"
   ]
  },
  {
   "cell_type": "code",
   "execution_count": 10,
   "metadata": {
    "tags": []
   },
   "outputs": [],
   "source": [
    "# Service username and password for AWS Keyspaces. I previous saved my Keyspace credentials as environment variables.\n",
    "username=os.environ[\"keyspacesCredentialUsername\"]\n",
    "password=os.environ[\"keyspacesCredentialPassword\"]"
   ]
  },
  {
   "cell_type": "code",
   "execution_count": 11,
   "metadata": {
    "tags": []
   },
   "outputs": [
    {
     "name": "stderr",
     "output_type": "stream",
     "text": [
      "/tmp/ipykernel_14635/4248458774.py:2: DeprecationWarning: ssl.PROTOCOL_TLSv1_2 is deprecated\n",
      "  ssl_context=SSLContext(PROTOCOL_TLSv1_2)\n"
     ]
    }
   ],
   "source": [
    "# Creates a session connection to the keyspace that is secured by TLS.\n",
    "ssl_context=SSLContext(PROTOCOL_TLSv1_2)\n",
    "ssl_context.load_verify_locations('../sf-class2-root.crt')\n",
    "ssl_context.verify_mode=CERT_REQUIRED\n",
    "exec_profile=ExecutionProfile(consistency_level=ConsistencyLevel.LOCAL_QUORUM)\n",
    "auth_provider=PlainTextAuthProvider(username=username, password=password)\n",
    "\n",
    "cluster=Cluster(['cassandra.us-east-2.amazonaws.com'], \n",
    "                ssl_context=ssl_context, \n",
    "                auth_provider=auth_provider, \n",
    "                execution_profiles={EXEC_PROFILE_DEFAULT: exec_profile}, \n",
    "                port=9142)\n",
    "session=cluster.connect()"
   ]
  },
  {
   "cell_type": "markdown",
   "metadata": {
    "id": "Zd4cQrZkvA5Z"
   },
   "source": [
    "## **Scrap text from the URL to get article content**\n",
    "\n",
    "**1.** Create a new column `text` to store the scrapped text using BeautifulSoup.\n",
    "\n",
    "**2.** Define the function to scrap text given the URL as a parameter.\n",
    "\n",
    "**3.** In batches of 1024, use multi-threading to call this function for each row and save each row of the dataframe in Amazon Keyspaces."
   ]
  },
  {
   "cell_type": "code",
   "execution_count": 13,
   "metadata": {
    "gather": {
     "logged": 1694445880090
    },
    "id": "zsaLA04W0_Hy",
    "tags": []
   },
   "outputs": [],
   "source": [
    "from bs4 import BeautifulSoup\n",
    "import requests\n",
    "from concurrent.futures import ThreadPoolExecutor, as_completed"
   ]
  },
  {
   "cell_type": "code",
   "execution_count": 14,
   "metadata": {
    "colab": {
     "base_uri": "https://localhost:8080/"
    },
    "gather": {
     "logged": 1694445880916
    },
    "id": "t7FqxSgf1FJ_",
    "outputId": "1e7283a5-c609-49cc-e3d3-be63966802f8",
    "tags": []
   },
   "outputs": [
    {
     "data": {
      "text/html": [
       "<div>\n",
       "<style scoped>\n",
       "    .dataframe tbody tr th:only-of-type {\n",
       "        vertical-align: middle;\n",
       "    }\n",
       "\n",
       "    .dataframe tbody tr th {\n",
       "        vertical-align: top;\n",
       "    }\n",
       "\n",
       "    .dataframe thead th {\n",
       "        text-align: right;\n",
       "    }\n",
       "</style>\n",
       "<table border=\"1\" class=\"dataframe\">\n",
       "  <thead>\n",
       "    <tr style=\"text-align: right;\">\n",
       "      <th></th>\n",
       "      <th>title</th>\n",
       "      <th>author_id</th>\n",
       "      <th>last_updated</th>\n",
       "      <th>link</th>\n",
       "      <th>category</th>\n",
       "      <th>text</th>\n",
       "    </tr>\n",
       "  </thead>\n",
       "  <tbody>\n",
       "    <tr>\n",
       "      <th>0</th>\n",
       "      <td>5 Best Practices For Writing SQL Joins</td>\n",
       "      <td>priyankab14</td>\n",
       "      <td>21 Feb, 2022</td>\n",
       "      <td>https://www.geeksforgeeks.org/5-best-practices...</td>\n",
       "      <td>easy</td>\n",
       "      <td></td>\n",
       "    </tr>\n",
       "    <tr>\n",
       "      <th>1</th>\n",
       "      <td>Foundation CSS Dropdown Menu</td>\n",
       "      <td>ishankhandelwals</td>\n",
       "      <td>20 Feb, 2022</td>\n",
       "      <td>https://www.geeksforgeeks.org/foundation-css-d...</td>\n",
       "      <td>easy</td>\n",
       "      <td></td>\n",
       "    </tr>\n",
       "    <tr>\n",
       "      <th>2</th>\n",
       "      <td>Top 20 Excel Shortcuts That You Need To Know</td>\n",
       "      <td>priyankab14</td>\n",
       "      <td>17 Feb, 2022</td>\n",
       "      <td>https://www.geeksforgeeks.org/top-20-excel-sho...</td>\n",
       "      <td>easy</td>\n",
       "      <td></td>\n",
       "    </tr>\n",
       "    <tr>\n",
       "      <th>3</th>\n",
       "      <td>Servlet – Fetching Result</td>\n",
       "      <td>nishatiwari1719</td>\n",
       "      <td>17 Feb, 2022</td>\n",
       "      <td>https://www.geeksforgeeks.org/servlet-fetching...</td>\n",
       "      <td>easy</td>\n",
       "      <td></td>\n",
       "    </tr>\n",
       "    <tr>\n",
       "      <th>4</th>\n",
       "      <td>Suffix Sum Array</td>\n",
       "      <td>rohit768</td>\n",
       "      <td>21 Feb, 2022</td>\n",
       "      <td>https://www.geeksforgeeks.org/suffix-sum-array/</td>\n",
       "      <td>easy</td>\n",
       "      <td></td>\n",
       "    </tr>\n",
       "  </tbody>\n",
       "</table>\n",
       "</div>"
      ],
      "text/plain": [
       "                                          title         author_id  \\\n",
       "0        5 Best Practices For Writing SQL Joins       priyankab14   \n",
       "1                  Foundation CSS Dropdown Menu  ishankhandelwals   \n",
       "2  Top 20 Excel Shortcuts That You Need To Know       priyankab14   \n",
       "3                     Servlet – Fetching Result   nishatiwari1719   \n",
       "4                              Suffix Sum Array          rohit768   \n",
       "\n",
       "   last_updated                                               link category  \\\n",
       "0  21 Feb, 2022  https://www.geeksforgeeks.org/5-best-practices...     easy   \n",
       "1  20 Feb, 2022  https://www.geeksforgeeks.org/foundation-css-d...     easy   \n",
       "2  17 Feb, 2022  https://www.geeksforgeeks.org/top-20-excel-sho...     easy   \n",
       "3  17 Feb, 2022  https://www.geeksforgeeks.org/servlet-fetching...     easy   \n",
       "4  21 Feb, 2022    https://www.geeksforgeeks.org/suffix-sum-array/     easy   \n",
       "\n",
       "  text  \n",
       "0       \n",
       "1       \n",
       "2       \n",
       "3       \n",
       "4       "
      ]
     },
     "execution_count": 14,
     "metadata": {},
     "output_type": "execute_result"
    }
   ],
   "source": [
    "# Add new column to save the scrapped text from the URLs.\n",
    "articles[\"text\"]=\"\"\n",
    "articles.head()"
   ]
  },
  {
   "cell_type": "code",
   "execution_count": 15,
   "metadata": {
    "collapsed": false,
    "gather": {
     "logged": 1694445882173
    },
    "jupyter": {
     "outputs_hidden": false,
     "source_hidden": false
    },
    "nteract": {
     "transient": {
      "deleting": false
     }
    },
    "tags": []
   },
   "outputs": [],
   "source": [
    "# Dictionary to save the errors occurred while scrapping text.\n",
    "scrapTextErrors={}"
   ]
  },
  {
   "cell_type": "code",
   "execution_count": 16,
   "metadata": {
    "collapsed": false,
    "gather": {
     "logged": 1694445882994
    },
    "jupyter": {
     "outputs_hidden": false,
     "source_hidden": false
    },
    "nteract": {
     "transient": {
      "deleting": false
     }
    },
    "tags": []
   },
   "outputs": [],
   "source": [
    "# Set timeout.\n",
    "TIMEOUT_SECS=60"
   ]
  },
  {
   "cell_type": "code",
   "execution_count": 17,
   "metadata": {
    "gather": {
     "logged": 1694445883695
    },
    "id": "uc8ghB8KtOAh",
    "tags": []
   },
   "outputs": [],
   "source": [
    "# Define a function to scrap text.\n",
    "def scrapText(i, link):\n",
    "    try:\n",
    "        page=requests.get(link).text\n",
    "        parser=BeautifulSoup(page, \"html.parser\")\n",
    "\n",
    "        # Get the inner HTML of <div class=\"text\"></div> tag. This consists of the main content.\n",
    "        # Instead of recursively finding this tag with the above class name, I'm going iteratively to avoid max recursion errors.\n",
    "        parser=parser.find(\"html\", recursive=False)\n",
    "        parser=parser.find(\"body\", recursive=False)\n",
    "        parser=parser.find(\"div\", id=\"main\", recursive=False)\n",
    "        parser=parser.find(\"div\", id=\"home-page\", recursive=False)\n",
    "        parser=parser.find(\"div\", class_=\"article-page_flex\", recursive=False)\n",
    "        parser=parser.find(\"div\", class_=\"leftBar\", recursive=False)\n",
    "        parser=parser.find(\"div\", class_=\"article--viewer\", recursive=False)\n",
    "        parser=parser.find(\"div\", class_=\"article--viewer_content\", recursive=False)\n",
    "        parser=parser.find(\"div\", class_=\"a-wrapper\", recursive=False)\n",
    "        parser=parser.find(\"article\", recursive=False)\n",
    "        \n",
    "        text=[\"\"]\n",
    "        for tag in parser.find(\"div\", class_=\"text\", recursive=False).contents:\n",
    "            # Ignore all the <div> tags inside <div class=\"text\"></div> as they do not have any\n",
    "            # main content.\n",
    "            if tag.name!=\"div\":\n",
    "                text.append(\" \".join(tag.stripped_strings))\n",
    "        # Return the main content.\n",
    "        return i, \"\\n\".join(text).strip(\"\\n\")\n",
    "    \n",
    "    except Exception as err:\n",
    "        scrapTextErrors[i]={\"link\": link, \"error\": err}\n",
    "    return i, \"\""
   ]
  },
  {
   "cell_type": "code",
   "execution_count": 18,
   "metadata": {
    "collapsed": false,
    "jupyter": {
     "outputs_hidden": false,
     "source_hidden": false
    },
    "nteract": {
     "transient": {
      "deleting": false
     }
    },
    "tags": []
   },
   "outputs": [
    {
     "name": "stdout",
     "output_type": "stream",
     "text": [
      "Batch size: 1024\n",
      "Batch #1: Extracted `text` for 1023 links\n",
      "Batch #2: Extracted `text` for 1024 links\n",
      "Batch #3: Extracted `text` for 1024 links\n",
      "Batch #4: Extracted `text` for 1024 links\n",
      "Batch #5: Extracted `text` for 1023 links\n",
      "Batch #6: Extracted `text` for 1023 links\n",
      "Batch #7: Extracted `text` for 1024 links\n",
      "Batch #8: Extracted `text` for 1023 links\n",
      "Batch #9: Extracted `text` for 1022 links\n",
      "Batch #10: Extracted `text` for 1022 links\n",
      "Batch #11: Extracted `text` for 1024 links\n",
      "Batch #12: Extracted `text` for 1024 links\n",
      "Batch #13: Extracted `text` for 1024 links\n",
      "Batch #14: Extracted `text` for 1024 links\n",
      "Batch #15: Extracted `text` for 1024 links\n",
      "Batch #16: Extracted `text` for 1022 links\n",
      "Batch #17: Extracted `text` for 1024 links\n",
      "Batch #18: Extracted `text` for 1023 links\n",
      "Batch #19: Extracted `text` for 1023 links\n",
      "Batch #20: Extracted `text` for 1024 links\n",
      "Batch #21: Extracted `text` for 1021 links\n",
      "Batch #22: Extracted `text` for 1023 links\n",
      "Batch #23: Extracted `text` for 1023 links\n",
      "Batch #24: Extracted `text` for 1023 links\n",
      "Batch #25: Extracted `text` for 1024 links\n",
      "Batch #26: Extracted `text` for 1023 links\n",
      "Batch #27: Extracted `text` for 1022 links\n",
      "Batch #28: Extracted `text` for 1024 links\n",
      "Batch #29: Extracted `text` for 1023 links\n",
      "Batch #30: Extracted `text` for 1023 links\n",
      "Batch #31: Extracted `text` for 1024 links\n",
      "Batch #32: Extracted `text` for 1021 links\n",
      "Batch #33: Extracted `text` for 1024 links\n",
      "Batch #34: Extracted `text` for 759 links\n",
      "CPU times: user 1h 49min 14s, sys: 4min 13s, total: 1h 53min 28s\n",
      "Wall time: 1h 35min 29s\n"
     ]
    }
   ],
   "source": [
    "%%time\n",
    "# Run the above function for all the links in batches using multithreading.\n",
    "futureResultErrors=[]\n",
    "batchesCount, BATCH_SIZE=0, 1024\n",
    "# Print batch size\n",
    "print(f\"Batch size: {BATCH_SIZE}\")\n",
    "\n",
    "for batch_start in range(0, articles.shape[0], BATCH_SIZE):\n",
    "    future_to_url={}\n",
    "    batchesCount+=1 # Batch number of the current batch.\n",
    "    countEmptyText=0 # Count of empty `text` in the current batch.\n",
    "    batch_end=batch_start+BATCH_SIZE if batch_start+BATCH_SIZE<articles.shape[0] else articles.shape[0]\n",
    "\n",
    "    with ThreadPoolExecutor(max_workers=128) as executor: \n",
    "        for i in range(batch_start, batch_end):\n",
    "            future_to_url[executor.submit(scrapText, i, articles.loc[i, \"link\"])]=i\n",
    "            \n",
    "        for future in as_completed(future_to_url):\n",
    "            try:\n",
    "                i, text=future.result(timeout=TIMEOUT_SECS)\n",
    "                articles.loc[i, \"text\"]=str(text)\n",
    "\n",
    "                # Insert in Amazon Keyspaces.\n",
    "                session.execute(session.prepare(f'INSERT INTO \"GFGArticles\".\"GFGArticles\" '\n",
    "                                                f'(\"ID\", \"Title\", \"Category\", \"Link\", \"LastUpdated\", \"AuthorID\", \"Content\") '\n",
    "                                                f'VALUES (?, ?, ?, ?, ?, ?, ?);'), \n",
    "                                parameters=[i, \n",
    "                                            articles.loc[i, \"title\"],\n",
    "                                            articles.loc[i, \"category\"],\n",
    "                                            articles.loc[i, \"link\"],\n",
    "                                            articles.loc[i, \"last_updated\"],\n",
    "                                            articles.loc[i, \"author_id\"],\n",
    "                                            articles.loc[i, \"text\"]])\n",
    "\n",
    "                # If `text` is empty, update count.\n",
    "                if text==\"\":\n",
    "                    countEmptyText+=1\n",
    "            except Exception as err:\n",
    "                futureResultErrors.append(err)\n",
    "    \n",
    "    # Print status.\n",
    "    print(f\"Batch #{batchesCount}: Extracted `text` for {(batch_end-batch_start)-countEmptyText} links\")\n",
    "    # Empty text for this batch.\n",
    "    articles.loc[batch_start:batch_end, \"text\"]=\"\""
   ]
  },
  {
   "cell_type": "markdown",
   "metadata": {
    "nteract": {
     "transient": {
      "deleting": false
     }
    }
   },
   "source": [
    "## **See errors**"
   ]
  },
  {
   "cell_type": "code",
   "execution_count": 20,
   "metadata": {
    "collapsed": false,
    "gather": {
     "logged": 1694452075068
    },
    "jupyter": {
     "outputs_hidden": false,
     "source_hidden": false
    },
    "nteract": {
     "transient": {
      "deleting": false
     }
    },
    "tags": []
   },
   "outputs": [
    {
     "data": {
      "text/plain": [
       "{537: {'link': 'https://www.geeksforgeeks.org/geek-o-lympics-2021-let-the-fun-begin/',\n",
       "  'error': AttributeError(\"'NoneType' object has no attribute 'find'\")},\n",
       " 8716: {'link': 'https://www.geeksforgeeks.org/process-synchronization/',\n",
       "  'error': AttributeError(\"'NoneType' object has no attribute 'find'\")},\n",
       " 9621: {'link': 'https://www.geeksforgeeks.org/operating-systems-set-2/',\n",
       "  'error': AttributeError(\"'NoneType' object has no attribute 'find'\")},\n",
       " 10087: {'link': 'https://www.geeksforgeeks.org/geek-o-lympics-sale-courses-at-pocket-friendly-prices/',\n",
       "  'error': AttributeError(\"'NoneType' object has no attribute 'find'\")},\n",
       " 17570: {'link': 'https://www.geeksforgeeks.org/data-structures-hash-question-4/',\n",
       "  'error': AttributeError(\"'NoneType' object has no attribute 'find'\")},\n",
       " 19289: {'link': 'https://www.geeksforgeeks.org/how-to-calculate-and-plot-the-derivative-of-a-function-using-python-matplotlib/',\n",
       "  'error': AttributeError(\"'NoneType' object has no attribute 'find'\")},\n",
       " 26343: {'link': 'https://www.geeksforgeeks.org/count-sub-arrays-sum-divisible-k/',\n",
       "  'error': AttributeError(\"'NoneType' object has no attribute 'find'\")},\n",
       " 31916: {'link': 'https://www.geeksforgeeks.org/%c2%ad%c2%adkasais-algorithm-for-construction-of-lcp-array-from-suffix-array/',\n",
       "  'error': AttributeError(\"'NoneType' object has no attribute 'find'\")},\n",
       " 'futureResult': [cassandra.OperationTimedOut(\"errors={'3.12.23.142:9142': 'Client request timeout. See Session.execute[_async](timeout)'}, last_host=3.12.23.142:9142\"),\n",
       "  cassandra.OperationTimedOut(\"errors={'3.12.23.134:9142': 'Client request timeout. See Session.execute[_async](timeout)'}, last_host=3.12.23.134:9142\"),\n",
       "  cassandra.OperationTimedOut(\"errors={'3.12.23.182:9142': 'Client request timeout. See Session.execute[_async](timeout)'}, last_host=3.12.23.182:9142\"),\n",
       "  cassandra.OperationTimedOut(\"errors={'3.12.23.134:9142': 'Client request timeout. See Session.execute[_async](timeout)'}, last_host=3.12.23.134:9142\")]}"
      ]
     },
     "execution_count": 20,
     "metadata": {},
     "output_type": "execute_result"
    }
   ],
   "source": [
    "# Add the futureResultErrors to the scrapTextErrors.\n",
    "scrapTextErrors[\"futureResult\"]=futureResultErrors\n",
    "scrapTextErrors"
   ]
  },
  {
   "cell_type": "markdown",
   "metadata": {
    "nteract": {
     "transient": {
      "deleting": false
     }
    }
   },
   "source": [
    "The above errors occurred because those links do not have any content."
   ]
  }
 ],
 "metadata": {
  "colab": {
   "authorship_tag": "ABX9TyOSztwXH+1bB2Q16wguXXUm",
   "include_colab_link": true,
   "provenance": []
  },
  "kernel_info": {
   "name": "python3"
  },
  "kernelspec": {
   "display_name": "conda_python3",
   "language": "python",
   "name": "conda_python3"
  },
  "language_info": {
   "codemirror_mode": {
    "name": "ipython",
    "version": 3
   },
   "file_extension": ".py",
   "mimetype": "text/x-python",
   "name": "python",
   "nbconvert_exporter": "python",
   "pygments_lexer": "ipython3",
   "version": "3.10.12"
  },
  "microsoft": {
   "host": {
    "AzureML": {
     "notebookHasBeenCompleted": true
    }
   },
   "ms_spell_check": {
    "ms_spell_check_language": "en"
   }
  },
  "nteract": {
   "version": "nteract-front-end@1.0.0"
  }
 },
 "nbformat": 4,
 "nbformat_minor": 4
}
