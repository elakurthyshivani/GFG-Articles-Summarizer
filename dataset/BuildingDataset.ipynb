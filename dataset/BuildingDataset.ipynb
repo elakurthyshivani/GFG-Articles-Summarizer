{
  "nbformat": 4,
  "nbformat_minor": 0,
  "metadata": {
    "colab": {
      "provenance": [],
      "authorship_tag": "ABX9TyOSztwXH+1bB2Q16wguXXUm",
      "include_colab_link": true
    },
    "kernelspec": {
      "name": "python3",
      "display_name": "Python 3"
    },
    "language_info": {
      "name": "python"
    }
  },
  "cells": [
    {
      "cell_type": "markdown",
      "metadata": {
        "id": "view-in-github",
        "colab_type": "text"
      },
      "source": [
        "<a href=\"https://colab.research.google.com/github/elakurthyshivani/GFG-Articles-Summarizer/blob/dev%2Fbuilding-dataset/dataset/BuildingDataset.ipynb\" target=\"_parent\"><img src=\"https://colab.research.google.com/assets/colab-badge.svg\" alt=\"Open In Colab\"/></a>"
      ]
    },
    {
      "cell_type": "markdown",
      "source": [
        "## **Install packages if not yet installed**"
      ],
      "metadata": {
        "id": "NSQ-wgPYo5-i"
      }
    },
    {
      "cell_type": "code",
      "execution_count": 1,
      "metadata": {
        "colab": {
          "base_uri": "https://localhost:8080/"
        },
        "id": "2wlAyi5eowBN",
        "outputId": "7de9caa1-05e8-43da-fefd-cf00f70159ba"
      },
      "outputs": [
        {
          "output_type": "stream",
          "name": "stdout",
          "text": [
            "Collecting bs4\n",
            "  Downloading bs4-0.0.1.tar.gz (1.1 kB)\n",
            "  Preparing metadata (setup.py) ... \u001b[?25l\u001b[?25hdone\n",
            "Requirement already satisfied: beautifulsoup4 in /usr/local/lib/python3.10/dist-packages (from bs4) (4.11.2)\n",
            "Requirement already satisfied: soupsieve>1.2 in /usr/local/lib/python3.10/dist-packages (from beautifulsoup4->bs4) (2.4.1)\n",
            "Building wheels for collected packages: bs4\n",
            "  Building wheel for bs4 (setup.py) ... \u001b[?25l\u001b[?25hdone\n",
            "  Created wheel for bs4: filename=bs4-0.0.1-py3-none-any.whl size=1256 sha256=00cd76fa2dbb1d77fccdb4ecb76869dffec0d9cb3abeb3e13688a285838e2557\n",
            "  Stored in directory: /root/.cache/pip/wheels/25/42/45/b773edc52acb16cd2db4cf1a0b47117e2f69bb4eb300ed0e70\n",
            "Successfully built bs4\n",
            "Installing collected packages: bs4\n",
            "Successfully installed bs4-0.0.1\n",
            "Collecting opendatasets\n",
            "  Downloading opendatasets-0.1.22-py3-none-any.whl (15 kB)\n",
            "Requirement already satisfied: tqdm in /usr/local/lib/python3.10/dist-packages (from opendatasets) (4.66.1)\n",
            "Requirement already satisfied: kaggle in /usr/local/lib/python3.10/dist-packages (from opendatasets) (1.5.16)\n",
            "Requirement already satisfied: click in /usr/local/lib/python3.10/dist-packages (from opendatasets) (8.1.6)\n",
            "Requirement already satisfied: six>=1.10 in /usr/local/lib/python3.10/dist-packages (from kaggle->opendatasets) (1.16.0)\n",
            "Requirement already satisfied: certifi in /usr/local/lib/python3.10/dist-packages (from kaggle->opendatasets) (2023.7.22)\n",
            "Requirement already satisfied: python-dateutil in /usr/local/lib/python3.10/dist-packages (from kaggle->opendatasets) (2.8.2)\n",
            "Requirement already satisfied: requests in /usr/local/lib/python3.10/dist-packages (from kaggle->opendatasets) (2.31.0)\n",
            "Requirement already satisfied: python-slugify in /usr/local/lib/python3.10/dist-packages (from kaggle->opendatasets) (8.0.1)\n",
            "Requirement already satisfied: urllib3 in /usr/local/lib/python3.10/dist-packages (from kaggle->opendatasets) (2.0.4)\n",
            "Requirement already satisfied: bleach in /usr/local/lib/python3.10/dist-packages (from kaggle->opendatasets) (6.0.0)\n",
            "Requirement already satisfied: webencodings in /usr/local/lib/python3.10/dist-packages (from bleach->kaggle->opendatasets) (0.5.1)\n",
            "Requirement already satisfied: text-unidecode>=1.3 in /usr/local/lib/python3.10/dist-packages (from python-slugify->kaggle->opendatasets) (1.3)\n",
            "Requirement already satisfied: charset-normalizer<4,>=2 in /usr/local/lib/python3.10/dist-packages (from requests->kaggle->opendatasets) (3.2.0)\n",
            "Requirement already satisfied: idna<4,>=2.5 in /usr/local/lib/python3.10/dist-packages (from requests->kaggle->opendatasets) (3.4)\n",
            "Installing collected packages: opendatasets\n",
            "Successfully installed opendatasets-0.1.22\n",
            "Collecting pyspark\n",
            "  Downloading pyspark-3.4.1.tar.gz (310.8 MB)\n",
            "\u001b[2K     \u001b[90m━━━━━━━━━━━━━━━━━━━━━━━━━━━━━━━━━━━━━━━\u001b[0m \u001b[32m310.8/310.8 MB\u001b[0m \u001b[31m4.1 MB/s\u001b[0m eta \u001b[36m0:00:00\u001b[0m\n",
            "\u001b[?25h  Preparing metadata (setup.py) ... \u001b[?25l\u001b[?25hdone\n",
            "Requirement already satisfied: py4j==0.10.9.7 in /usr/local/lib/python3.10/dist-packages (from pyspark) (0.10.9.7)\n",
            "Building wheels for collected packages: pyspark\n",
            "  Building wheel for pyspark (setup.py) ... \u001b[?25l\u001b[?25hdone\n",
            "  Created wheel for pyspark: filename=pyspark-3.4.1-py2.py3-none-any.whl size=311285388 sha256=56b5d75bbd5a3fe66fd573885193e1a8ab74aecadd02e9298a043b1f815a5255\n",
            "  Stored in directory: /root/.cache/pip/wheels/0d/77/a3/ff2f74cc9ab41f8f594dabf0579c2a7c6de920d584206e0834\n",
            "Successfully built pyspark\n",
            "Installing collected packages: pyspark\n",
            "Successfully installed pyspark-3.4.1\n"
          ]
        }
      ],
      "source": [
        "import sys\n",
        "\n",
        "!{sys.executable} -m pip install bs4 # BeautifulSoup\n",
        "!{sys.executable} -m pip install opendatasets # OpenDatasets\n",
        "!{sys.executable} -m pip install pyspark # PySpark"
      ]
    },
    {
      "cell_type": "markdown",
      "source": [
        "## **Reading the dataset**\n",
        "\n",
        "**1.** Create a file `kaggle.json` and save your Kaggle username and API key. This will be used to download the dataset from Kaggle.\n",
        "\n",
        "**2.** The URL of the dataset is [https://www.kaggle.com/datasets/ashishjangra27/geeksforgeeks-articles](https://www.kaggle.com/datasets/ashishjangra27/geeksforgeeks-articles \"GeeksForGeeks Articles Dataset\"). Using `opendatasets` package, download the dataset. Step 1 is required in order for this to automatically take in your username and API key.\n",
        "\n",
        "**3.** Create a Spark Session to start working with PySpark.\n",
        "\n",
        "**4.** Read the downloaded dataset."
      ],
      "metadata": {
        "id": "0u_mKLnrrQDq"
      }
    },
    {
      "cell_type": "code",
      "source": [
        "import json\n",
        "import opendatasets as od\n",
        "from pyspark.sql import SparkSession"
      ],
      "metadata": {
        "id": "_HY149OvspXy"
      },
      "execution_count": 2,
      "outputs": []
    },
    {
      "cell_type": "code",
      "source": [
        "# Creating kaggle.json file.\n",
        "with open(\"kaggle.json\", \"w\") as kaggleFile:\n",
        "    kaggleFile.write(json.dumps({\"username\":\"shivanielakurthy\", \"key\":\"da7b4ae4bd1b770cb8b74d3990fc7f43\"}))"
      ],
      "metadata": {
        "id": "BwxV64rvrPQW"
      },
      "execution_count": 3,
      "outputs": []
    },
    {
      "cell_type": "code",
      "source": [
        "# Downloading the dataset.\n",
        "od.download(\"https://www.kaggle.com/datasets/ashishjangra27/geeksforgeeks-articles\")"
      ],
      "metadata": {
        "colab": {
          "base_uri": "https://localhost:8080/"
        },
        "id": "sYGBnqsLpf96",
        "outputId": "b9722636-93ec-4f7a-f3c3-df1b4976a274"
      },
      "execution_count": 4,
      "outputs": [
        {
          "output_type": "stream",
          "name": "stdout",
          "text": [
            "Downloading geeksforgeeks-articles.zip to ./geeksforgeeks-articles\n"
          ]
        },
        {
          "output_type": "stream",
          "name": "stderr",
          "text": [
            "100%|██████████| 1.31M/1.31M [00:00<00:00, 2.46MB/s]"
          ]
        },
        {
          "output_type": "stream",
          "name": "stdout",
          "text": [
            "\n"
          ]
        },
        {
          "output_type": "stream",
          "name": "stderr",
          "text": [
            "\n"
          ]
        }
      ]
    },
    {
      "cell_type": "code",
      "source": [
        "# Create a Spark Session.\n",
        "spark=SparkSession.builder.config('spark.app.name', 'geeks_for_geeks_articles').getOrCreate()"
      ],
      "metadata": {
        "id": "paVbMldtwpD3"
      },
      "execution_count": 5,
      "outputs": []
    },
    {
      "cell_type": "code",
      "source": [
        "# Reading the dataset.\n",
        "articles=spark.read.option('header', True)\\\n",
        "          .option('inferSchema', True)\\\n",
        "          .csv(r\"geeksforgeeks-articles/articles.csv\")\n",
        "articles.show(5, truncate=False)"
      ],
      "metadata": {
        "colab": {
          "base_uri": "https://localhost:8080/"
        },
        "id": "PJZmKjR3pFJU",
        "outputId": "3e3d8b1d-ecf6-4aa7-d7fc-93ea4900a640"
      },
      "execution_count": 6,
      "outputs": [
        {
          "output_type": "stream",
          "name": "stdout",
          "text": [
            "+--------------------------------------------+----------------+------------+---------------------------------------------------------------------------+--------+\n",
            "|title                                       |author_id       |last_updated|link                                                                       |category|\n",
            "+--------------------------------------------+----------------+------------+---------------------------------------------------------------------------+--------+\n",
            "|5 Best Practices For Writing SQL Joins      |priyankab14     |21 Feb, 2022|https://www.geeksforgeeks.org/5-best-practices-for-writing-sql-joins/      |easy    |\n",
            "|Foundation CSS Dropdown Menu                |ishankhandelwals|20 Feb, 2022|https://www.geeksforgeeks.org/foundation-css-dropdown-menu/                |easy    |\n",
            "|Top 20 Excel Shortcuts That You Need To Know|priyankab14     |17 Feb, 2022|https://www.geeksforgeeks.org/top-20-excel-shortcuts-that-you-need-to-know/|easy    |\n",
            "|Servlet – Fetching Result                   |nishatiwari1719 |17 Feb, 2022|https://www.geeksforgeeks.org/servlet-fetching-result/                     |easy    |\n",
            "|Suffix Sum Array                            |rohit768        |21 Feb, 2022|https://www.geeksforgeeks.org/suffix-sum-array/                            |easy    |\n",
            "+--------------------------------------------+----------------+------------+---------------------------------------------------------------------------+--------+\n",
            "only showing top 5 rows\n",
            "\n"
          ]
        }
      ]
    },
    {
      "cell_type": "markdown",
      "source": [
        "## **Dropping rows with null values**"
      ],
      "metadata": {
        "id": "7XBDpD3v0wvx"
      }
    },
    {
      "cell_type": "code",
      "source": [
        "articles=articles.dropna()"
      ],
      "metadata": {
        "id": "uFmwL_SBykL-"
      },
      "execution_count": 7,
      "outputs": []
    },
    {
      "cell_type": "markdown",
      "source": [
        "## **Setup logging**"
      ],
      "metadata": {
        "id": "c5iO2tx24Xre"
      }
    },
    {
      "cell_type": "code",
      "source": [
        "import logging\n",
        "logging.basicConfig(filename='buildingdataset.log', level=logging.DEBUG,\n",
        "                    format='%(asctime)s - %(levelname)s - %(message)s')"
      ],
      "metadata": {
        "id": "hlcFvmM0zWW8"
      },
      "execution_count": 8,
      "outputs": []
    },
    {
      "cell_type": "markdown",
      "source": [
        "## **Scrap text from the URL to get article content**"
      ],
      "metadata": {
        "id": "Zd4cQrZkvA5Z"
      }
    },
    {
      "cell_type": "code",
      "source": [
        "from bs4 import BeautifulSoup\n",
        "from pyspark.sql.functions import lit, col, udf\n",
        "import requests"
      ],
      "metadata": {
        "id": "zsaLA04W0_Hy"
      },
      "execution_count": 9,
      "outputs": []
    },
    {
      "cell_type": "code",
      "source": [
        "# Add new column to save the scrapped text from the URLs.\n",
        "articles=articles.withColumn(\"text\", lit(\"\"))\n",
        "articles.show(5, truncate=False)"
      ],
      "metadata": {
        "colab": {
          "base_uri": "https://localhost:8080/"
        },
        "id": "t7FqxSgf1FJ_",
        "outputId": "1e7283a5-c609-49cc-e3d3-be63966802f8"
      },
      "execution_count": 10,
      "outputs": [
        {
          "output_type": "stream",
          "name": "stdout",
          "text": [
            "+--------------------------------------------+----------------+------------+---------------------------------------------------------------------------+--------+----+\n",
            "|title                                       |author_id       |last_updated|link                                                                       |category|text|\n",
            "+--------------------------------------------+----------------+------------+---------------------------------------------------------------------------+--------+----+\n",
            "|5 Best Practices For Writing SQL Joins      |priyankab14     |21 Feb, 2022|https://www.geeksforgeeks.org/5-best-practices-for-writing-sql-joins/      |easy    |    |\n",
            "|Foundation CSS Dropdown Menu                |ishankhandelwals|20 Feb, 2022|https://www.geeksforgeeks.org/foundation-css-dropdown-menu/                |easy    |    |\n",
            "|Top 20 Excel Shortcuts That You Need To Know|priyankab14     |17 Feb, 2022|https://www.geeksforgeeks.org/top-20-excel-shortcuts-that-you-need-to-know/|easy    |    |\n",
            "|Servlet – Fetching Result                   |nishatiwari1719 |17 Feb, 2022|https://www.geeksforgeeks.org/servlet-fetching-result/                     |easy    |    |\n",
            "|Suffix Sum Array                            |rohit768        |21 Feb, 2022|https://www.geeksforgeeks.org/suffix-sum-array/                            |easy    |    |\n",
            "+--------------------------------------------+----------------+------------+---------------------------------------------------------------------------+--------+----+\n",
            "only showing top 5 rows\n",
            "\n"
          ]
        }
      ]
    },
    {
      "cell_type": "code",
      "source": [
        "# Define a User Defined Function to scrap text.\n",
        "def scrapText(link):\n",
        "    try:\n",
        "        page=requests.get(link).text\n",
        "        parser=BeautifulSoup(page, \"html.parser\")\n",
        "        # Get the inner HTML of <div class=\"text\"></div> tag. This consists of the main content.\n",
        "        text=[\"\"]\n",
        "        for tag in parser.find(\"div\", class_=\"text\").contents:\n",
        "            # Ignore all the <div> tags inside <div class=\"text\"></div> as they do not have any\n",
        "            # main content.\n",
        "            if tag.name!=\"div\":\n",
        "                text.append(\" \".join(tag.stripped_strings))\n",
        "        # Return the main content.\n",
        "        return \"\\n\".join(text).strip(\"\\n\")\n",
        "    except Exception as err:\n",
        "        logging.error(f\"ScrapText error ({link}) : {err}\")\n",
        "        return \"\"\n",
        "\n",
        "scrapTextUDF=udf(scrapText)"
      ],
      "metadata": {
        "id": "uc8ghB8KtOAh"
      },
      "execution_count": 11,
      "outputs": []
    },
    {
      "cell_type": "code",
      "source": [
        "# Apply the UDF to text column using the link column.\n",
        "articles=articles.withColumn(\"text\", scrapTextUDF(articles[\"link\"]))\n",
        "articles.show(5)"
      ],
      "metadata": {
        "colab": {
          "base_uri": "https://localhost:8080/"
        },
        "id": "IBkRzQbzv68s",
        "outputId": "cbd65798-ed29-4af5-e797-e94c23d41272"
      },
      "execution_count": 12,
      "outputs": [
        {
          "output_type": "stream",
          "name": "stdout",
          "text": [
            "+--------------------+----------------+------------+--------------------+--------+--------------------+\n",
            "|               title|       author_id|last_updated|                link|category|                text|\n",
            "+--------------------+----------------+------------+--------------------+--------+--------------------+\n",
            "|5 Best Practices ...|     priyankab14|21 Feb, 2022|https://www.geeks...|    easy|SQL (Structured Q...|\n",
            "|Foundation CSS Dr...|ishankhandelwals|20 Feb, 2022|https://www.geeks...|    easy|Foundation CSS is...|\n",
            "|Top 20 Excel Shor...|     priyankab14|17 Feb, 2022|https://www.geeks...|    easy|Although many of ...|\n",
            "|Servlet – Fetchin...| nishatiwari1719|17 Feb, 2022|https://www.geeks...|    easy|Servlet is a simp...|\n",
            "|    Suffix Sum Array|        rohit768|21 Feb, 2022|https://www.geeks...|    easy|Suffix Sum ArrayG...|\n",
            "+--------------------+----------------+------------+--------------------+--------+--------------------+\n",
            "only showing top 5 rows\n",
            "\n"
          ]
        }
      ]
    },
    {
      "cell_type": "code",
      "source": [
        "# Check the text present in a row.\n",
        "print(articles.select(\"text\").take(6)[5][0])"
      ],
      "metadata": {
        "colab": {
          "base_uri": "https://localhost:8080/"
        },
        "id": "E--tMA9K1jBY",
        "outputId": "84946416-b0df-43fd-ab8a-1f5c4ce20934"
      },
      "execution_count": 13,
      "outputs": [
        {
          "output_type": "stream",
          "name": "stdout",
          "text": [
            "Kelvin and Celsius are two scales of temperature. Both of the scales are used in their own unique way. Kelvin scale is mainly used by scientists to measure the color temperature of the light source. On the other hand, the Celsius scale is used for general purposes like measuring the temperature of the water. These two scales can easily be converted from one to another. Before going straight to Kelvin to Celsius scale. Let’s know more about these scales and where are they used most.\n",
            "kelvin\n",
            "Kelvin is a scale of temperature. its unit is (K) as it is an absolute scale we do not use degree with it. kelvin is named after William Thomson, 1st Baron Kelvin. 0 (zero) Kelvin defines absolute null which means the kinetic energy of particles is very less at this temperature. In physical science, kelvin is the primary unit for measuring temperature.\n",
            "Celsius\n",
            "Celsius is also a scale of temperature. Its unit is in degree Celsius (°C ). it is named after astronomer Anders Celsius in 1948. On the Celsius scale, the water freezes at 0°C and boils at 100°C under normal conditions. Most of the countries used the Celsius scale as their official temperature scale except countries like the United States, Belize, Palau, the Bahamas, and the Cayman Islands.\n",
            "Kelvin to Celsius formula\n",
            "The formula for Fahrenheit to Celsius is Celsius(°C )= Kelvin – 273.15° .\n",
            "Celsius and Kelvin graph\n",
            "\n",
            "Sample problems\n",
            "Question 1: Convert 319.15 K to °C.\n",
            "Solution:\n",
            "Given, The temperature in Kelvin scale = 319.15 K According to the relationship between Kelvin scale and Celsius scale, C = k – 273.15 Inserting the values, C = 319.15 – 273.15 C = 46°C. The value of temperature on the Celsius scale is 46 °C.\n",
            "Question 2: How many degrees Celsius is 500 K?\n",
            "Solution:\n",
            "Given, The temperature in Kelvin scale = 500 K According to the relationship between Kelvin scale and Celsius scale, C = k – 273.15 Inserting the values, C = 500 – 273.15 C = 226.85 °C The value of temperature on the Celsius scale is 226.85 °C.\n",
            "Question 3: What temperature in Kelvin is known as “Absolute Null”?\n",
            "Answer:\n",
            "When the temperature is 0 (Zero) K, then it is called Absolute Null. Because at this temperature kinetic value of the atoms is lowest.\n",
            "Question 4: At what value of degree Celsius, the temperature in Kelvin is Zero?\n",
            "Solution:\n",
            "Given, According to Question Temperature in Kelvin scale = 0 K According to the relationship between Kelvin scale and Celsius scale, C = k – 273.15 Inserting the values, C = 0 – 273.15 C =273.15 °C The value of temperature on the Celsius scale is 273.15°C.When the temperature in Kelvin is Zero.\n",
            "Question 5: Convert 775 K to ° C.\n",
            "Solution:\n",
            "Given, The temperature in Kelvin scale = 775 K According to the relationship between Kelvin scale and Celsius scale, C = k – 273.15 Inserting the values, C = 775 – 273.15 C = 501.85 °C The value of temperature on the Celsius scale is 501.85 °C.\n",
            "Question 6: At What value of temperature in Kelvin. The temperature in Degree Celsius is Zero (0)?\n",
            "Solution:\n",
            "Given, According to the question value of temperature in Degree Celsius is = 0°C. According to the relationship between Kelvin scale and Celsius scale, C = K – 273.15 Inserting the values, 0 = K – 273.15 K = 273.15 The value of temperature on the Kelvin scale is  273.15 K . When the temperature in Degree Celsius is Zero.\n"
          ]
        }
      ]
    },
    {
      "cell_type": "markdown",
      "source": [
        "## **Write to .parquet file**"
      ],
      "metadata": {
        "id": "LDuIClC1Ko3D"
      }
    },
    {
      "cell_type": "code",
      "source": [
        "# Write to Azure Blob Storage?"
      ],
      "metadata": {
        "id": "Q8o1Zc-TKmkg"
      },
      "execution_count": 15,
      "outputs": []
    },
    {
      "cell_type": "code",
      "source": [
        "# Stop the spark session.\n",
        "spark.stop()"
      ],
      "metadata": {
        "id": "A43kxzemw4jE"
      },
      "execution_count": 16,
      "outputs": []
    },
    {
      "cell_type": "code",
      "source": [],
      "metadata": {
        "id": "uyhI_oM16gwv"
      },
      "execution_count": null,
      "outputs": []
    }
  ]
}