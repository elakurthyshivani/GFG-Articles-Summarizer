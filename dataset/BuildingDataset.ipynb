{
  "nbformat": 4,
  "nbformat_minor": 0,
  "metadata": {
    "colab": {
      "provenance": [],
      "authorship_tag": "ABX9TyMzpiQv2Dry0BM5G454cBQf",
      "include_colab_link": true
    },
    "kernelspec": {
      "name": "python3",
      "display_name": "Python 3"
    },
    "language_info": {
      "name": "python"
    }
  },
  "cells": [
    {
      "cell_type": "markdown",
      "metadata": {
        "id": "view-in-github",
        "colab_type": "text"
      },
      "source": [
        "<a href=\"https://colab.research.google.com/github/elakurthyshivani/GFG-Articles-Summarizer/blob/dev%2Fbuilding-dataset/dataset/BuildingDataset.ipynb\" target=\"_parent\"><img src=\"https://colab.research.google.com/assets/colab-badge.svg\" alt=\"Open In Colab\"/></a>"
      ]
    },
    {
      "cell_type": "markdown",
      "source": [
        "## **Install packages if not yet installed**"
      ],
      "metadata": {
        "id": "NSQ-wgPYo5-i"
      }
    },
    {
      "cell_type": "code",
      "execution_count": 1,
      "metadata": {
        "colab": {
          "base_uri": "https://localhost:8080/"
        },
        "id": "2wlAyi5eowBN",
        "outputId": "ec7acaa1-cf3f-41e0-93cb-010942e3d58d"
      },
      "outputs": [
        {
          "output_type": "stream",
          "name": "stdout",
          "text": [
            "Collecting bs4\n",
            "  Downloading bs4-0.0.1.tar.gz (1.1 kB)\n",
            "  Preparing metadata (setup.py) ... \u001b[?25l\u001b[?25hdone\n",
            "Requirement already satisfied: beautifulsoup4 in /usr/local/lib/python3.10/dist-packages (from bs4) (4.11.2)\n",
            "Requirement already satisfied: soupsieve>1.2 in /usr/local/lib/python3.10/dist-packages (from beautifulsoup4->bs4) (2.4.1)\n",
            "Building wheels for collected packages: bs4\n",
            "  Building wheel for bs4 (setup.py) ... \u001b[?25l\u001b[?25hdone\n",
            "  Created wheel for bs4: filename=bs4-0.0.1-py3-none-any.whl size=1256 sha256=249f8f3908ed15e67d55baa75163c8003c3f66678c00b028aa3178adea2c582b\n",
            "  Stored in directory: /root/.cache/pip/wheels/25/42/45/b773edc52acb16cd2db4cf1a0b47117e2f69bb4eb300ed0e70\n",
            "Successfully built bs4\n",
            "Installing collected packages: bs4\n",
            "Successfully installed bs4-0.0.1\n",
            "Collecting opendatasets\n",
            "  Downloading opendatasets-0.1.22-py3-none-any.whl (15 kB)\n",
            "Requirement already satisfied: tqdm in /usr/local/lib/python3.10/dist-packages (from opendatasets) (4.66.0)\n",
            "Requirement already satisfied: kaggle in /usr/local/lib/python3.10/dist-packages (from opendatasets) (1.5.16)\n",
            "Requirement already satisfied: click in /usr/local/lib/python3.10/dist-packages (from opendatasets) (8.1.6)\n",
            "Requirement already satisfied: six>=1.10 in /usr/local/lib/python3.10/dist-packages (from kaggle->opendatasets) (1.16.0)\n",
            "Requirement already satisfied: certifi in /usr/local/lib/python3.10/dist-packages (from kaggle->opendatasets) (2023.7.22)\n",
            "Requirement already satisfied: python-dateutil in /usr/local/lib/python3.10/dist-packages (from kaggle->opendatasets) (2.8.2)\n",
            "Requirement already satisfied: requests in /usr/local/lib/python3.10/dist-packages (from kaggle->opendatasets) (2.31.0)\n",
            "Requirement already satisfied: python-slugify in /usr/local/lib/python3.10/dist-packages (from kaggle->opendatasets) (8.0.1)\n",
            "Requirement already satisfied: urllib3 in /usr/local/lib/python3.10/dist-packages (from kaggle->opendatasets) (2.0.4)\n",
            "Requirement already satisfied: bleach in /usr/local/lib/python3.10/dist-packages (from kaggle->opendatasets) (6.0.0)\n",
            "Requirement already satisfied: webencodings in /usr/local/lib/python3.10/dist-packages (from bleach->kaggle->opendatasets) (0.5.1)\n",
            "Requirement already satisfied: text-unidecode>=1.3 in /usr/local/lib/python3.10/dist-packages (from python-slugify->kaggle->opendatasets) (1.3)\n",
            "Requirement already satisfied: charset-normalizer<4,>=2 in /usr/local/lib/python3.10/dist-packages (from requests->kaggle->opendatasets) (3.2.0)\n",
            "Requirement already satisfied: idna<4,>=2.5 in /usr/local/lib/python3.10/dist-packages (from requests->kaggle->opendatasets) (3.4)\n",
            "Installing collected packages: opendatasets\n",
            "Successfully installed opendatasets-0.1.22\n",
            "Collecting pyspark\n",
            "  Downloading pyspark-3.4.1.tar.gz (310.8 MB)\n",
            "\u001b[2K     \u001b[90m━━━━━━━━━━━━━━━━━━━━━━━━━━━━━━━━━━━━━━━\u001b[0m \u001b[32m310.8/310.8 MB\u001b[0m \u001b[31m4.1 MB/s\u001b[0m eta \u001b[36m0:00:00\u001b[0m\n",
            "\u001b[?25h  Preparing metadata (setup.py) ... \u001b[?25l\u001b[?25hdone\n",
            "Requirement already satisfied: py4j==0.10.9.7 in /usr/local/lib/python3.10/dist-packages (from pyspark) (0.10.9.7)\n",
            "Building wheels for collected packages: pyspark\n",
            "  Building wheel for pyspark (setup.py) ... \u001b[?25l\u001b[?25hdone\n",
            "  Created wheel for pyspark: filename=pyspark-3.4.1-py2.py3-none-any.whl size=311285388 sha256=c858fd886ace9d825d85c2936040b19c1c78d348020767ec6442a6a05e0cadad\n",
            "  Stored in directory: /root/.cache/pip/wheels/0d/77/a3/ff2f74cc9ab41f8f594dabf0579c2a7c6de920d584206e0834\n",
            "Successfully built pyspark\n",
            "Installing collected packages: pyspark\n",
            "Successfully installed pyspark-3.4.1\n"
          ]
        }
      ],
      "source": [
        "import sys\n",
        "\n",
        "!{sys.executable} -m pip install bs4 # BeautifulSoup\n",
        "!{sys.executable} -m pip install opendatasets # OpenDatasets\n",
        "!{sys.executable} -m pip install pyspark # PySpark"
      ]
    },
    {
      "cell_type": "markdown",
      "source": [
        "## **Reading the dataset**\n",
        "\n",
        "**1.** Create a file `kaggle.json` and save your Kaggle username and API key. This will be used to download the dataset from Kaggle.\n",
        "\n",
        "**2.** The URL of the dataset is [https://www.kaggle.com/datasets/ashishjangra27/geeksforgeeks-articles](https://www.kaggle.com/datasets/ashishjangra27/geeksforgeeks-articles \"GeeksForGeeks Articles Dataset\"). Using `opendatasets` package, download the dataset. Step 1 is required in order for this to automatically take in your username and API key.\n",
        "\n",
        "**3.** Create a Spark Session to start working with PySpark.\n",
        "\n",
        "**4.** Read the downloaded dataset."
      ],
      "metadata": {
        "id": "0u_mKLnrrQDq"
      }
    },
    {
      "cell_type": "code",
      "source": [
        "import json\n",
        "import opendatasets as od\n",
        "from pyspark.sql import SparkSession"
      ],
      "metadata": {
        "id": "_HY149OvspXy"
      },
      "execution_count": 2,
      "outputs": []
    },
    {
      "cell_type": "code",
      "source": [
        "# Creating kaggle.json file.\n",
        "with open(\"kaggle.json\", \"w\") as kaggleFile:\n",
        "    kaggleFile.write(json.dumps({\"username\":\"shivanielakurthy\", \"key\":\"da7b4ae4bd1b770cb8b74d3990fc7f43\"}))"
      ],
      "metadata": {
        "id": "BwxV64rvrPQW"
      },
      "execution_count": 3,
      "outputs": []
    },
    {
      "cell_type": "code",
      "source": [
        "# Downloading the dataset.\n",
        "od.download(\"https://www.kaggle.com/datasets/ashishjangra27/geeksforgeeks-articles\")"
      ],
      "metadata": {
        "colab": {
          "base_uri": "https://localhost:8080/"
        },
        "id": "sYGBnqsLpf96",
        "outputId": "30863d21-1899-467c-d9fc-99a0311a1fc4"
      },
      "execution_count": 4,
      "outputs": [
        {
          "output_type": "stream",
          "name": "stdout",
          "text": [
            "Downloading geeksforgeeks-articles.zip to ./geeksforgeeks-articles\n"
          ]
        },
        {
          "output_type": "stream",
          "name": "stderr",
          "text": [
            "100%|██████████| 1.31M/1.31M [00:00<00:00, 63.8MB/s]"
          ]
        },
        {
          "output_type": "stream",
          "name": "stdout",
          "text": [
            "\n"
          ]
        },
        {
          "output_type": "stream",
          "name": "stderr",
          "text": [
            "\n"
          ]
        }
      ]
    },
    {
      "cell_type": "code",
      "source": [
        "# Create a Spark Session.\n",
        "spark=SparkSession.builder.config('spark.app.name', 'geeks_for_geeks_articles').getOrCreate()"
      ],
      "metadata": {
        "id": "paVbMldtwpD3"
      },
      "execution_count": 5,
      "outputs": []
    },
    {
      "cell_type": "code",
      "source": [
        "# Reading the dataset.\n",
        "articles=spark.read.option('header', True)\\\n",
        "          .option('inferSchema', True)\\\n",
        "          .csv(r\"geeksforgeeks-articles/articles.csv\")\n",
        "articles.show(5, truncate=False)"
      ],
      "metadata": {
        "colab": {
          "base_uri": "https://localhost:8080/"
        },
        "id": "PJZmKjR3pFJU",
        "outputId": "e86ddd17-3c33-45ee-da74-9fe57f63d9b3"
      },
      "execution_count": 6,
      "outputs": [
        {
          "output_type": "stream",
          "name": "stdout",
          "text": [
            "+--------------------------------------------+----------------+------------+---------------------------------------------------------------------------+--------+\n",
            "|title                                       |author_id       |last_updated|link                                                                       |category|\n",
            "+--------------------------------------------+----------------+------------+---------------------------------------------------------------------------+--------+\n",
            "|5 Best Practices For Writing SQL Joins      |priyankab14     |21 Feb, 2022|https://www.geeksforgeeks.org/5-best-practices-for-writing-sql-joins/      |easy    |\n",
            "|Foundation CSS Dropdown Menu                |ishankhandelwals|20 Feb, 2022|https://www.geeksforgeeks.org/foundation-css-dropdown-menu/                |easy    |\n",
            "|Top 20 Excel Shortcuts That You Need To Know|priyankab14     |17 Feb, 2022|https://www.geeksforgeeks.org/top-20-excel-shortcuts-that-you-need-to-know/|easy    |\n",
            "|Servlet – Fetching Result                   |nishatiwari1719 |17 Feb, 2022|https://www.geeksforgeeks.org/servlet-fetching-result/                     |easy    |\n",
            "|Suffix Sum Array                            |rohit768        |21 Feb, 2022|https://www.geeksforgeeks.org/suffix-sum-array/                            |easy    |\n",
            "+--------------------------------------------+----------------+------------+---------------------------------------------------------------------------+--------+\n",
            "only showing top 5 rows\n",
            "\n"
          ]
        }
      ]
    },
    {
      "cell_type": "markdown",
      "source": [
        "## **Dropping rows with null values**"
      ],
      "metadata": {
        "id": "7XBDpD3v0wvx"
      }
    },
    {
      "cell_type": "code",
      "source": [
        "articles=articles.dropna()"
      ],
      "metadata": {
        "id": "uFmwL_SBykL-"
      },
      "execution_count": 7,
      "outputs": []
    },
    {
      "cell_type": "markdown",
      "source": [
        "## **Setup logging**"
      ],
      "metadata": {
        "id": "c5iO2tx24Xre"
      }
    },
    {
      "cell_type": "code",
      "source": [
        "import logging\n",
        "logging.basicConfig(filename='buildingdataset.log', level=logging.DEBUG,\n",
        "                    format='%(asctime)s - %(levelname)s - %(message)s')"
      ],
      "metadata": {
        "id": "hlcFvmM0zWW8"
      },
      "execution_count": 41,
      "outputs": []
    },
    {
      "cell_type": "markdown",
      "source": [
        "## **Scrap text from the URL to get article content**"
      ],
      "metadata": {
        "id": "Zd4cQrZkvA5Z"
      }
    },
    {
      "cell_type": "code",
      "source": [
        "from bs4 import BeautifulSoup\n",
        "from pyspark.sql.functions import lit, col, udf\n",
        "import requests"
      ],
      "metadata": {
        "id": "zsaLA04W0_Hy"
      },
      "execution_count": 40,
      "outputs": []
    },
    {
      "cell_type": "code",
      "source": [
        "# Add new column to save the scrapped text from the URLs.\n",
        "articles=articles.withColumn(\"text\", lit(\"\"))\n",
        "articles.show(5, truncate=False)"
      ],
      "metadata": {
        "colab": {
          "base_uri": "https://localhost:8080/"
        },
        "id": "t7FqxSgf1FJ_",
        "outputId": "943a6ec7-3a40-43e2-be0a-ecdecfc28813"
      },
      "execution_count": 42,
      "outputs": [
        {
          "output_type": "stream",
          "name": "stdout",
          "text": [
            "+--------------------------------------------+----------------+------------+---------------------------------------------------------------------------+--------+----+\n",
            "|title                                       |author_id       |last_updated|link                                                                       |category|text|\n",
            "+--------------------------------------------+----------------+------------+---------------------------------------------------------------------------+--------+----+\n",
            "|5 Best Practices For Writing SQL Joins      |priyankab14     |21 Feb, 2022|https://www.geeksforgeeks.org/5-best-practices-for-writing-sql-joins/      |easy    |    |\n",
            "|Foundation CSS Dropdown Menu                |ishankhandelwals|20 Feb, 2022|https://www.geeksforgeeks.org/foundation-css-dropdown-menu/                |easy    |    |\n",
            "|Top 20 Excel Shortcuts That You Need To Know|priyankab14     |17 Feb, 2022|https://www.geeksforgeeks.org/top-20-excel-shortcuts-that-you-need-to-know/|easy    |    |\n",
            "|Servlet – Fetching Result                   |nishatiwari1719 |17 Feb, 2022|https://www.geeksforgeeks.org/servlet-fetching-result/                     |easy    |    |\n",
            "|Suffix Sum Array                            |rohit768        |21 Feb, 2022|https://www.geeksforgeeks.org/suffix-sum-array/                            |easy    |    |\n",
            "+--------------------------------------------+----------------+------------+---------------------------------------------------------------------------+--------+----+\n",
            "only showing top 5 rows\n",
            "\n"
          ]
        }
      ]
    },
    {
      "cell_type": "code",
      "source": [
        "# Define a User Defined Function to scrap text.\n",
        "def scrapText(link):\n",
        "    try:\n",
        "        page=requests.get(link).text\n",
        "        parser=BeautifulSoup(page, \"html.parser\")\n",
        "        return parser.find(\"div\", class_=\"text\").get_text()\n",
        "    except Exception as err:\n",
        "        logging.error(f\"ScrapText error ({link}) : {err}\")\n",
        "        return \"\"\n",
        "\n",
        "scrapTextUDF=udf(scrapText)"
      ],
      "metadata": {
        "id": "uc8ghB8KtOAh"
      },
      "execution_count": 43,
      "outputs": []
    },
    {
      "cell_type": "code",
      "source": [
        "# Apply the UDF to text column using the link column.\n",
        "articles.withColumn(\"text\", scrapTextUDF(articles[\"link\"])).show(5)"
      ],
      "metadata": {
        "colab": {
          "base_uri": "https://localhost:8080/"
        },
        "id": "IBkRzQbzv68s",
        "outputId": "32b5c419-6399-43e9-bcef-b4e9cdbfa759"
      },
      "execution_count": 44,
      "outputs": [
        {
          "output_type": "stream",
          "name": "stdout",
          "text": [
            "+--------------------+----------------+------------+--------------------+--------+--------------------+\n",
            "|               title|       author_id|last_updated|                link|category|                text|\n",
            "+--------------------+----------------+------------+--------------------+--------+--------------------+\n",
            "|5 Best Practices ...|     priyankab14|21 Feb, 2022|https://www.geeks...|    easy|SQL (Structured Q...|\n",
            "|Foundation CSS Dr...|ishankhandelwals|20 Feb, 2022|https://www.geeks...|    easy|Foundation CSS is...|\n",
            "|Top 20 Excel Shor...|     priyankab14|17 Feb, 2022|https://www.geeks...|    easy|Although many of ...|\n",
            "|Servlet – Fetchin...| nishatiwari1719|17 Feb, 2022|https://www.geeks...|    easy|Servlet is a simp...|\n",
            "|    Suffix Sum Array|        rohit768|21 Feb, 2022|https://www.geeks...|    easy|Suffix Sum ArrayG...|\n",
            "+--------------------+----------------+------------+--------------------+--------+--------------------+\n",
            "only showing top 5 rows\n",
            "\n"
          ]
        }
      ]
    },
    {
      "cell_type": "code",
      "source": [
        "# Stop the spark session.\n",
        "spark.stop()"
      ],
      "metadata": {
        "id": "A43kxzemw4jE"
      },
      "execution_count": null,
      "outputs": []
    }
  ]
}