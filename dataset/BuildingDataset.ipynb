{
  "nbformat": 4,
  "nbformat_minor": 0,
  "metadata": {
    "colab": {
      "provenance": [],
      "authorship_tag": "ABX9TyN00Vm5deW6hwEnm5hWgiZC",
      "include_colab_link": true
    },
    "kernelspec": {
      "name": "python3",
      "display_name": "Python 3"
    },
    "language_info": {
      "name": "python"
    }
  },
  "cells": [
    {
      "cell_type": "markdown",
      "metadata": {
        "id": "view-in-github",
        "colab_type": "text"
      },
      "source": [
        "<a href=\"https://colab.research.google.com/github/elakurthyshivani/GFG-Articles-Summarizer/blob/dev%2Fbuilding-dataset/dataset/BuildingDataset.ipynb\" target=\"_parent\"><img src=\"https://colab.research.google.com/assets/colab-badge.svg\" alt=\"Open In Colab\"/></a>"
      ]
    },
    {
      "cell_type": "markdown",
      "source": [
        "## **Install packages if not yet installed**"
      ],
      "metadata": {
        "id": "NSQ-wgPYo5-i"
      }
    },
    {
      "cell_type": "code",
      "execution_count": null,
      "metadata": {
        "colab": {
          "base_uri": "https://localhost:8080/"
        },
        "id": "2wlAyi5eowBN",
        "outputId": "65c3fd4f-36c6-4024-cf37-28d2f7695b98"
      },
      "outputs": [
        {
          "output_type": "stream",
          "name": "stdout",
          "text": [
            "Requirement already satisfied: bs4 in /usr/local/lib/python3.10/dist-packages (0.0.1)\n",
            "Requirement already satisfied: beautifulsoup4 in /usr/local/lib/python3.10/dist-packages (from bs4) (4.11.2)\n",
            "Requirement already satisfied: soupsieve>1.2 in /usr/local/lib/python3.10/dist-packages (from beautifulsoup4->bs4) (2.4.1)\n",
            "Requirement already satisfied: opendatasets in /usr/local/lib/python3.10/dist-packages (0.1.22)\n",
            "Requirement already satisfied: tqdm in /usr/local/lib/python3.10/dist-packages (from opendatasets) (4.65.0)\n",
            "Requirement already satisfied: kaggle in /usr/local/lib/python3.10/dist-packages (from opendatasets) (1.5.16)\n",
            "Requirement already satisfied: click in /usr/local/lib/python3.10/dist-packages (from opendatasets) (8.1.6)\n",
            "Requirement already satisfied: six>=1.10 in /usr/local/lib/python3.10/dist-packages (from kaggle->opendatasets) (1.16.0)\n",
            "Requirement already satisfied: certifi in /usr/local/lib/python3.10/dist-packages (from kaggle->opendatasets) (2023.7.22)\n",
            "Requirement already satisfied: python-dateutil in /usr/local/lib/python3.10/dist-packages (from kaggle->opendatasets) (2.8.2)\n",
            "Requirement already satisfied: requests in /usr/local/lib/python3.10/dist-packages (from kaggle->opendatasets) (2.31.0)\n",
            "Requirement already satisfied: python-slugify in /usr/local/lib/python3.10/dist-packages (from kaggle->opendatasets) (8.0.1)\n",
            "Requirement already satisfied: urllib3 in /usr/local/lib/python3.10/dist-packages (from kaggle->opendatasets) (1.26.16)\n",
            "Requirement already satisfied: bleach in /usr/local/lib/python3.10/dist-packages (from kaggle->opendatasets) (6.0.0)\n",
            "Requirement already satisfied: webencodings in /usr/local/lib/python3.10/dist-packages (from bleach->kaggle->opendatasets) (0.5.1)\n",
            "Requirement already satisfied: text-unidecode>=1.3 in /usr/local/lib/python3.10/dist-packages (from python-slugify->kaggle->opendatasets) (1.3)\n",
            "Requirement already satisfied: charset-normalizer<4,>=2 in /usr/local/lib/python3.10/dist-packages (from requests->kaggle->opendatasets) (3.2.0)\n",
            "Requirement already satisfied: idna<4,>=2.5 in /usr/local/lib/python3.10/dist-packages (from requests->kaggle->opendatasets) (3.4)\n",
            "Collecting pyspark\n",
            "  Downloading pyspark-3.4.1.tar.gz (310.8 MB)\n",
            "\u001b[2K     \u001b[90m━━━━━━━━━━━━━━━━━━━━━━━━━━━━━━━━━━━━━━━\u001b[0m \u001b[32m310.8/310.8 MB\u001b[0m \u001b[31m3.9 MB/s\u001b[0m eta \u001b[36m0:00:00\u001b[0m\n",
            "\u001b[?25h  Preparing metadata (setup.py) ... \u001b[?25l\u001b[?25hdone\n",
            "Requirement already satisfied: py4j==0.10.9.7 in /usr/local/lib/python3.10/dist-packages (from pyspark) (0.10.9.7)\n",
            "Building wheels for collected packages: pyspark\n",
            "  Building wheel for pyspark (setup.py) ... \u001b[?25l\u001b[?25hdone\n",
            "  Created wheel for pyspark: filename=pyspark-3.4.1-py2.py3-none-any.whl size=311285397 sha256=ba62c97c509c0c9f78127dd4c4e1e4aea701a22e0b3a887671c2a03bca8be1d5\n",
            "  Stored in directory: /root/.cache/pip/wheels/0d/77/a3/ff2f74cc9ab41f8f594dabf0579c2a7c6de920d584206e0834\n",
            "Successfully built pyspark\n",
            "Installing collected packages: pyspark\n",
            "Successfully installed pyspark-3.4.1\n"
          ]
        }
      ],
      "source": [
        "import sys\n",
        "\n",
        "!{sys.executable} -m pip install bs4 # BeautifulSoup\n",
        "!{sys.executable} -m pip install opendatasets # OpenDatasets\n",
        "!{sys.executable} -m pip install pyspark # PySpark"
      ]
    },
    {
      "cell_type": "markdown",
      "source": [
        "## **Reading the dataset**\n",
        "\n",
        "**1.** Create a file `kaggle.json` and save your Kaggle username and API key. This will be used to download the dataset from Kaggle.\n",
        "\n",
        "**2.** The URL of the dataset is [https://www.kaggle.com/datasets/ashishjangra27/geeksforgeeks-articles](https://www.kaggle.com/datasets/ashishjangra27/geeksforgeeks-articles \"GeeksForGeeks Articles Dataset\"). Using `opendatasets` package, download the dataset. Step 1 is required in order for this to automatically take in your username and API key.\n",
        "\n",
        "**3.** Create a Spark Session to start working with PySpark.\n",
        "\n",
        "**4.** Read the downloaded dataset."
      ],
      "metadata": {
        "id": "0u_mKLnrrQDq"
      }
    },
    {
      "cell_type": "code",
      "source": [
        "import json\n",
        "import opendatasets as od\n",
        "from pyspark.sql import SparkSession"
      ],
      "metadata": {
        "id": "_HY149OvspXy"
      },
      "execution_count": null,
      "outputs": []
    },
    {
      "cell_type": "code",
      "source": [
        "# Creating kaggle.json file.\n",
        "with open(\"kaggle.json\", \"w\") as kaggleFile:\n",
        "    kaggleFile.write(json.dumps({\"username\":\"shivanielakurthy\", \"key\":\"da7b4ae4bd1b770cb8b74d3990fc7f43\"}))"
      ],
      "metadata": {
        "id": "BwxV64rvrPQW"
      },
      "execution_count": null,
      "outputs": []
    },
    {
      "cell_type": "code",
      "source": [
        "# Downloading the dataset.\n",
        "od.download(\"https://www.kaggle.com/datasets/ashishjangra27/geeksforgeeks-articles\")"
      ],
      "metadata": {
        "colab": {
          "base_uri": "https://localhost:8080/"
        },
        "id": "sYGBnqsLpf96",
        "outputId": "9b2a68cd-63eb-4fdb-93ec-94fceb95d887"
      },
      "execution_count": null,
      "outputs": [
        {
          "output_type": "stream",
          "name": "stdout",
          "text": [
            "Skipping, found downloaded files in \"./geeksforgeeks-articles\" (use force=True to force download)\n"
          ]
        }
      ]
    },
    {
      "cell_type": "code",
      "source": [
        "# Create a Spark Session.\n",
        "spark=SparkSession.builder.config('spark.app.name', 'geeks_for_geeks_articles').getOrCreate()"
      ],
      "metadata": {
        "id": "paVbMldtwpD3"
      },
      "execution_count": null,
      "outputs": []
    },
    {
      "cell_type": "code",
      "source": [
        "# Reading the dataset.\n",
        "articles=spark.read.option('header', True)\\\n",
        "          .option('inferSchema', True)\\\n",
        "          .csv(r\"geeksforgeeks-articles/articles.csv\")\n",
        "articles.show(5, truncate=False)"
      ],
      "metadata": {
        "colab": {
          "base_uri": "https://localhost:8080/"
        },
        "id": "PJZmKjR3pFJU",
        "outputId": "c22dd213-0f59-4d43-dfa9-f3eb553541c0"
      },
      "execution_count": null,
      "outputs": [
        {
          "output_type": "stream",
          "name": "stdout",
          "text": [
            "+--------------------------------------------+----------------+------------+---------------------------------------------------------------------------+--------+\n",
            "|title                                       |author_id       |last_updated|link                                                                       |category|\n",
            "+--------------------------------------------+----------------+------------+---------------------------------------------------------------------------+--------+\n",
            "|5 Best Practices For Writing SQL Joins      |priyankab14     |21 Feb, 2022|https://www.geeksforgeeks.org/5-best-practices-for-writing-sql-joins/      |easy    |\n",
            "|Foundation CSS Dropdown Menu                |ishankhandelwals|20 Feb, 2022|https://www.geeksforgeeks.org/foundation-css-dropdown-menu/                |easy    |\n",
            "|Top 20 Excel Shortcuts That You Need To Know|priyankab14     |17 Feb, 2022|https://www.geeksforgeeks.org/top-20-excel-shortcuts-that-you-need-to-know/|easy    |\n",
            "|Servlet – Fetching Result                   |nishatiwari1719 |17 Feb, 2022|https://www.geeksforgeeks.org/servlet-fetching-result/                     |easy    |\n",
            "|Suffix Sum Array                            |rohit768        |21 Feb, 2022|https://www.geeksforgeeks.org/suffix-sum-array/                            |easy    |\n",
            "+--------------------------------------------+----------------+------------+---------------------------------------------------------------------------+--------+\n",
            "only showing top 5 rows\n",
            "\n"
          ]
        }
      ]
    },
    {
      "cell_type": "markdown",
      "source": [
        "## **Dropping rows with null values**"
      ],
      "metadata": {
        "id": "7XBDpD3v0wvx"
      }
    },
    {
      "cell_type": "code",
      "source": [
        "articles=articles.dropna()"
      ],
      "metadata": {
        "id": "uFmwL_SBykL-"
      },
      "execution_count": null,
      "outputs": []
    },
    {
      "cell_type": "markdown",
      "source": [
        "## **Scrap text from the URL to get article content**"
      ],
      "metadata": {
        "id": "Zd4cQrZkvA5Z"
      }
    },
    {
      "cell_type": "code",
      "source": [
        "from bs4 import BeautifulSoup\n",
        "from pyspark.sql.functions import lit\n",
        "from urllib.request import urlopen # Or requests"
      ],
      "metadata": {
        "id": "zsaLA04W0_Hy"
      },
      "execution_count": null,
      "outputs": []
    },
    {
      "cell_type": "code",
      "source": [
        "# Add new column to save the scrapped text from the URLs.\n",
        "articles=articles.withColumn(\"text\", lit(\"\"))\n",
        "articles.show()"
      ],
      "metadata": {
        "colab": {
          "base_uri": "https://localhost:8080/"
        },
        "id": "t7FqxSgf1FJ_",
        "outputId": "06dc0ad0-651f-4df9-d31a-95ba5226b12f"
      },
      "execution_count": null,
      "outputs": [
        {
          "output_type": "stream",
          "name": "stdout",
          "text": [
            "+--------------------+--------------------+------------+--------------------+--------+----+\n",
            "|               title|           author_id|last_updated|                link|category|text|\n",
            "+--------------------+--------------------+------------+--------------------+--------+----+\n",
            "|5 Best Practices ...|         priyankab14|21 Feb, 2022|https://www.geeks...|    easy|    |\n",
            "|Foundation CSS Dr...|    ishankhandelwals|20 Feb, 2022|https://www.geeks...|    easy|    |\n",
            "|Top 20 Excel Shor...|         priyankab14|17 Feb, 2022|https://www.geeks...|    easy|    |\n",
            "|Servlet – Fetchin...|     nishatiwari1719|17 Feb, 2022|https://www.geeks...|    easy|    |\n",
            "|    Suffix Sum Array|            rohit768|21 Feb, 2022|https://www.geeks...|    easy|    |\n",
            "|Kelvin To Celsius...|         ramneek2307|16 Feb, 2022|https://www.geeks...|    easy|    |\n",
            "|How to Install Mo...|         ramneek2307|12 Feb, 2022|https://www.geeks...|    easy|    |\n",
            "|7 Highest Paying ...|        vanshika4042|18 Feb, 2022|https://www.geeks...|    easy|    |\n",
            "|Free Resume Build...|       GeeksforGeeks|08 Feb, 2022|https://www.geeks...|    easy|    |\n",
            "|8 Best Tips to Im...|     prateekjangid10|06 Feb, 2022|https://www.geeks...|    easy|    |\n",
            "|Binary Tree Itera...|          gursimar04|16 Feb, 2022|https://www.geeks...|    easy|    |\n",
            "|Capitalize 1st ch...|        durgeshsahu7|16 Feb, 2022|https://www.geeks...|    easy|    |\n",
            "|Longest Increasin...|             pka5667|22 Feb, 2022|https://www.geeks...|    easy|    |\n",
            "|Minimize product ...|pranjuldwivedi120568|09 Feb, 2022|https://www.geeks...|    easy|    |\n",
            "|Do’s and Don’ts o...|         ishasharma9|01 Feb, 2022|https://www.geeks...|    easy|    |\n",
            "|Calculate sum in ...|         prophet1999|11 Feb, 2022|https://www.geeks...|    easy|    |\n",
            "|Count of palindro...|    manishguptagkp06|07 Feb, 2022|https://www.geeks...|    easy|    |\n",
            "|Find if sum of el...|       mayank007rawa|09 Feb, 2022|https://www.geeks...|    easy|    |\n",
            "|How to Install My...|             ayonssp|31 Jan, 2022|https://www.geeks...|    easy|    |\n",
            "|Difference betwee...|      vineetsharma36|03 Feb, 2022|https://www.geeks...|    easy|    |\n",
            "+--------------------+--------------------+------------+--------------------+--------+----+\n",
            "only showing top 20 rows\n",
            "\n"
          ]
        }
      ]
    },
    {
      "cell_type": "code",
      "source": [
        "def scrapText(link):\n",
        "    page=urlopen(link).read().decode(\"utf-8\")\n",
        "    parser=BeautifulSoup(page, 'html.parser')\n",
        "    return parser.find_all('div', attrs={\"class\", \"text\"})[0])"
      ],
      "metadata": {
        "id": "uc8ghB8KtOAh"
      },
      "execution_count": null,
      "outputs": []
    }
  ]
}