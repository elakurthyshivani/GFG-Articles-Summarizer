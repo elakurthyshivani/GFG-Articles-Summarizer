{
  "cells": [
    {
      "cell_type": "markdown",
      "source": [
        "## **Install packages if not yet installed**"
      ],
      "metadata": {
        "id": "NSQ-wgPYo5-i"
      }
    },
    {
      "cell_type": "code",
      "source": [
        "import sys\n",
        "\n",
        "!{sys.executable} -m pip install bs4 # BeautifulSoup\n",
        "!{sys.executable} -m pip install opendatasets # OpenDatasets\n",
        "!{sys.executable} -m pip install azure.storage.blob # Azure Blob Storage"
      ],
      "outputs": [
        {
          "output_type": "stream",
          "name": "stdout",
          "text": "Requirement already satisfied: bs4 in /anaconda/envs/jupyter_env/lib/python3.8/site-packages (0.0.1)\nRequirement already satisfied: beautifulsoup4 in /anaconda/envs/jupyter_env/lib/python3.8/site-packages (from bs4) (4.12.2)\nRequirement already satisfied: soupsieve>1.2 in /anaconda/envs/jupyter_env/lib/python3.8/site-packages (from beautifulsoup4->bs4) (2.4.1)\nRequirement already satisfied: opendatasets in /anaconda/envs/jupyter_env/lib/python3.8/site-packages (0.1.22)\nRequirement already satisfied: kaggle in /anaconda/envs/jupyter_env/lib/python3.8/site-packages (from opendatasets) (1.5.16)\nRequirement already satisfied: tqdm in /anaconda/envs/jupyter_env/lib/python3.8/site-packages (from opendatasets) (4.66.1)\nRequirement already satisfied: click in /anaconda/envs/jupyter_env/lib/python3.8/site-packages (from opendatasets) (8.1.3)\nRequirement already satisfied: certifi in /anaconda/envs/jupyter_env/lib/python3.8/site-packages (from kaggle->opendatasets) (2023.5.7)\nRequirement already satisfied: requests in /anaconda/envs/jupyter_env/lib/python3.8/site-packages (from kaggle->opendatasets) (2.31.0)\nRequirement already satisfied: urllib3 in /anaconda/envs/jupyter_env/lib/python3.8/site-packages (from kaggle->opendatasets) (1.26.16)\nRequirement already satisfied: python-dateutil in /anaconda/envs/jupyter_env/lib/python3.8/site-packages (from kaggle->opendatasets) (2.8.2)\nRequirement already satisfied: python-slugify in /anaconda/envs/jupyter_env/lib/python3.8/site-packages (from kaggle->opendatasets) (8.0.1)\nRequirement already satisfied: six>=1.10 in /anaconda/envs/jupyter_env/lib/python3.8/site-packages (from kaggle->opendatasets) (1.16.0)\nRequirement already satisfied: bleach in /anaconda/envs/jupyter_env/lib/python3.8/site-packages (from kaggle->opendatasets) (6.0.0)\nRequirement already satisfied: webencodings in /anaconda/envs/jupyter_env/lib/python3.8/site-packages (from bleach->kaggle->opendatasets) (0.5.1)\nRequirement already satisfied: text-unidecode>=1.3 in /anaconda/envs/jupyter_env/lib/python3.8/site-packages (from python-slugify->kaggle->opendatasets) (1.3)\nRequirement already satisfied: idna<4,>=2.5 in /anaconda/envs/jupyter_env/lib/python3.8/site-packages (from requests->kaggle->opendatasets) (3.4)\nRequirement already satisfied: charset-normalizer<4,>=2 in /anaconda/envs/jupyter_env/lib/python3.8/site-packages (from requests->kaggle->opendatasets) (3.1.0)\nRequirement already satisfied: azure.storage.blob in /anaconda/envs/jupyter_env/lib/python3.8/site-packages (12.16.0)\nRequirement already satisfied: isodate>=0.6.1 in /anaconda/envs/jupyter_env/lib/python3.8/site-packages (from azure.storage.blob) (0.6.1)\nRequirement already satisfied: cryptography>=2.1.4 in /anaconda/envs/jupyter_env/lib/python3.8/site-packages (from azure.storage.blob) (41.0.1)\nRequirement already satisfied: typing-extensions>=4.0.1 in /anaconda/envs/jupyter_env/lib/python3.8/site-packages (from azure.storage.blob) (4.6.3)\nRequirement already satisfied: azure-core<2.0.0,>=1.26.0 in /anaconda/envs/jupyter_env/lib/python3.8/site-packages (from azure.storage.blob) (1.27.1)\nRequirement already satisfied: six>=1.11.0 in /anaconda/envs/jupyter_env/lib/python3.8/site-packages (from azure-core<2.0.0,>=1.26.0->azure.storage.blob) (1.16.0)\nRequirement already satisfied: requests>=2.18.4 in /anaconda/envs/jupyter_env/lib/python3.8/site-packages (from azure-core<2.0.0,>=1.26.0->azure.storage.blob) (2.31.0)\nRequirement already satisfied: cffi>=1.12 in /anaconda/envs/jupyter_env/lib/python3.8/site-packages (from cryptography>=2.1.4->azure.storage.blob) (1.15.1)\nRequirement already satisfied: pycparser in /anaconda/envs/jupyter_env/lib/python3.8/site-packages (from cffi>=1.12->cryptography>=2.1.4->azure.storage.blob) (2.21)\nRequirement already satisfied: charset-normalizer<4,>=2 in /anaconda/envs/jupyter_env/lib/python3.8/site-packages (from requests>=2.18.4->azure-core<2.0.0,>=1.26.0->azure.storage.blob) (3.1.0)\nRequirement already satisfied: urllib3<3,>=1.21.1 in /anaconda/envs/jupyter_env/lib/python3.8/site-packages (from requests>=2.18.4->azure-core<2.0.0,>=1.26.0->azure.storage.blob) (1.26.16)\nRequirement already satisfied: idna<4,>=2.5 in /anaconda/envs/jupyter_env/lib/python3.8/site-packages (from requests>=2.18.4->azure-core<2.0.0,>=1.26.0->azure.storage.blob) (3.4)\nRequirement already satisfied: certifi>=2017.4.17 in /anaconda/envs/jupyter_env/lib/python3.8/site-packages (from requests>=2.18.4->azure-core<2.0.0,>=1.26.0->azure.storage.blob) (2023.5.7)\n"
        }
      ],
      "execution_count": 20,
      "metadata": {
        "colab": {
          "base_uri": "https://localhost:8080/"
        },
        "id": "2wlAyi5eowBN",
        "outputId": "7de9caa1-05e8-43da-fefd-cf00f70159ba",
        "gather": {
          "logged": 1693246091146
        }
      }
    },
    {
      "cell_type": "markdown",
      "source": [
        "## **Reading the dataset**\n",
        "\n",
        "**1.** Create a file `kaggle.json` and save your Kaggle username and API key. This will be used to download the dataset from Kaggle.\n",
        "\n",
        "**2.** The URL of the dataset is [https://www.kaggle.com/datasets/ashishjangra27/geeksforgeeks-articles](https://www.kaggle.com/datasets/ashishjangra27/geeksforgeeks-articles \"GeeksForGeeks Articles Dataset\"). Using `opendatasets` package, download the dataset. Step 1 is required in order for this to automatically take in your username and API key.\n",
        "\n",
        "**3.** Read the downloaded dataset."
      ],
      "metadata": {
        "id": "0u_mKLnrrQDq"
      }
    },
    {
      "cell_type": "code",
      "source": [
        "import json\n",
        "import opendatasets as od\n",
        "import pandas as pd"
      ],
      "outputs": [],
      "execution_count": 21,
      "metadata": {
        "id": "_HY149OvspXy",
        "gather": {
          "logged": 1693246091384
        }
      }
    },
    {
      "cell_type": "code",
      "source": [
        "# Creating kaggle.json file.\n",
        "with open(\"kaggle.json\", \"w\") as kaggleFile:\n",
        "    kaggleFile.write(json.dumps({\"username\":\"shivanielakurthy\", \"key\":\"da7b4ae4bd1b770cb8b74d3990fc7f43\"}))"
      ],
      "outputs": [],
      "execution_count": 22,
      "metadata": {
        "id": "BwxV64rvrPQW",
        "gather": {
          "logged": 1693246091681
        }
      }
    },
    {
      "cell_type": "code",
      "source": [
        "# Downloading the dataset.\n",
        "od.download(\"https://www.kaggle.com/datasets/ashishjangra27/geeksforgeeks-articles\")"
      ],
      "outputs": [
        {
          "output_type": "stream",
          "name": "stdout",
          "text": "Downloading geeksforgeeks-articles.zip to ./geeksforgeeks-articles\n\n"
        },
        {
          "output_type": "stream",
          "name": "stderr",
          "text": "100%|██████████| 1.31M/1.31M [00:00<00:00, 6.45MB/s]\n"
        }
      ],
      "execution_count": 23,
      "metadata": {
        "colab": {
          "base_uri": "https://localhost:8080/"
        },
        "id": "sYGBnqsLpf96",
        "outputId": "b9722636-93ec-4f7a-f3c3-df1b4976a274",
        "gather": {
          "logged": 1693246092305
        }
      }
    },
    {
      "cell_type": "code",
      "source": [
        "# Reading the dataset.\n",
        "articles=pd.read_csv(r\"geeksforgeeks-articles/articles.csv\")\n",
        "articles.head()"
      ],
      "outputs": [
        {
          "output_type": "execute_result",
          "execution_count": 24,
          "data": {
            "text/plain": "                                          title         author_id  \\\n0        5 Best Practices For Writing SQL Joins       priyankab14   \n1                  Foundation CSS Dropdown Menu  ishankhandelwals   \n2  Top 20 Excel Shortcuts That You Need To Know       priyankab14   \n3                     Servlet – Fetching Result   nishatiwari1719   \n4                              Suffix Sum Array          rohit768   \n\n   last_updated                                               link category  \n0  21 Feb, 2022  https://www.geeksforgeeks.org/5-best-practices...     easy  \n1  20 Feb, 2022  https://www.geeksforgeeks.org/foundation-css-d...     easy  \n2  17 Feb, 2022  https://www.geeksforgeeks.org/top-20-excel-sho...     easy  \n3  17 Feb, 2022  https://www.geeksforgeeks.org/servlet-fetching...     easy  \n4  21 Feb, 2022    https://www.geeksforgeeks.org/suffix-sum-array/     easy  ",
            "text/html": "<div>\n<style scoped>\n    .dataframe tbody tr th:only-of-type {\n        vertical-align: middle;\n    }\n\n    .dataframe tbody tr th {\n        vertical-align: top;\n    }\n\n    .dataframe thead th {\n        text-align: right;\n    }\n</style>\n<table border=\"1\" class=\"dataframe\">\n  <thead>\n    <tr style=\"text-align: right;\">\n      <th></th>\n      <th>title</th>\n      <th>author_id</th>\n      <th>last_updated</th>\n      <th>link</th>\n      <th>category</th>\n    </tr>\n  </thead>\n  <tbody>\n    <tr>\n      <th>0</th>\n      <td>5 Best Practices For Writing SQL Joins</td>\n      <td>priyankab14</td>\n      <td>21 Feb, 2022</td>\n      <td>https://www.geeksforgeeks.org/5-best-practices...</td>\n      <td>easy</td>\n    </tr>\n    <tr>\n      <th>1</th>\n      <td>Foundation CSS Dropdown Menu</td>\n      <td>ishankhandelwals</td>\n      <td>20 Feb, 2022</td>\n      <td>https://www.geeksforgeeks.org/foundation-css-d...</td>\n      <td>easy</td>\n    </tr>\n    <tr>\n      <th>2</th>\n      <td>Top 20 Excel Shortcuts That You Need To Know</td>\n      <td>priyankab14</td>\n      <td>17 Feb, 2022</td>\n      <td>https://www.geeksforgeeks.org/top-20-excel-sho...</td>\n      <td>easy</td>\n    </tr>\n    <tr>\n      <th>3</th>\n      <td>Servlet – Fetching Result</td>\n      <td>nishatiwari1719</td>\n      <td>17 Feb, 2022</td>\n      <td>https://www.geeksforgeeks.org/servlet-fetching...</td>\n      <td>easy</td>\n    </tr>\n    <tr>\n      <th>4</th>\n      <td>Suffix Sum Array</td>\n      <td>rohit768</td>\n      <td>21 Feb, 2022</td>\n      <td>https://www.geeksforgeeks.org/suffix-sum-array/</td>\n      <td>easy</td>\n    </tr>\n  </tbody>\n</table>\n</div>"
          },
          "metadata": {}
        }
      ],
      "execution_count": 24,
      "metadata": {
        "colab": {
          "base_uri": "https://localhost:8080/"
        },
        "id": "PJZmKjR3pFJU",
        "outputId": "3e3d8b1d-ecf6-4aa7-d7fc-93ea4900a640",
        "gather": {
          "logged": 1693246092527
        }
      }
    },
    {
      "cell_type": "code",
      "source": [
        "articles.shape"
      ],
      "outputs": [
        {
          "output_type": "execute_result",
          "execution_count": 25,
          "data": {
            "text/plain": "(34574, 5)"
          },
          "metadata": {}
        }
      ],
      "execution_count": 25,
      "metadata": {
        "jupyter": {
          "source_hidden": false,
          "outputs_hidden": false
        },
        "nteract": {
          "transient": {
            "deleting": false
          }
        },
        "gather": {
          "logged": 1693246092812
        }
      }
    },
    {
      "cell_type": "markdown",
      "source": [
        "## **Dropping rows with null values**"
      ],
      "metadata": {
        "id": "7XBDpD3v0wvx"
      }
    },
    {
      "cell_type": "code",
      "source": [
        "articles=articles.dropna()"
      ],
      "outputs": [],
      "execution_count": 26,
      "metadata": {
        "id": "uFmwL_SBykL-",
        "gather": {
          "logged": 1693246093026
        }
      }
    },
    {
      "cell_type": "code",
      "source": [
        "# Reset index.\n",
        "articles=articles.reset_index().drop(\"index\", axis=1)\n",
        "articles.head()"
      ],
      "outputs": [
        {
          "output_type": "execute_result",
          "execution_count": 27,
          "data": {
            "text/plain": "                                          title         author_id  \\\n0        5 Best Practices For Writing SQL Joins       priyankab14   \n1                  Foundation CSS Dropdown Menu  ishankhandelwals   \n2  Top 20 Excel Shortcuts That You Need To Know       priyankab14   \n3                     Servlet – Fetching Result   nishatiwari1719   \n4                              Suffix Sum Array          rohit768   \n\n   last_updated                                               link category  \n0  21 Feb, 2022  https://www.geeksforgeeks.org/5-best-practices...     easy  \n1  20 Feb, 2022  https://www.geeksforgeeks.org/foundation-css-d...     easy  \n2  17 Feb, 2022  https://www.geeksforgeeks.org/top-20-excel-sho...     easy  \n3  17 Feb, 2022  https://www.geeksforgeeks.org/servlet-fetching...     easy  \n4  21 Feb, 2022    https://www.geeksforgeeks.org/suffix-sum-array/     easy  ",
            "text/html": "<div>\n<style scoped>\n    .dataframe tbody tr th:only-of-type {\n        vertical-align: middle;\n    }\n\n    .dataframe tbody tr th {\n        vertical-align: top;\n    }\n\n    .dataframe thead th {\n        text-align: right;\n    }\n</style>\n<table border=\"1\" class=\"dataframe\">\n  <thead>\n    <tr style=\"text-align: right;\">\n      <th></th>\n      <th>title</th>\n      <th>author_id</th>\n      <th>last_updated</th>\n      <th>link</th>\n      <th>category</th>\n    </tr>\n  </thead>\n  <tbody>\n    <tr>\n      <th>0</th>\n      <td>5 Best Practices For Writing SQL Joins</td>\n      <td>priyankab14</td>\n      <td>21 Feb, 2022</td>\n      <td>https://www.geeksforgeeks.org/5-best-practices...</td>\n      <td>easy</td>\n    </tr>\n    <tr>\n      <th>1</th>\n      <td>Foundation CSS Dropdown Menu</td>\n      <td>ishankhandelwals</td>\n      <td>20 Feb, 2022</td>\n      <td>https://www.geeksforgeeks.org/foundation-css-d...</td>\n      <td>easy</td>\n    </tr>\n    <tr>\n      <th>2</th>\n      <td>Top 20 Excel Shortcuts That You Need To Know</td>\n      <td>priyankab14</td>\n      <td>17 Feb, 2022</td>\n      <td>https://www.geeksforgeeks.org/top-20-excel-sho...</td>\n      <td>easy</td>\n    </tr>\n    <tr>\n      <th>3</th>\n      <td>Servlet – Fetching Result</td>\n      <td>nishatiwari1719</td>\n      <td>17 Feb, 2022</td>\n      <td>https://www.geeksforgeeks.org/servlet-fetching...</td>\n      <td>easy</td>\n    </tr>\n    <tr>\n      <th>4</th>\n      <td>Suffix Sum Array</td>\n      <td>rohit768</td>\n      <td>21 Feb, 2022</td>\n      <td>https://www.geeksforgeeks.org/suffix-sum-array/</td>\n      <td>easy</td>\n    </tr>\n  </tbody>\n</table>\n</div>"
          },
          "metadata": {}
        }
      ],
      "execution_count": 27,
      "metadata": {
        "jupyter": {
          "source_hidden": false,
          "outputs_hidden": false
        },
        "nteract": {
          "transient": {
            "deleting": false
          }
        },
        "gather": {
          "logged": 1693246093268
        }
      }
    },
    {
      "cell_type": "code",
      "source": [
        "articles.shape"
      ],
      "outputs": [
        {
          "output_type": "execute_result",
          "execution_count": 28,
          "data": {
            "text/plain": "(34551, 5)"
          },
          "metadata": {}
        }
      ],
      "execution_count": 28,
      "metadata": {
        "jupyter": {
          "source_hidden": false,
          "outputs_hidden": false
        },
        "nteract": {
          "transient": {
            "deleting": false
          }
        },
        "gather": {
          "logged": 1693246093604
        }
      }
    },
    {
      "cell_type": "markdown",
      "source": [
        "## **Create connection string to storage account**\n",
        "\n",
        "The new dataframe will be saved as `.csv` files in Azure Blob storage."
      ],
      "metadata": {
        "nteract": {
          "transient": {
            "deleting": false
          }
        }
      }
    },
    {
      "cell_type": "code",
      "source": [
        "connectionString=\"DefaultEndpointsProtocol=https;AccountName=shivmldatasets;AccountKey=Uoz2wy3N+KONfZAXvPc2QG4Z+G5S6BTvPn0zK6CaoCbM30tBtbToarFMZyo0EeimLD4P8RBuzoJJ+AStJ80Qiw==;EndpointSuffix=core.windows.net\""
      ],
      "outputs": [],
      "execution_count": 29,
      "metadata": {
        "jupyter": {
          "source_hidden": false,
          "outputs_hidden": false
        },
        "nteract": {
          "transient": {
            "deleting": false
          }
        },
        "gather": {
          "logged": 1693246093821
        }
      }
    },
    {
      "cell_type": "markdown",
      "source": [
        "## **Scrap text from the URL to get article content**\n",
        "\n",
        "**1.** Create a new column `text` to store the scrapped text using BeautifulSoup.\n",
        "\n",
        "**2.** Define the function to scrap text given the URL as a parameter.\n",
        "\n",
        "**3.** In batches of 1024, use multi-threading to call this function for each row and save the resulted dataframe to a `.csv` file in Azure Blob Container."
      ],
      "metadata": {
        "id": "Zd4cQrZkvA5Z"
      }
    },
    {
      "cell_type": "code",
      "source": [
        "from bs4 import BeautifulSoup\n",
        "import requests\n",
        "from concurrent.futures import ThreadPoolExecutor, as_completed\n",
        "from azure.storage.blob import BlobClient"
      ],
      "outputs": [],
      "execution_count": 30,
      "metadata": {
        "id": "zsaLA04W0_Hy",
        "gather": {
          "logged": 1693246094030
        }
      }
    },
    {
      "cell_type": "code",
      "source": [
        "# Add new column to save the scrapped text from the URLs.\n",
        "articles[\"text\"]=\"\"\n",
        "articles.head()"
      ],
      "outputs": [
        {
          "output_type": "execute_result",
          "execution_count": 31,
          "data": {
            "text/plain": "                                          title         author_id  \\\n0        5 Best Practices For Writing SQL Joins       priyankab14   \n1                  Foundation CSS Dropdown Menu  ishankhandelwals   \n2  Top 20 Excel Shortcuts That You Need To Know       priyankab14   \n3                     Servlet – Fetching Result   nishatiwari1719   \n4                              Suffix Sum Array          rohit768   \n\n   last_updated                                               link category  \\\n0  21 Feb, 2022  https://www.geeksforgeeks.org/5-best-practices...     easy   \n1  20 Feb, 2022  https://www.geeksforgeeks.org/foundation-css-d...     easy   \n2  17 Feb, 2022  https://www.geeksforgeeks.org/top-20-excel-sho...     easy   \n3  17 Feb, 2022  https://www.geeksforgeeks.org/servlet-fetching...     easy   \n4  21 Feb, 2022    https://www.geeksforgeeks.org/suffix-sum-array/     easy   \n\n  text  \n0       \n1       \n2       \n3       \n4       ",
            "text/html": "<div>\n<style scoped>\n    .dataframe tbody tr th:only-of-type {\n        vertical-align: middle;\n    }\n\n    .dataframe tbody tr th {\n        vertical-align: top;\n    }\n\n    .dataframe thead th {\n        text-align: right;\n    }\n</style>\n<table border=\"1\" class=\"dataframe\">\n  <thead>\n    <tr style=\"text-align: right;\">\n      <th></th>\n      <th>title</th>\n      <th>author_id</th>\n      <th>last_updated</th>\n      <th>link</th>\n      <th>category</th>\n      <th>text</th>\n    </tr>\n  </thead>\n  <tbody>\n    <tr>\n      <th>0</th>\n      <td>5 Best Practices For Writing SQL Joins</td>\n      <td>priyankab14</td>\n      <td>21 Feb, 2022</td>\n      <td>https://www.geeksforgeeks.org/5-best-practices...</td>\n      <td>easy</td>\n      <td></td>\n    </tr>\n    <tr>\n      <th>1</th>\n      <td>Foundation CSS Dropdown Menu</td>\n      <td>ishankhandelwals</td>\n      <td>20 Feb, 2022</td>\n      <td>https://www.geeksforgeeks.org/foundation-css-d...</td>\n      <td>easy</td>\n      <td></td>\n    </tr>\n    <tr>\n      <th>2</th>\n      <td>Top 20 Excel Shortcuts That You Need To Know</td>\n      <td>priyankab14</td>\n      <td>17 Feb, 2022</td>\n      <td>https://www.geeksforgeeks.org/top-20-excel-sho...</td>\n      <td>easy</td>\n      <td></td>\n    </tr>\n    <tr>\n      <th>3</th>\n      <td>Servlet – Fetching Result</td>\n      <td>nishatiwari1719</td>\n      <td>17 Feb, 2022</td>\n      <td>https://www.geeksforgeeks.org/servlet-fetching...</td>\n      <td>easy</td>\n      <td></td>\n    </tr>\n    <tr>\n      <th>4</th>\n      <td>Suffix Sum Array</td>\n      <td>rohit768</td>\n      <td>21 Feb, 2022</td>\n      <td>https://www.geeksforgeeks.org/suffix-sum-array/</td>\n      <td>easy</td>\n      <td></td>\n    </tr>\n  </tbody>\n</table>\n</div>"
          },
          "metadata": {}
        }
      ],
      "execution_count": 31,
      "metadata": {
        "colab": {
          "base_uri": "https://localhost:8080/"
        },
        "id": "t7FqxSgf1FJ_",
        "outputId": "1e7283a5-c609-49cc-e3d3-be63966802f8",
        "gather": {
          "logged": 1693246094303
        }
      }
    },
    {
      "cell_type": "code",
      "source": [
        "# Dictionary to save the errors occurred while scrapping text.\n",
        "scrapTextErrors={}"
      ],
      "outputs": [],
      "execution_count": 32,
      "metadata": {
        "jupyter": {
          "source_hidden": false,
          "outputs_hidden": false
        },
        "nteract": {
          "transient": {
            "deleting": false
          }
        },
        "gather": {
          "logged": 1693246094734
        }
      }
    },
    {
      "cell_type": "code",
      "source": [
        "# Set timeout.\n",
        "TIMEOUT_SECS=60"
      ],
      "outputs": [],
      "execution_count": 33,
      "metadata": {
        "jupyter": {
          "source_hidden": false,
          "outputs_hidden": false
        },
        "nteract": {
          "transient": {
            "deleting": false
          }
        },
        "gather": {
          "logged": 1693246094920
        }
      }
    },
    {
      "cell_type": "code",
      "source": [
        "# Define a function to scrap text.\n",
        "def scrapText(i, link):\n",
        "    try:\n",
        "        page=requests.get(link).text\n",
        "        parser=BeautifulSoup(page, \"html.parser\")\n",
        "\n",
        "        # Get the inner HTML of <div class=\"text\"></div> tag. This consists of the main content.\n",
        "        # Instead of recursively finding this tag with the above class name, I'm going iteratively to avoid max recursion errors.\n",
        "        parser=parser.find(\"html\", recursive=False)\n",
        "        parser=parser.find(\"body\", recursive=False)\n",
        "        parser=parser.find(\"div\", id=\"main\", recursive=False)\n",
        "        parser=parser.find(\"div\", id=\"home-page\", recursive=False)\n",
        "        parser=parser.find(\"div\", class_=\"article-page_flex\", recursive=False)\n",
        "        parser=parser.find(\"div\", class_=\"leftBar\", recursive=False)\n",
        "        parser=parser.find(\"div\", class_=\"article--viewer\", recursive=False)\n",
        "        parser=parser.find(\"div\", class_=\"article--viewer_content\", recursive=False)\n",
        "        parser=parser.find(\"div\", class_=\"a-wrapper\", recursive=False)\n",
        "        parser=parser.find(\"article\", recursive=False)\n",
        "        \n",
        "        text=[\"\"]\n",
        "        for tag in parser.find(\"div\", class_=\"text\", recursive=False).contents:\n",
        "            # Ignore all the <div> tags inside <div class=\"text\"></div> as they do not have any\n",
        "            # main content.\n",
        "            if tag.name!=\"div\":\n",
        "                text.append(\" \".join(tag.stripped_strings))\n",
        "        # Return the main content.\n",
        "        return i, \"\\n\".join(text).strip(\"\\n\")\n",
        "    \n",
        "    except Exception as err:\n",
        "        scrapTextErrors[i]={\"link\": link, \"error\": err}\n",
        "    return i, \"\""
      ],
      "outputs": [],
      "execution_count": 34,
      "metadata": {
        "id": "uc8ghB8KtOAh",
        "gather": {
          "logged": 1693246095108
        }
      }
    },
    {
      "cell_type": "code",
      "source": [
        "%%time\n",
        "# Run the above function for all the links using multithreading.\n",
        "# Test for batches.\n",
        "futureResultErrors=[]\n",
        "batchesCount, BATCH_SIZE=0, 1024\n",
        "# Print batch size\n",
        "print(f\"Batch size: {BATCH_SIZE}\")\n",
        "\n",
        "for batch_start in range(0, articles.shape[0], BATCH_SIZE):\n",
        "    future_to_url={}\n",
        "    batchesCount+=1 # Batch number of the current batch.\n",
        "    countEmptyText=0 # Count of empty `text` in the current batch.\n",
        "    batch_end=batch_start+BATCH_SIZE if batch_start+BATCH_SIZE<articles.shape[0] else articles.shape[0]\n",
        "\n",
        "    with ThreadPoolExecutor(max_workers=128) as executor: \n",
        "        for i in range(batch_start, batch_end):\n",
        "            future_to_url[executor.submit(scrapText, i, articles.loc[i, \"link\"])]=i\n",
        "            \n",
        "        for future in as_completed(future_to_url):\n",
        "            try:\n",
        "                i, text=future.result(timeout=TIMEOUT_SECS)\n",
        "                articles.loc[i, \"text\"]=str(text)\n",
        "                # If `text` is empty, update count.\n",
        "                if text==\"\":\n",
        "                    countEmptyText+=1\n",
        "            except Exception as err:\n",
        "                futureResultErrors.append(err)\n",
        "    \n",
        "    # Print status.\n",
        "    print(f\"Batch #{batchesCount}: Extracted `text` for {(batch_end-batch_start)-countEmptyText} links\")\n",
        "    \n",
        "    # Create blob for each batch.\n",
        "    blob=BlobClient.from_connection_string(conn_str=connectionString, container_name=\"ml-datasets\", blob_name=f\"gfg-articles-scrapped-{batchesCount}.csv\")\n",
        "    blob.upload_blob(articles.loc[batch_start:batch_end].to_csv())\n",
        "\n",
        "    # Empty text for this batch.\n",
        "    articles.loc[batch_start:batch_end, \"text\"]=\"\""
      ],
      "outputs": [
        {
          "output_type": "stream",
          "name": "stdout",
          "text": "Batch size: 1024\nBatch #1: Extracted `text` for 1023 links\nBatch #2: Extracted `text` for 1024 links\nBatch #3: Extracted `text` for 1024 links\nBatch #4: Extracted `text` for 1024 links\nBatch #5: Extracted `text` for 1023 links\nBatch #6: Extracted `text` for 1023 links\nBatch #7: Extracted `text` for 1024 links\nBatch #8: Extracted `text` for 1023 links\nBatch #9: Extracted `text` for 1021 links\nBatch #10: Extracted `text` for 1022 links\nBatch #11: Extracted `text` for 1024 links\nBatch #12: Extracted `text` for 1024 links\nBatch #13: Extracted `text` for 1024 links\nBatch #14: Extracted `text` for 1024 links\nBatch #15: Extracted `text` for 1024 links\nBatch #16: Extracted `text` for 1022 links\nBatch #17: Extracted `text` for 1024 links\nBatch #18: Extracted `text` for 1023 links\nBatch #19: Extracted `text` for 1023 links\nBatch #20: Extracted `text` for 1024 links\nBatch #21: Extracted `text` for 1021 links\nBatch #22: Extracted `text` for 1023 links\nBatch #23: Extracted `text` for 1023 links\nBatch #24: Extracted `text` for 1023 links\nBatch #25: Extracted `text` for 1024 links\nBatch #26: Extracted `text` for 1024 links\nBatch #27: Extracted `text` for 1021 links\nBatch #28: Extracted `text` for 1024 links\nBatch #29: Extracted `text` for 1023 links\nBatch #30: Extracted `text` for 1023 links\nBatch #31: Extracted `text` for 1024 links\nBatch #32: Extracted `text` for 1021 links\nBatch #33: Extracted `text` for 1024 links\nBatch #34: Extracted `text` for 759 links\nCPU times: user 2h 48min 48s, sys: 19min 36s, total: 3h 8min 25s\nWall time: 2h 27min 7s\n"
        }
      ],
      "execution_count": 36,
      "metadata": {
        "jupyter": {
          "source_hidden": false,
          "outputs_hidden": false
        },
        "nteract": {
          "transient": {
            "deleting": false
          }
        }
      }
    },
    {
      "cell_type": "markdown",
      "source": [
        "## **Save errors to a Blob**"
      ],
      "metadata": {
        "nteract": {
          "transient": {
            "deleting": false
          }
        }
      }
    },
    {
      "cell_type": "code",
      "source": [
        "# Add the futureResultErrors to the scrapTextErrors and save to a blob.\n",
        "scrapTextErrors[\"futureResult\"]=futureResultErrors\n",
        "\n",
        "# Converting the values to string.\n",
        "for i, v in scrapTextErrors.items():\n",
        "    scrapTextErrors[i]=str(v)\n",
        "\n",
        "# Writing to blob.\n",
        "blob=BlobClient.from_connection_string(conn_str=connectionString, container_name=\"ml-errors\", blob_name=\"ScrapTextErrors.json\")\n",
        "blob.upload_blob(json.dumps(scrapTextErrors))"
      ],
      "outputs": [
        {
          "output_type": "execute_result",
          "execution_count": 40,
          "data": {
            "text/plain": "{'etag': '\"0x8DBA807F74564D4\"',\n 'last_modified': datetime.datetime(2023, 8, 28, 20, 47, 16, tzinfo=datetime.timezone.utc),\n 'content_md5': bytearray(b'\\xfd\\x7f\\x13-\\x8a\\x9dm\\xfd+\\xf7\\x958\\xc2G-q'),\n 'client_request_id': '130aa122-45e4-11ee-b78c-33c210a3064a',\n 'request_id': 'aafe567d-b01e-0029-75f0-d9a912000000',\n 'version': '2022-11-02',\n 'version_id': None,\n 'date': datetime.datetime(2023, 8, 28, 20, 47, 16, tzinfo=datetime.timezone.utc),\n 'request_server_encrypted': True,\n 'encryption_key_sha256': None,\n 'encryption_scope': None}"
          },
          "metadata": {}
        }
      ],
      "execution_count": 40,
      "metadata": {
        "jupyter": {
          "source_hidden": false,
          "outputs_hidden": false
        },
        "nteract": {
          "transient": {
            "deleting": false
          }
        },
        "gather": {
          "logged": 1693255601715
        }
      }
    },
    {
      "cell_type": "markdown",
      "source": [
        "The above errors occurred because those links do not have any content."
      ],
      "metadata": {
        "nteract": {
          "transient": {
            "deleting": false
          }
        }
      }
    },
    {
      "cell_type": "markdown",
      "source": [
        "## **Cleaning the datasets stored in blob container**\n",
        "\n",
        "Format URL to access each dataset: `https://<storage-account-name>.blob.core.windows.net/<blob-container-name>/<blob-name>`\n",
        "\n",
        "**1.** After reading the first file, I noticed there is an extra row at the end and it's `text` is `NaN`. This row also appears in the next file and its value is not `NaN` and needs to be removed. This does not happen to the last file.\n",
        "\n",
        "**2.** Also, a new column `Unnamed: 0` contains the original index. This column name needs to be renamed."
      ],
      "metadata": {
        "nteract": {
          "transient": {
            "deleting": false
          }
        }
      }
    },
    {
      "cell_type": "code",
      "source": [
        "# Read the first file.\n",
        "pd.read_csv(\"https://shivmldatasets.blob.core.windows.net/ml-datasets/gfg-articles-scrapped-1.csv\")"
      ],
      "outputs": [
        {
          "output_type": "execute_result",
          "execution_count": 48,
          "data": {
            "text/plain": "      Unnamed: 0                                              title  \\\n0              0             5 Best Practices For Writing SQL Joins   \n1              1                       Foundation CSS Dropdown Menu   \n2              2       Top 20 Excel Shortcuts That You Need To Know   \n3              3                          Servlet – Fetching Result   \n4              4                                   Suffix Sum Array   \n...          ...                                                ...   \n1020        1020   How to remove unused dependencies from composer?   \n1021        1021               Modulo or Remainder Operator in Java   \n1022        1022  Google’s Coding Competitions You Can Consider ...   \n1023        1023  Functional Programming in Java 8+ using the St...   \n1024        1024  Java Program to Make All the Array Elements Eq...   \n\n             author_id  last_updated  \\\n0          priyankab14  21 Feb, 2022   \n1     ishankhandelwals  20 Feb, 2022   \n2          priyankab14  17 Feb, 2022   \n3      nishatiwari1719  17 Feb, 2022   \n4             rohit768  21 Feb, 2022   \n...                ...           ...   \n1020     viditawasthi2  27 Jan, 2021   \n1021     tejswini2000k  23 Feb, 2022   \n1022         sanju6890  28 Jan, 2021   \n1023   dimpalagrawal21  09 Dec, 2021   \n1024          jyoti369  28 Jan, 2021   \n\n                                                   link category  \\\n0     https://www.geeksforgeeks.org/5-best-practices...     easy   \n1     https://www.geeksforgeeks.org/foundation-css-d...     easy   \n2     https://www.geeksforgeeks.org/top-20-excel-sho...     easy   \n3     https://www.geeksforgeeks.org/servlet-fetching...     easy   \n4       https://www.geeksforgeeks.org/suffix-sum-array/     easy   \n...                                                 ...      ...   \n1020  https://www.geeksforgeeks.org/how-to-remove-un...     easy   \n1021  https://www.geeksforgeeks.org/modulo-or-remain...     easy   \n1022  https://www.geeksforgeeks.org/googles-coding-c...     easy   \n1023  https://www.geeksforgeeks.org/functional-progr...     easy   \n1024  https://www.geeksforgeeks.org/java-program-to-...     easy   \n\n                                                   text  \n0     SQL (Structured Query Language) allows us to s...  \n1     Foundation CSS is an open-source & responsive ...  \n2     Although many of us are already aware of Micro...  \n3     Servlet is a simple java program that runs on ...  \n4     Suffix Sum ArrayGiven an array arr[] of size N...  \n...                                                 ...  \n1020  Removing unused Dependencies from Composer is ...  \n1021  Modulo or Remainder Operator returns the remai...  \n1022  Want to grow your coding skills, meet like-min...  \n1023  API is an acronym for Application Programming ...  \n1024                                                NaN  \n\n[1025 rows x 7 columns]",
            "text/html": "<div>\n<style scoped>\n    .dataframe tbody tr th:only-of-type {\n        vertical-align: middle;\n    }\n\n    .dataframe tbody tr th {\n        vertical-align: top;\n    }\n\n    .dataframe thead th {\n        text-align: right;\n    }\n</style>\n<table border=\"1\" class=\"dataframe\">\n  <thead>\n    <tr style=\"text-align: right;\">\n      <th></th>\n      <th>Unnamed: 0</th>\n      <th>title</th>\n      <th>author_id</th>\n      <th>last_updated</th>\n      <th>link</th>\n      <th>category</th>\n      <th>text</th>\n    </tr>\n  </thead>\n  <tbody>\n    <tr>\n      <th>0</th>\n      <td>0</td>\n      <td>5 Best Practices For Writing SQL Joins</td>\n      <td>priyankab14</td>\n      <td>21 Feb, 2022</td>\n      <td>https://www.geeksforgeeks.org/5-best-practices...</td>\n      <td>easy</td>\n      <td>SQL (Structured Query Language) allows us to s...</td>\n    </tr>\n    <tr>\n      <th>1</th>\n      <td>1</td>\n      <td>Foundation CSS Dropdown Menu</td>\n      <td>ishankhandelwals</td>\n      <td>20 Feb, 2022</td>\n      <td>https://www.geeksforgeeks.org/foundation-css-d...</td>\n      <td>easy</td>\n      <td>Foundation CSS is an open-source &amp; responsive ...</td>\n    </tr>\n    <tr>\n      <th>2</th>\n      <td>2</td>\n      <td>Top 20 Excel Shortcuts That You Need To Know</td>\n      <td>priyankab14</td>\n      <td>17 Feb, 2022</td>\n      <td>https://www.geeksforgeeks.org/top-20-excel-sho...</td>\n      <td>easy</td>\n      <td>Although many of us are already aware of Micro...</td>\n    </tr>\n    <tr>\n      <th>3</th>\n      <td>3</td>\n      <td>Servlet – Fetching Result</td>\n      <td>nishatiwari1719</td>\n      <td>17 Feb, 2022</td>\n      <td>https://www.geeksforgeeks.org/servlet-fetching...</td>\n      <td>easy</td>\n      <td>Servlet is a simple java program that runs on ...</td>\n    </tr>\n    <tr>\n      <th>4</th>\n      <td>4</td>\n      <td>Suffix Sum Array</td>\n      <td>rohit768</td>\n      <td>21 Feb, 2022</td>\n      <td>https://www.geeksforgeeks.org/suffix-sum-array/</td>\n      <td>easy</td>\n      <td>Suffix Sum ArrayGiven an array arr[] of size N...</td>\n    </tr>\n    <tr>\n      <th>...</th>\n      <td>...</td>\n      <td>...</td>\n      <td>...</td>\n      <td>...</td>\n      <td>...</td>\n      <td>...</td>\n      <td>...</td>\n    </tr>\n    <tr>\n      <th>1020</th>\n      <td>1020</td>\n      <td>How to remove unused dependencies from composer?</td>\n      <td>viditawasthi2</td>\n      <td>27 Jan, 2021</td>\n      <td>https://www.geeksforgeeks.org/how-to-remove-un...</td>\n      <td>easy</td>\n      <td>Removing unused Dependencies from Composer is ...</td>\n    </tr>\n    <tr>\n      <th>1021</th>\n      <td>1021</td>\n      <td>Modulo or Remainder Operator in Java</td>\n      <td>tejswini2000k</td>\n      <td>23 Feb, 2022</td>\n      <td>https://www.geeksforgeeks.org/modulo-or-remain...</td>\n      <td>easy</td>\n      <td>Modulo or Remainder Operator returns the remai...</td>\n    </tr>\n    <tr>\n      <th>1022</th>\n      <td>1022</td>\n      <td>Google’s Coding Competitions You Can Consider ...</td>\n      <td>sanju6890</td>\n      <td>28 Jan, 2021</td>\n      <td>https://www.geeksforgeeks.org/googles-coding-c...</td>\n      <td>easy</td>\n      <td>Want to grow your coding skills, meet like-min...</td>\n    </tr>\n    <tr>\n      <th>1023</th>\n      <td>1023</td>\n      <td>Functional Programming in Java 8+ using the St...</td>\n      <td>dimpalagrawal21</td>\n      <td>09 Dec, 2021</td>\n      <td>https://www.geeksforgeeks.org/functional-progr...</td>\n      <td>easy</td>\n      <td>API is an acronym for Application Programming ...</td>\n    </tr>\n    <tr>\n      <th>1024</th>\n      <td>1024</td>\n      <td>Java Program to Make All the Array Elements Eq...</td>\n      <td>jyoti369</td>\n      <td>28 Jan, 2021</td>\n      <td>https://www.geeksforgeeks.org/java-program-to-...</td>\n      <td>easy</td>\n      <td>NaN</td>\n    </tr>\n  </tbody>\n</table>\n<p>1025 rows × 7 columns</p>\n</div>"
          },
          "metadata": {}
        }
      ],
      "execution_count": 48,
      "metadata": {
        "jupyter": {
          "source_hidden": false,
          "outputs_hidden": false
        },
        "nteract": {
          "transient": {
            "deleting": false
          }
        },
        "gather": {
          "logged": 1693256617627
        }
      }
    },
    {
      "cell_type": "code",
      "source": [
        "# Read the last file.\n",
        "pd.read_csv(\"https://shivmldatasets.blob.core.windows.net/ml-datasets/gfg-articles-scrapped-34.csv\")"
      ],
      "outputs": [
        {
          "output_type": "execute_result",
          "execution_count": 47,
          "data": {
            "text/plain": "     Unnamed: 0                                              title  \\\n0         33792  Maximum sum of Array formed by replacing each ...   \n1         33793  Smallest N digit number whose sum of square of...   \n2         33794  Minimum length subarray containing all unique ...   \n3         33795                              Memory Access Methods   \n4         33796  Count of subsequences whose product is a diffe...   \n..          ...                                                ...   \n754       34546              Data Structures | Queue | Question 11   \n755       34547        Data Structures | Binary Trees | Question 1   \n756       34548                           Amazon Interview | Set 9   \n757       34549  Python Program for Rat in a Maze | Backtracking-2   \n758       34550            Data Structures and Algorithms | Set 21   \n\n               author_id  last_updated  \\\n0               coder001  29 Oct, 2021   \n1              king_tsar  17 Feb, 2022   \n2          Sanjit_Prasad  18 Nov, 2021   \n3    rajkumarupadhyay515  26 Jul, 2021   \n4         sauravlal_2233  17 Nov, 2021   \n..                   ...           ...   \n754        GeeksforGeeks  28 Jun, 2021   \n755        GeeksforGeeks  28 Jun, 2021   \n756        GeeksforGeeks  28 Apr, 2017   \n757        GeeksforGeeks  02 Aug, 2021   \n758        GeeksforGeeks  27 Mar, 2017   \n\n                                                  link category  \\\n0    https://www.geeksforgeeks.org/maximum-sum-of-a...   expert   \n1    https://www.geeksforgeeks.org/smallest-n-digit...   expert   \n2    https://www.geeksforgeeks.org/minimum-length-s...   expert   \n3    https://www.geeksforgeeks.org/memory-access-me...   expert   \n4    https://www.geeksforgeeks.org/count-of-subsequ...   expert   \n..                                                 ...      ...   \n754  https://www.geeksforgeeks.org/data-structures-...   expert   \n755  https://www.geeksforgeeks.org/data-structures-...   expert   \n756  https://www.geeksforgeeks.org/amazon-interview...   expert   \n757  https://www.geeksforgeeks.org/python-program-f...   expert   \n758  https://www.geeksforgeeks.org/data-structures-...   expert   \n\n                                                  text  \n0    Given an array arr[] of size N , the task is t...  \n1    Given an integer N, find the smallest N digit ...  \n2    Given an array of size N containing all elemen...  \n3    These are 4 types of memory access methods:\\n1...  \n4    Given an array arr[] containing N elements tha...  \n..                                                 ...  \n754  An implementation of a queue Q, using two stac...  \n755  Which of the following is true about Binary Tr...  \n756  How did it start?\\nI completed and submitted t...  \n757  We have discussed Backtracking and Knight’s to...  \n758  Following questions have been asked in GATE CS...  \n\n[759 rows x 7 columns]",
            "text/html": "<div>\n<style scoped>\n    .dataframe tbody tr th:only-of-type {\n        vertical-align: middle;\n    }\n\n    .dataframe tbody tr th {\n        vertical-align: top;\n    }\n\n    .dataframe thead th {\n        text-align: right;\n    }\n</style>\n<table border=\"1\" class=\"dataframe\">\n  <thead>\n    <tr style=\"text-align: right;\">\n      <th></th>\n      <th>Unnamed: 0</th>\n      <th>title</th>\n      <th>author_id</th>\n      <th>last_updated</th>\n      <th>link</th>\n      <th>category</th>\n      <th>text</th>\n    </tr>\n  </thead>\n  <tbody>\n    <tr>\n      <th>0</th>\n      <td>33792</td>\n      <td>Maximum sum of Array formed by replacing each ...</td>\n      <td>coder001</td>\n      <td>29 Oct, 2021</td>\n      <td>https://www.geeksforgeeks.org/maximum-sum-of-a...</td>\n      <td>expert</td>\n      <td>Given an array arr[] of size N , the task is t...</td>\n    </tr>\n    <tr>\n      <th>1</th>\n      <td>33793</td>\n      <td>Smallest N digit number whose sum of square of...</td>\n      <td>king_tsar</td>\n      <td>17 Feb, 2022</td>\n      <td>https://www.geeksforgeeks.org/smallest-n-digit...</td>\n      <td>expert</td>\n      <td>Given an integer N, find the smallest N digit ...</td>\n    </tr>\n    <tr>\n      <th>2</th>\n      <td>33794</td>\n      <td>Minimum length subarray containing all unique ...</td>\n      <td>Sanjit_Prasad</td>\n      <td>18 Nov, 2021</td>\n      <td>https://www.geeksforgeeks.org/minimum-length-s...</td>\n      <td>expert</td>\n      <td>Given an array of size N containing all elemen...</td>\n    </tr>\n    <tr>\n      <th>3</th>\n      <td>33795</td>\n      <td>Memory Access Methods</td>\n      <td>rajkumarupadhyay515</td>\n      <td>26 Jul, 2021</td>\n      <td>https://www.geeksforgeeks.org/memory-access-me...</td>\n      <td>expert</td>\n      <td>These are 4 types of memory access methods:\\n1...</td>\n    </tr>\n    <tr>\n      <th>4</th>\n      <td>33796</td>\n      <td>Count of subsequences whose product is a diffe...</td>\n      <td>sauravlal_2233</td>\n      <td>17 Nov, 2021</td>\n      <td>https://www.geeksforgeeks.org/count-of-subsequ...</td>\n      <td>expert</td>\n      <td>Given an array arr[] containing N elements tha...</td>\n    </tr>\n    <tr>\n      <th>...</th>\n      <td>...</td>\n      <td>...</td>\n      <td>...</td>\n      <td>...</td>\n      <td>...</td>\n      <td>...</td>\n      <td>...</td>\n    </tr>\n    <tr>\n      <th>754</th>\n      <td>34546</td>\n      <td>Data Structures | Queue | Question 11</td>\n      <td>GeeksforGeeks</td>\n      <td>28 Jun, 2021</td>\n      <td>https://www.geeksforgeeks.org/data-structures-...</td>\n      <td>expert</td>\n      <td>An implementation of a queue Q, using two stac...</td>\n    </tr>\n    <tr>\n      <th>755</th>\n      <td>34547</td>\n      <td>Data Structures | Binary Trees | Question 1</td>\n      <td>GeeksforGeeks</td>\n      <td>28 Jun, 2021</td>\n      <td>https://www.geeksforgeeks.org/data-structures-...</td>\n      <td>expert</td>\n      <td>Which of the following is true about Binary Tr...</td>\n    </tr>\n    <tr>\n      <th>756</th>\n      <td>34548</td>\n      <td>Amazon Interview | Set 9</td>\n      <td>GeeksforGeeks</td>\n      <td>28 Apr, 2017</td>\n      <td>https://www.geeksforgeeks.org/amazon-interview...</td>\n      <td>expert</td>\n      <td>How did it start?\\nI completed and submitted t...</td>\n    </tr>\n    <tr>\n      <th>757</th>\n      <td>34549</td>\n      <td>Python Program for Rat in a Maze | Backtracking-2</td>\n      <td>GeeksforGeeks</td>\n      <td>02 Aug, 2021</td>\n      <td>https://www.geeksforgeeks.org/python-program-f...</td>\n      <td>expert</td>\n      <td>We have discussed Backtracking and Knight’s to...</td>\n    </tr>\n    <tr>\n      <th>758</th>\n      <td>34550</td>\n      <td>Data Structures and Algorithms | Set 21</td>\n      <td>GeeksforGeeks</td>\n      <td>27 Mar, 2017</td>\n      <td>https://www.geeksforgeeks.org/data-structures-...</td>\n      <td>expert</td>\n      <td>Following questions have been asked in GATE CS...</td>\n    </tr>\n  </tbody>\n</table>\n<p>759 rows × 7 columns</p>\n</div>"
          },
          "metadata": {}
        }
      ],
      "execution_count": 47,
      "metadata": {
        "jupyter": {
          "source_hidden": false,
          "outputs_hidden": false
        },
        "nteract": {
          "transient": {
            "deleting": false
          }
        },
        "gather": {
          "logged": 1693256394141
        }
      }
    },
    {
      "cell_type": "code",
      "source": [
        "# Clean the datasets.\n",
        "for i in range(1, 35):\n",
        "    articlesi=pd.read_csv(f\"https://shivmldatasets.blob.core.windows.net/ml-datasets/gfg-articles-scrapped-{i}.csv\")\n",
        "    # Remove last row.\n",
        "    if i!=34:\n",
        "        articlesi.drop(articlesi.shape[0]-1, inplace=True)\n",
        "    # Rename column.\n",
        "    articlesi.rename(columns={\"Unnamed: 0\": \"id\"}, inplace=True)\n",
        "    # Save to blob.\n",
        "    blob=BlobClient.from_connection_string(conn_str=connectionString, container_name=\"ml-datasets\", blob_name=f\"gfg-articles-scrapped-{i}.csv\")\n",
        "    blob.upload_blob(articlesi.to_csv(), overwrite=True)"
      ],
      "outputs": [],
      "execution_count": 57,
      "metadata": {
        "jupyter": {
          "source_hidden": false,
          "outputs_hidden": false
        },
        "nteract": {
          "transient": {
            "deleting": false
          }
        },
        "gather": {
          "logged": 1693257540476
        }
      }
    }
  ],
  "metadata": {
    "colab": {
      "provenance": [],
      "authorship_tag": "ABX9TyOSztwXH+1bB2Q16wguXXUm",
      "include_colab_link": true
    },
    "kernelspec": {
      "name": "python3",
      "language": "python",
      "display_name": "Python 3 (ipykernel)"
    },
    "language_info": {
      "name": "python",
      "version": "3.8.5",
      "mimetype": "text/x-python",
      "codemirror_mode": {
        "name": "ipython",
        "version": 3
      },
      "pygments_lexer": "ipython3",
      "nbconvert_exporter": "python",
      "file_extension": ".py"
    },
    "microsoft": {
      "ms_spell_check": {
        "ms_spell_check_language": "en"
      },
      "host": {
        "AzureML": {
          "notebookHasBeenCompleted": true
        }
      }
    },
    "kernel_info": {
      "name": "python3"
    },
    "nteract": {
      "version": "nteract-front-end@1.0.0"
    }
  },
  "nbformat": 4,
  "nbformat_minor": 0
}